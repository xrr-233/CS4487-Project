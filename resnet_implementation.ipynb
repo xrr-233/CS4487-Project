{
 "cells": [
  {
   "cell_type": "code",
   "execution_count": 18,
   "outputs": [],
   "source": [
    "import torch\n",
    "import torch.nn as nn"
   ],
   "metadata": {
    "collapsed": false
   }
  },
  {
   "cell_type": "code",
   "execution_count": 19,
   "outputs": [],
   "source": [
    "class ResidualModule(nn.Module): # for resnet 18 and resnet 34\n",
    "    def __init__(self, input_channel, output_channel, stride=1):\n",
    "        super().__init__()\n",
    "        self.module1 = nn.Conv2d(input_channel, output_channel, 3, stride, padding=1)\n",
    "        self.module2 = nn.Conv2d(output_channel, output_channel, 3, padding=1)\n",
    "        self.layers = nn.Sequential(\n",
    "            self.module1,\n",
    "            nn.BatchNorm2d(output_channel),\n",
    "            nn.ReLU(inplace=True),\n",
    "            self.module2,\n",
    "            nn.BatchNorm2d(output_channel),\n",
    "        )\n",
    "\n",
    "        if (input_channel != output_channel):\n",
    "            self.shortcut = nn.Sequential(\n",
    "                nn.Conv2d(input_channel, output_channel, 1, stride),\n",
    "                nn.BatchNorm2d(output_channel),\n",
    "            )\n",
    "        else:\n",
    "            self.shortcut = nn.Sequential()\n",
    "\n",
    "    def forward(self, X):\n",
    "        return nn.ReLU(inplace=True)(self.shortcut(X) + self.layers(X))"
   ],
   "metadata": {
    "collapsed": false
   }
  },
  {
   "cell_type": "code",
   "execution_count": 20,
   "outputs": [],
   "source": [
    "class ResidualModuleBottleNeck(nn.Module): # for resnet >=50\n",
    "    def __init__(self, input_channel, output_channel, stride=1):\n",
    "        super().__init__()\n",
    "        self.module1 = nn.Conv2d(input_channel, output_channel / 4, 1)\n",
    "        self.module2 = nn.Conv2d(output_channel / 4, output_channel / 4, 3, stride, padding=1)\n",
    "        self.module3 = nn.Conv2d(output_channel / 4, output_channel, 1)\n",
    "        self.layers = nn.Sequential(\n",
    "            self.module1,\n",
    "            nn.BatchNorm2d(output_channel / 4),\n",
    "            nn.ReLU(),\n",
    "            self.module2,\n",
    "            nn.BatchNorm2d(output_channel / 4),\n",
    "            nn.ReLU(),\n",
    "            self.module3,\n",
    "            nn.BatchNorm2d(output_channel),\n",
    "        )\n",
    "\n",
    "        if (input_channel != output_channel):\n",
    "            self.shortcut = nn.Sequential(\n",
    "                nn.Conv2d(input_channel, output_channel, 1, stride),\n",
    "                nn.BatchNorm2d(output_channel),\n",
    "            )\n",
    "        else:\n",
    "            self.shortcut = nn.Sequential()\n",
    "\n",
    "    def forward(self, X):\n",
    "        return nn.ReLU(self.shortcut(X) + self.layers(X))"
   ],
   "metadata": {
    "collapsed": false
   }
  },
  {
   "cell_type": "code",
   "execution_count": 21,
   "outputs": [],
   "source": [
    "class ConvLayer(nn.Module):\n",
    "    def __init__(self, residual_module_type, input_channel, output_channel, depth, first_stride=1):\n",
    "        super().__init__()\n",
    "        self.modules = [residual_module_type(input_channel, output_channel, first_stride)]\n",
    "        for i in range(1, depth):\n",
    "            self.modules.append(residual_module_type(output_channel, output_channel))\n",
    "        self.layers = nn.ModuleList(self.modules)\n",
    "\n",
    "    def forward(self, X):\n",
    "        for module in self.layers:\n",
    "            X = module(X)\n",
    "        return X"
   ],
   "metadata": {
    "collapsed": false
   }
  },
  {
   "cell_type": "code",
   "execution_count": 22,
   "outputs": [],
   "source": [
    "class ResNet(nn.Module):\n",
    "    def __init__(self, residual_module_type, residual_module_depth, num_classes=2):\n",
    "        super().__init__()\n",
    "\n",
    "        self.init_block = nn.Sequential(\n",
    "            nn.Conv2d(3, 64, 7, 2, padding=3),\n",
    "            nn.MaxPool2d(3, 2)\n",
    "        )\n",
    "\n",
    "        self.layer1 = ConvLayer(residual_module_type, 64, 64, residual_module_depth[0])\n",
    "        self.layer2 = ConvLayer(residual_module_type, 64, 128, residual_module_depth[1], first_stride=2)\n",
    "        self.layer3 = ConvLayer(residual_module_type, 128, 256, residual_module_depth[2], first_stride=2)\n",
    "        self.layer4 = ConvLayer(residual_module_type, 256, 512, residual_module_depth[3], first_stride=2)\n",
    "\n",
    "        self.avg_pool = nn.AdaptiveAvgPool2d((1, 1))\n",
    "        self.fc = nn.Sequential(\n",
    "            nn.Linear(512, num_classes),\n",
    "            nn.Softmax(dim=1),\n",
    "        )\n",
    "\n",
    "    def forward(self, X):\n",
    "        X = self.init_block(X)\n",
    "        X = self.layer1(X)\n",
    "        X = self.layer2(X)\n",
    "        X = self.layer3(X)\n",
    "        X = self.layer4(X)\n",
    "        X = self.avg_pool(X)\n",
    "        X = X.view(X.size(0), -1)\n",
    "        X = self.fc(X)\n",
    "        return X"
   ],
   "metadata": {
    "collapsed": false
   }
  },
  {
   "cell_type": "code",
   "execution_count": 23,
   "outputs": [
    {
     "name": "stdout",
     "output_type": "stream",
     "text": [
      "processing fake datasets\n"
     ]
    },
    {
     "name": "stderr",
     "output_type": "stream",
     "text": [
      "100%|██████████| 8000/8000 [00:20<00:00, 399.18it/s]\n"
     ]
    },
    {
     "name": "stdout",
     "output_type": "stream",
     "text": [
      "processing true datasets\n"
     ]
    },
    {
     "name": "stderr",
     "output_type": "stream",
     "text": [
      "100%|██████████| 4000/4000 [00:09<00:00, 409.24it/s]\n"
     ]
    },
    {
     "name": "stdout",
     "output_type": "stream",
     "text": [
      "(12000, 3, 299, 299)\n",
      "(12000, 2)\n",
      "9600\n",
      "1200\n",
      "1200\n"
     ]
    }
   ],
   "source": [
    "import os\n",
    "import numpy as np\n",
    "from PIL import Image\n",
    "from tqdm import tqdm\n",
    "\n",
    "X = []\n",
    "y = []\n",
    "manipulated_path = './data/manipulated'\n",
    "original_path = './data/original'\n",
    "print(\"processing fake datasets\")\n",
    "for img_name in tqdm(os.listdir(manipulated_path)):\n",
    "    X.append(np.array(Image.open(f'{manipulated_path}/{img_name}')))\n",
    "    y.append([1, 0])\n",
    "print(\"processing true datasets\")\n",
    "for img_name in tqdm(os.listdir(original_path)):\n",
    "    X.append(np.array(Image.open(f'{original_path}/{img_name}')))\n",
    "    y.append([0, 1])\n",
    "X = np.array(X).swapaxes(3, 1).swapaxes(3, 2)\n",
    "y = np.array(y)\n",
    "print(X.shape)\n",
    "print(y.shape)\n",
    "\n",
    "np.random.seed(42)\n",
    "indices = np.random.permutation(X.shape[0])\n",
    "X_shuffled = []\n",
    "y_shuffled = []\n",
    "for i in range(X.shape[0]):\n",
    "    X_shuffled.append(X[indices[i]])\n",
    "    y_shuffled.append(y[indices[i]])\n",
    "X_shuffled = np.array(X_shuffled, dtype=np.float32)\n",
    "y_shuffled = np.array(y_shuffled, dtype=np.float32)\n",
    "train_X = X_shuffled[:int(X.shape[0] * 0.8)]\n",
    "train_y = y_shuffled[:int(X.shape[0] * 0.8)]\n",
    "valid_X = X_shuffled[int(X.shape[0] * 0.8):int(X.shape[0] * 0.9)]\n",
    "valid_y = y_shuffled[int(X.shape[0] * 0.8):int(X.shape[0] * 0.9)]\n",
    "test_X = X_shuffled[int(X.shape[0] * 0.9):]\n",
    "test_y = y_shuffled[int(X.shape[0] * 0.9):]\n",
    "print(train_X.shape[0])\n",
    "print(valid_X.shape[0])\n",
    "print(test_X.shape[0])"
   ],
   "metadata": {
    "collapsed": false
   }
  },
  {
   "cell_type": "code",
   "execution_count": 24,
   "outputs": [],
   "source": [
    "import math\n",
    "\n",
    "def process_epoch(X, y, model, opt=None, batch_size=1):\n",
    "    if opt:\n",
    "        model.train()\n",
    "    else:\n",
    "        model.eval()\n",
    "\n",
    "    loss_func = nn.CrossEntropyLoss()\n",
    "    correct, loss_sum, n_step, n_samples = 0, 0, 0, 0\n",
    "\n",
    "    iter = math.ceil(X.shape[0] / batch_size)\n",
    "    for batch in tqdm(range(iter)):\n",
    "        X_batch = X[batch * batch_size:min((batch + 1) * batch_size, X.shape[0])][:, :, :224, :224]\n",
    "        y_batch = y[batch * batch_size:min((batch + 1) * batch_size, X.shape[0])]\n",
    "        if opt:\n",
    "            opt.zero_grad()\n",
    "        pred_y = model(torch.tensor(X_batch).cuda())\n",
    "        loss = loss_func(pred_y, torch.tensor(y_batch).cuda())\n",
    "        correct += np.sum(np.array(pred_y.cpu().detach().numpy().argmax(axis=1) == y_batch.argmax(axis=1), dtype=np.int64))\n",
    "        if opt:\n",
    "            loss.backward()\n",
    "            opt.step()\n",
    "        loss_sum += loss.cpu().detach().numpy()\n",
    "        n_step += 1\n",
    "        n_samples += X_batch.shape[0]\n",
    "\n",
    "    return 1 - correct / n_samples, loss_sum / n_step\n",
    "\n",
    "def train(\n",
    "        batch_size=100,\n",
    "        epochs=10,\n",
    "        optimizer=torch.optim.Adam,\n",
    "        lr=0.001,\n",
    "        weight_decay=0.001,\n",
    "        model=None):\n",
    "\n",
    "    if(model == None):\n",
    "        print(\"Please choose a type of ResNet!\")\n",
    "        return\n",
    "\n",
    "    opt = optimizer(model.parameters(), lr=lr, weight_decay=weight_decay)\n",
    "\n",
    "    for epoch in range(epochs):\n",
    "        print(f\"Epoch {epoch}: \")\n",
    "        train_acc, train_loss = process_epoch(train_X, train_y, model, batch_size=batch_size, opt=opt)\n",
    "        test_acc, test_loss = process_epoch(test_X, test_y, model, batch_size=batch_size)\n",
    "        print(f\"Train Accuracy: {round(train_acc, 3)} Test Accuracy: {round(test_acc, 3)}\")"
   ],
   "metadata": {
    "collapsed": false
   }
  },
  {
   "cell_type": "code",
   "execution_count": 25,
   "outputs": [
    {
     "name": "stdout",
     "output_type": "stream",
     "text": [
      "Epoch 0: \n"
     ]
    },
    {
     "name": "stderr",
     "output_type": "stream",
     "text": [
      "100%|██████████| 96/96 [00:19<00:00,  4.99it/s]\n",
      "100%|██████████| 12/12 [00:00<00:00, 13.72it/s]\n"
     ]
    },
    {
     "name": "stdout",
     "output_type": "stream",
     "text": [
      "Train Accuracy: 0.338 Test Accuracy: 0.322\n",
      "Epoch 1: \n"
     ]
    },
    {
     "name": "stderr",
     "output_type": "stream",
     "text": [
      "100%|██████████| 96/96 [00:19<00:00,  5.04it/s]\n",
      "100%|██████████| 12/12 [00:00<00:00, 14.32it/s]\n"
     ]
    },
    {
     "name": "stdout",
     "output_type": "stream",
     "text": [
      "Train Accuracy: 0.332 Test Accuracy: 0.322\n",
      "Epoch 2: \n"
     ]
    },
    {
     "name": "stderr",
     "output_type": "stream",
     "text": [
      "100%|██████████| 96/96 [00:19<00:00,  5.00it/s]\n",
      "100%|██████████| 12/12 [00:00<00:00, 14.35it/s]\n"
     ]
    },
    {
     "name": "stdout",
     "output_type": "stream",
     "text": [
      "Train Accuracy: 0.333 Test Accuracy: 0.322\n",
      "Epoch 3: \n"
     ]
    },
    {
     "name": "stderr",
     "output_type": "stream",
     "text": [
      "100%|██████████| 96/96 [00:19<00:00,  5.05it/s]\n",
      "100%|██████████| 12/12 [00:00<00:00, 14.07it/s]\n"
     ]
    },
    {
     "name": "stdout",
     "output_type": "stream",
     "text": [
      "Train Accuracy: 0.332 Test Accuracy: 0.322\n",
      "Epoch 4: \n"
     ]
    },
    {
     "name": "stderr",
     "output_type": "stream",
     "text": [
      "100%|██████████| 96/96 [00:19<00:00,  5.00it/s]\n",
      "100%|██████████| 12/12 [00:00<00:00, 13.88it/s]\n"
     ]
    },
    {
     "name": "stdout",
     "output_type": "stream",
     "text": [
      "Train Accuracy: 0.332 Test Accuracy: 0.322\n",
      "Epoch 5: \n"
     ]
    },
    {
     "name": "stderr",
     "output_type": "stream",
     "text": [
      "100%|██████████| 96/96 [00:19<00:00,  5.04it/s]\n",
      "100%|██████████| 12/12 [00:00<00:00, 14.11it/s]\n"
     ]
    },
    {
     "name": "stdout",
     "output_type": "stream",
     "text": [
      "Train Accuracy: 0.332 Test Accuracy: 0.322\n",
      "Epoch 6: \n"
     ]
    },
    {
     "name": "stderr",
     "output_type": "stream",
     "text": [
      "100%|██████████| 96/96 [00:19<00:00,  5.02it/s]\n",
      "100%|██████████| 12/12 [00:00<00:00, 13.96it/s]\n"
     ]
    },
    {
     "name": "stdout",
     "output_type": "stream",
     "text": [
      "Train Accuracy: 0.332 Test Accuracy: 0.322\n",
      "Epoch 7: \n"
     ]
    },
    {
     "name": "stderr",
     "output_type": "stream",
     "text": [
      "100%|██████████| 96/96 [00:19<00:00,  5.04it/s]\n",
      "100%|██████████| 12/12 [00:00<00:00, 13.82it/s]\n"
     ]
    },
    {
     "name": "stdout",
     "output_type": "stream",
     "text": [
      "Train Accuracy: 0.332 Test Accuracy: 0.322\n",
      "Epoch 8: \n"
     ]
    },
    {
     "name": "stderr",
     "output_type": "stream",
     "text": [
      "100%|██████████| 96/96 [00:19<00:00,  4.96it/s]\n",
      "100%|██████████| 12/12 [00:00<00:00, 13.61it/s]\n"
     ]
    },
    {
     "name": "stdout",
     "output_type": "stream",
     "text": [
      "Train Accuracy: 0.332 Test Accuracy: 0.322\n",
      "Epoch 9: \n"
     ]
    },
    {
     "name": "stderr",
     "output_type": "stream",
     "text": [
      "100%|██████████| 96/96 [00:19<00:00,  4.98it/s]\n",
      "100%|██████████| 12/12 [00:00<00:00, 13.87it/s]"
     ]
    },
    {
     "name": "stdout",
     "output_type": "stream",
     "text": [
      "Train Accuracy: 0.332 Test Accuracy: 0.322\n"
     ]
    },
    {
     "name": "stderr",
     "output_type": "stream",
     "text": [
      "\n"
     ]
    }
   ],
   "source": [
    "device = torch.device('cuda' if torch.cuda.is_available() else 'cpu')\n",
    "\n",
    "train(model=ResNet(ResidualModule, [3, 4, 6, 3]).to(device))"
   ],
   "metadata": {
    "collapsed": false
   }
  }
 ],
 "metadata": {
  "kernelspec": {
   "display_name": "Python 3",
   "language": "python",
   "name": "python3"
  },
  "language_info": {
   "codemirror_mode": {
    "name": "ipython",
    "version": 2
   },
   "file_extension": ".py",
   "mimetype": "text/x-python",
   "name": "python",
   "nbconvert_exporter": "python",
   "pygments_lexer": "ipython2",
   "version": "2.7.6"
  }
 },
 "nbformat": 4,
 "nbformat_minor": 0
}
