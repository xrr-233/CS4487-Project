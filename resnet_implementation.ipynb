{
 "cells": [
  {
   "cell_type": "code",
   "execution_count": 2,
   "metadata": {
    "collapsed": true
   },
   "outputs": [],
   "source": [
    "import torch\n",
    "import torch.nn as nn"
   ]
  },
  {
   "cell_type": "code",
   "execution_count": 91,
   "outputs": [],
   "source": [
    "class ResidualModule(nn.Module): # for resnet 18 and resnet 34\n",
    "    def __init__(self, input_channel, output_channel, stride=1):\n",
    "        super().__init__()\n",
    "        self.module1 = nn.Conv2d(input_channel, output_channel, 3, stride, padding=1)\n",
    "        self.module2 = nn.Conv2d(output_channel, output_channel, 3, padding=1)\n",
    "        self.layers = nn.Sequential(\n",
    "            self.module1,\n",
    "            nn.BatchNorm2d(output_channel),\n",
    "            nn.ReLU(inplace=True),\n",
    "            self.module2,\n",
    "            nn.BatchNorm2d(output_channel),\n",
    "        )\n",
    "\n",
    "        if (input_channel != output_channel):\n",
    "            self.shortcut = nn.Sequential(\n",
    "                nn.Conv2d(input_channel, output_channel, 1, stride),\n",
    "                nn.BatchNorm2d(output_channel),\n",
    "            )\n",
    "        else:\n",
    "            self.shortcut = nn.Sequential()\n",
    "\n",
    "    def forward(self, X):\n",
    "        return nn.ReLU(inplace=True)(self.shortcut(X) + self.layers(X))"
   ],
   "metadata": {
    "collapsed": false
   }
  },
  {
   "cell_type": "code",
   "execution_count": 79,
   "outputs": [],
   "source": [
    "class ResidualModuleBottleNeck(nn.Module): # for resnet >=50\n",
    "    def __init__(self, input_channel, output_channel, stride=1):\n",
    "        super().__init__()\n",
    "        self.module1 = nn.Conv2d(input_channel, output_channel / 4, 1)\n",
    "        self.module2 = nn.Conv2d(output_channel / 4, output_channel / 4, 3, stride, padding=1)\n",
    "        self.module3 = nn.Conv2d(output_channel / 4, output_channel, 1)\n",
    "        self.layers = nn.Sequential(\n",
    "            self.module1,\n",
    "            nn.BatchNorm2d(output_channel / 4),\n",
    "            nn.ReLU(),\n",
    "            self.module2,\n",
    "            nn.BatchNorm2d(output_channel / 4),\n",
    "            nn.ReLU(),\n",
    "            self.module3,\n",
    "            nn.BatchNorm2d(output_channel),\n",
    "        )\n",
    "\n",
    "        if (input_channel != output_channel):\n",
    "            self.shortcut = nn.Sequential(\n",
    "                nn.Conv2d(input_channel, output_channel, 1, stride),\n",
    "                nn.BatchNorm2d(output_channel),\n",
    "            )\n",
    "        else:\n",
    "            self.shortcut = nn.Sequential()\n",
    "\n",
    "    def forward(self, X):\n",
    "        return nn.ReLU(self.shortcut(X) + self.layers(X))"
   ],
   "metadata": {
    "collapsed": false
   }
  },
  {
   "cell_type": "code",
   "execution_count": 80,
   "outputs": [],
   "source": [
    "class ConvLayer(nn.Module):\n",
    "    def __init__(self, residual_module_type, input_channel, output_channel, depth, first_stride=1):\n",
    "        super().__init__()\n",
    "        self.modules = [residual_module_type(input_channel, output_channel, first_stride)]\n",
    "        for i in range(1, depth):\n",
    "            self.modules.append(residual_module_type(output_channel, output_channel))\n",
    "        self.layers = nn.ModuleList(self.modules)\n",
    "\n",
    "    def forward(self, X):\n",
    "        for module in self.layers:\n",
    "            X = module(X)\n",
    "        return X"
   ],
   "metadata": {
    "collapsed": false
   }
  },
  {
   "cell_type": "code",
   "execution_count": 104,
   "outputs": [],
   "source": [
    "class ResNet(nn.Module):\n",
    "    def __init__(self, residual_module_type, residual_module_depth, num_classes=2):\n",
    "        super().__init__()\n",
    "\n",
    "        self.init_block = nn.Sequential(\n",
    "            nn.Conv2d(3, 64, 7, 2, padding=3),\n",
    "            nn.MaxPool2d(3, 2)\n",
    "        )\n",
    "\n",
    "        self.layer1 = ConvLayer(residual_module_type, 64, 64, residual_module_depth[0])\n",
    "        self.layer2 = ConvLayer(residual_module_type, 64, 128, residual_module_depth[1], first_stride=2)\n",
    "        self.layer3 = ConvLayer(residual_module_type, 128, 256, residual_module_depth[2], first_stride=2)\n",
    "        self.layer4 = ConvLayer(residual_module_type, 256, 512, residual_module_depth[3], first_stride=2)\n",
    "\n",
    "        self.avg_pool = nn.AdaptiveAvgPool2d((1, 1))\n",
    "        self.fc = nn.Sequential(\n",
    "            nn.Linear(512, num_classes),\n",
    "            nn.Softmax(dim=1),\n",
    "        )\n",
    "\n",
    "    def forward(self, X):\n",
    "        X = self.init_block(X)\n",
    "        X = self.layer1(X)\n",
    "        X = self.layer2(X)\n",
    "        X = self.layer3(X)\n",
    "        X = self.layer4(X)\n",
    "        X = self.avg_pool(X)\n",
    "        X = X.view(X.size(0), -1)\n",
    "        X = self.fc(X)\n",
    "        return X"
   ],
   "metadata": {
    "collapsed": false
   }
  },
  {
   "cell_type": "code",
   "execution_count": 26,
   "outputs": [
    {
     "name": "stdout",
     "output_type": "stream",
     "text": [
      "processing fake datasets\n"
     ]
    },
    {
     "name": "stderr",
     "output_type": "stream",
     "text": [
      "100%|██████████| 8000/8000 [00:19<00:00, 415.04it/s]\n"
     ]
    },
    {
     "name": "stdout",
     "output_type": "stream",
     "text": [
      "processing true datasets\n"
     ]
    },
    {
     "name": "stderr",
     "output_type": "stream",
     "text": [
      "100%|██████████| 4000/4000 [00:09<00:00, 417.90it/s]\n"
     ]
    },
    {
     "name": "stdout",
     "output_type": "stream",
     "text": [
      "(12000, 3, 299, 299)\n",
      "(12000, 2)\n"
     ]
    }
   ],
   "source": [
    "import os\n",
    "import numpy as np\n",
    "from PIL import Image\n",
    "from tqdm import tqdm\n",
    "\n",
    "X = []\n",
    "y = []\n",
    "manipulated_path = './data/manipulated'\n",
    "original_path = './data/original'\n",
    "print(\"processing fake datasets\")\n",
    "for img_name in tqdm(os.listdir(manipulated_path)):\n",
    "    X.append(np.array(Image.open(f'{manipulated_path}/{img_name}')))\n",
    "    y.append([1, 0])\n",
    "print(\"processing true datasets\")\n",
    "for img_name in tqdm(os.listdir(original_path)):\n",
    "    X.append(np.array(Image.open(f'{original_path}/{img_name}')))\n",
    "    y.append([0, 1])\n",
    "X = np.array(X).swapaxes(3, 1).swapaxes(3, 2)\n",
    "y = np.array(y)\n",
    "print(X.shape)\n",
    "print(y.shape)"
   ],
   "metadata": {
    "collapsed": false
   }
  },
  {
   "cell_type": "code",
   "execution_count": 29,
   "outputs": [
    {
     "name": "stdout",
     "output_type": "stream",
     "text": [
      "9600\n",
      "1200\n",
      "1200\n"
     ]
    }
   ],
   "source": [
    "np.random.seed(42)\n",
    "indices = np.random.permutation(X.shape[0])\n",
    "X_shuffled = []\n",
    "y_shuffled = []\n",
    "for i in range(X.shape[0]):\n",
    "    X_shuffled.append(X[indices[i]])\n",
    "    y_shuffled.append(y[indices[i]])\n",
    "X_shuffled = np.array(X_shuffled, dtype=np.float32)\n",
    "y_shuffled = np.array(y_shuffled, dtype=np.float32)\n",
    "train_X = X_shuffled[:int(X.shape[0] * 0.8)]\n",
    "train_y = y_shuffled[:int(X.shape[0] * 0.8)]\n",
    "valid_X = X_shuffled[int(X.shape[0] * 0.8):int(X.shape[0] * 0.9)]\n",
    "valid_y = y_shuffled[int(X.shape[0] * 0.8):int(X.shape[0] * 0.9)]\n",
    "test_X = X_shuffled[int(X.shape[0] * 0.9):]\n",
    "test_y = y_shuffled[int(X.shape[0] * 0.9):]\n",
    "print(train_X.shape[0])\n",
    "print(valid_X.shape[0])\n",
    "print(test_X.shape[0])"
   ],
   "metadata": {
    "collapsed": false
   }
  },
  {
   "cell_type": "code",
   "execution_count": 102,
   "outputs": [],
   "source": [
    "import math\n",
    "\n",
    "def process_epoch(X, y, model, opt=None, batch_size=100):\n",
    "    if opt:\n",
    "        model.train()\n",
    "    else:\n",
    "        model.eval()\n",
    "\n",
    "    loss_func = nn.CrossEntropyLoss()\n",
    "    correct, loss_sum, n_step, n_samples = 0, 0, 0, 0\n",
    "\n",
    "    iter = math.ceil(X.shape[0] / batch_size)\n",
    "    for batch in tqdm(range(iter)):\n",
    "        X_batch = X[batch * batch_size:min((batch + 1) * batch_size, X.shape[0])][:, :, :224, :224]\n",
    "        y_batch = y[batch * batch_size:min((batch + 1) * batch_size, X.shape[0])]\n",
    "        if opt:\n",
    "            opt.zero_grad()\n",
    "        pred_y = model(torch.tensor(X_batch))\n",
    "        loss = loss_func(pred_y, torch.tensor(y_batch))\n",
    "        correct += np.sum(np.array(pred_y.detach().numpy().argmax(axis=1) == y_batch.argmax(axis=1), dtype=np.int64))\n",
    "        if opt:\n",
    "            loss.backward()\n",
    "            opt.step()\n",
    "        loss_sum += loss.detach().numpy()\n",
    "        n_step += 1\n",
    "        n_samples += X_batch.shape[0]\n",
    "\n",
    "    return 1 - correct / n_samples, loss_sum / n_step"
   ],
   "metadata": {
    "collapsed": false
   }
  },
  {
   "cell_type": "code",
   "execution_count": 31,
   "outputs": [],
   "source": [
    "def train(\n",
    "        batch_size=100,\n",
    "        epochs=10,\n",
    "        optimizer=torch.optim.Adam,\n",
    "        lr=0.001,\n",
    "        weight_decay=0.001,\n",
    "        model=None):\n",
    "\n",
    "    if(model == None):\n",
    "        print(\"Please choose a type of ResNet!\")\n",
    "        return\n",
    "\n",
    "    opt = optimizer(model.parameters(), lr=lr, weight_decay=weight_decay)\n",
    "\n",
    "    for epoch in range(epochs):\n",
    "        print(f\"Epoch {epoch}: \")\n",
    "        train_acc, train_loss = process_epoch(train_X, train_y, model, batch_size=batch_size, opt=opt)\n",
    "        test_acc, test_loss = process_epoch(test_X, test_y, model, batch_size=batch_size)\n",
    "        print(f\"Train Accuracy: {round(train_acc, 3)} Test Accuracy: {round(test_acc, 3)}\")"
   ],
   "metadata": {
    "collapsed": false
   }
  },
  {
   "cell_type": "code",
   "execution_count": 105,
   "outputs": [
    {
     "name": "stdout",
     "output_type": "stream",
     "text": [
      "Epoch 0: \n"
     ]
    },
    {
     "name": "stderr",
     "output_type": "stream",
     "text": [
      "  0%|          | 0/96 [00:00<?, ?it/s]"
     ]
    },
    {
     "name": "stdout",
     "output_type": "stream",
     "text": [
      "tensor([[0.4168, 0.5832],\n",
      "        [0.4100, 0.5900],\n",
      "        [0.4036, 0.5964],\n",
      "        [0.3667, 0.6333],\n",
      "        [0.3554, 0.6446],\n",
      "        [0.4357, 0.5643],\n",
      "        [0.3362, 0.6638],\n",
      "        [0.3176, 0.6824],\n",
      "        [0.4515, 0.5485],\n",
      "        [0.3741, 0.6259]], grad_fn=<SliceBackward0>)\n"
     ]
    },
    {
     "name": "stderr",
     "output_type": "stream",
     "text": [
      "  1%|          | 1/96 [00:06<10:56,  6.92s/it]"
     ]
    },
    {
     "name": "stdout",
     "output_type": "stream",
     "text": [
      "tensor([[0.9925, 0.0075],\n",
      "        [0.9982, 0.0018],\n",
      "        [0.9978, 0.0022],\n",
      "        [0.8908, 0.1092],\n",
      "        [0.9965, 0.0035],\n",
      "        [0.9968, 0.0032],\n",
      "        [0.9912, 0.0088],\n",
      "        [0.8783, 0.1217],\n",
      "        [0.9949, 0.0051],\n",
      "        [0.9976, 0.0024]], grad_fn=<SliceBackward0>)\n"
     ]
    },
    {
     "name": "stderr",
     "output_type": "stream",
     "text": [
      "  2%|▏         | 2/96 [00:14<11:43,  7.49s/it]"
     ]
    },
    {
     "name": "stdout",
     "output_type": "stream",
     "text": [
      "tensor([[6.3138e-01, 3.6862e-01],\n",
      "        [8.0110e-01, 1.9890e-01],\n",
      "        [7.6405e-01, 2.3595e-01],\n",
      "        [5.9496e-01, 4.0504e-01],\n",
      "        [6.1673e-01, 3.8327e-01],\n",
      "        [9.5262e-01, 4.7379e-02],\n",
      "        [9.9992e-01, 8.4579e-05],\n",
      "        [4.8707e-01, 5.1293e-01],\n",
      "        [6.5632e-01, 3.4368e-01],\n",
      "        [5.4641e-01, 4.5359e-01]], grad_fn=<SliceBackward0>)\n"
     ]
    },
    {
     "name": "stderr",
     "output_type": "stream",
     "text": [
      "  3%|▎         | 3/96 [00:22<12:03,  7.78s/it]"
     ]
    },
    {
     "name": "stdout",
     "output_type": "stream",
     "text": [
      "tensor([[0.4911, 0.5089],\n",
      "        [0.9780, 0.0220],\n",
      "        [0.9540, 0.0460],\n",
      "        [0.9535, 0.0465],\n",
      "        [0.9919, 0.0081],\n",
      "        [0.9886, 0.0114],\n",
      "        [0.9940, 0.0060],\n",
      "        [0.9495, 0.0505],\n",
      "        [0.9876, 0.0124],\n",
      "        [0.5641, 0.4359]], grad_fn=<SliceBackward0>)\n"
     ]
    },
    {
     "name": "stderr",
     "output_type": "stream",
     "text": [
      "  4%|▍         | 4/96 [00:30<11:56,  7.79s/it]"
     ]
    },
    {
     "name": "stdout",
     "output_type": "stream",
     "text": [
      "tensor([[9.8358e-01, 1.6415e-02],\n",
      "        [9.8595e-01, 1.4049e-02],\n",
      "        [9.7757e-01, 2.2435e-02],\n",
      "        [9.7564e-01, 2.4355e-02],\n",
      "        [9.8699e-01, 1.3013e-02],\n",
      "        [9.9996e-01, 3.7502e-05],\n",
      "        [9.9960e-01, 4.0069e-04],\n",
      "        [9.9968e-01, 3.1522e-04],\n",
      "        [9.8600e-01, 1.4003e-02],\n",
      "        [9.8190e-01, 1.8102e-02]], grad_fn=<SliceBackward0>)\n"
     ]
    },
    {
     "name": "stderr",
     "output_type": "stream",
     "text": [
      "  5%|▌         | 5/96 [00:38<11:44,  7.75s/it]"
     ]
    },
    {
     "name": "stdout",
     "output_type": "stream",
     "text": [
      "tensor([[9.9815e-01, 1.8477e-03],\n",
      "        [9.9975e-01, 2.5114e-04],\n",
      "        [9.9011e-01, 9.8862e-03],\n",
      "        [9.8107e-01, 1.8934e-02],\n",
      "        [9.8302e-01, 1.6981e-02],\n",
      "        [9.9839e-01, 1.6082e-03],\n",
      "        [9.8613e-01, 1.3869e-02],\n",
      "        [9.8196e-01, 1.8045e-02],\n",
      "        [9.8067e-01, 1.9331e-02],\n",
      "        [9.8654e-01, 1.3459e-02]], grad_fn=<SliceBackward0>)\n"
     ]
    },
    {
     "name": "stderr",
     "output_type": "stream",
     "text": [
      "  6%|▋         | 6/96 [00:46<11:45,  7.83s/it]"
     ]
    },
    {
     "name": "stdout",
     "output_type": "stream",
     "text": [
      "tensor([[1.0000e+00, 2.0491e-07],\n",
      "        [9.9297e-01, 7.0349e-03],\n",
      "        [9.8643e-01, 1.3569e-02],\n",
      "        [9.8412e-01, 1.5876e-02],\n",
      "        [9.8149e-01, 1.8511e-02],\n",
      "        [9.8435e-01, 1.5654e-02],\n",
      "        [9.8089e-01, 1.9109e-02],\n",
      "        [9.8361e-01, 1.6386e-02],\n",
      "        [9.8296e-01, 1.7040e-02],\n",
      "        [9.9962e-01, 3.7833e-04]], grad_fn=<SliceBackward0>)\n"
     ]
    },
    {
     "name": "stderr",
     "output_type": "stream",
     "text": [
      "  7%|▋         | 7/96 [00:54<11:45,  7.93s/it]"
     ]
    },
    {
     "name": "stdout",
     "output_type": "stream",
     "text": [
      "tensor([[9.9199e-01, 8.0062e-03],\n",
      "        [1.0000e+00, 9.5225e-08],\n",
      "        [9.8589e-01, 1.4107e-02],\n",
      "        [9.8510e-01, 1.4896e-02],\n",
      "        [9.8218e-01, 1.7818e-02],\n",
      "        [9.8479e-01, 1.5209e-02],\n",
      "        [9.8040e-01, 1.9599e-02],\n",
      "        [9.8591e-01, 1.4092e-02],\n",
      "        [9.8338e-01, 1.6617e-02],\n",
      "        [1.0000e+00, 1.4274e-06]], grad_fn=<SliceBackward0>)\n"
     ]
    },
    {
     "name": "stderr",
     "output_type": "stream",
     "text": [
      "  8%|▊         | 8/96 [01:02<11:32,  7.87s/it]"
     ]
    },
    {
     "name": "stdout",
     "output_type": "stream",
     "text": [
      "tensor([[9.7152e-01, 2.8481e-02],\n",
      "        [9.8317e-01, 1.6830e-02],\n",
      "        [9.8446e-01, 1.5538e-02],\n",
      "        [1.0000e+00, 3.7104e-15],\n",
      "        [9.7601e-01, 2.3990e-02],\n",
      "        [9.7526e-01, 2.4741e-02],\n",
      "        [9.8284e-01, 1.7161e-02],\n",
      "        [9.8213e-01, 1.7875e-02],\n",
      "        [9.7636e-01, 2.3637e-02],\n",
      "        [9.7713e-01, 2.2865e-02]], grad_fn=<SliceBackward0>)\n"
     ]
    },
    {
     "name": "stderr",
     "output_type": "stream",
     "text": [
      "  9%|▉         | 9/96 [01:10<11:21,  7.83s/it]"
     ]
    },
    {
     "name": "stdout",
     "output_type": "stream",
     "text": [
      "tensor([[9.9030e-01, 9.7008e-03],\n",
      "        [9.8837e-01, 1.1634e-02],\n",
      "        [9.8522e-01, 1.4780e-02],\n",
      "        [9.8705e-01, 1.2953e-02],\n",
      "        [9.9787e-01, 2.1307e-03],\n",
      "        [1.0000e+00, 1.3264e-07],\n",
      "        [9.9004e-01, 9.9639e-03],\n",
      "        [9.8448e-01, 1.5515e-02],\n",
      "        [9.8859e-01, 1.1413e-02],\n",
      "        [9.9081e-01, 9.1946e-03]], grad_fn=<SliceBackward0>)\n"
     ]
    },
    {
     "name": "stderr",
     "output_type": "stream",
     "text": [
      " 10%|█         | 10/96 [01:17<11:11,  7.81s/it]"
     ]
    },
    {
     "name": "stdout",
     "output_type": "stream",
     "text": [
      "tensor([[9.9938e-01, 6.2362e-04],\n",
      "        [9.8674e-01, 1.3260e-02],\n",
      "        [9.8687e-01, 1.3131e-02],\n",
      "        [9.8433e-01, 1.5673e-02],\n",
      "        [1.0000e+00, 5.4420e-07],\n",
      "        [9.8985e-01, 1.0155e-02],\n",
      "        [9.8625e-01, 1.3754e-02],\n",
      "        [9.8800e-01, 1.2000e-02],\n",
      "        [9.8731e-01, 1.2693e-02],\n",
      "        [9.8747e-01, 1.2525e-02]], grad_fn=<SliceBackward0>)\n"
     ]
    },
    {
     "name": "stderr",
     "output_type": "stream",
     "text": [
      " 11%|█▏        | 11/96 [01:25<11:03,  7.80s/it]"
     ]
    },
    {
     "name": "stdout",
     "output_type": "stream",
     "text": [
      "tensor([[9.7915e-01, 2.0846e-02],\n",
      "        [9.8137e-01, 1.8635e-02],\n",
      "        [9.8928e-01, 1.0721e-02],\n",
      "        [9.8217e-01, 1.7826e-02],\n",
      "        [9.9996e-01, 3.5729e-05],\n",
      "        [9.8868e-01, 1.1317e-02],\n",
      "        [9.9965e-01, 3.5112e-04],\n",
      "        [9.8870e-01, 1.1295e-02],\n",
      "        [9.9990e-01, 1.0363e-04],\n",
      "        [9.8704e-01, 1.2959e-02]], grad_fn=<SliceBackward0>)\n"
     ]
    },
    {
     "name": "stderr",
     "output_type": "stream",
     "text": [
      " 12%|█▎        | 12/96 [01:33<10:54,  7.80s/it]"
     ]
    },
    {
     "name": "stdout",
     "output_type": "stream",
     "text": [
      "tensor([[1.0000e+00, 6.7745e-13],\n",
      "        [9.8603e-01, 1.3971e-02],\n",
      "        [9.8245e-01, 1.7548e-02],\n",
      "        [9.8344e-01, 1.6560e-02],\n",
      "        [1.0000e+00, 9.0084e-08],\n",
      "        [9.8250e-01, 1.7505e-02],\n",
      "        [9.9230e-01, 7.6954e-03],\n",
      "        [9.9106e-01, 8.9425e-03],\n",
      "        [9.8424e-01, 1.5765e-02],\n",
      "        [9.8596e-01, 1.4043e-02]], grad_fn=<SliceBackward0>)\n"
     ]
    },
    {
     "name": "stderr",
     "output_type": "stream",
     "text": [
      " 14%|█▎        | 13/96 [01:41<10:45,  7.77s/it]"
     ]
    },
    {
     "name": "stdout",
     "output_type": "stream",
     "text": [
      "tensor([[9.7907e-01, 2.0931e-02],\n",
      "        [9.7788e-01, 2.2117e-02],\n",
      "        [1.0000e+00, 1.7801e-06],\n",
      "        [1.0000e+00, 1.3854e-11],\n",
      "        [9.7652e-01, 2.3484e-02],\n",
      "        [9.9695e-01, 3.0541e-03],\n",
      "        [9.8217e-01, 1.7833e-02],\n",
      "        [9.9479e-01, 5.2066e-03],\n",
      "        [9.9238e-01, 7.6237e-03],\n",
      "        [9.8035e-01, 1.9651e-02]], grad_fn=<SliceBackward0>)\n"
     ]
    },
    {
     "name": "stderr",
     "output_type": "stream",
     "text": [
      " 15%|█▍        | 14/96 [01:48<10:36,  7.76s/it]"
     ]
    },
    {
     "name": "stdout",
     "output_type": "stream",
     "text": [
      "tensor([[0.9696, 0.0304],\n",
      "        [0.9709, 0.0291],\n",
      "        [0.9674, 0.0326],\n",
      "        [0.9706, 0.0294],\n",
      "        [0.9708, 0.0292],\n",
      "        [0.9658, 0.0342],\n",
      "        [0.9724, 0.0276],\n",
      "        [0.9795, 0.0205],\n",
      "        [0.9925, 0.0075],\n",
      "        [0.9657, 0.0343]], grad_fn=<SliceBackward0>)\n"
     ]
    },
    {
     "name": "stderr",
     "output_type": "stream",
     "text": [
      " 16%|█▌        | 15/96 [01:56<10:28,  7.76s/it]"
     ]
    },
    {
     "name": "stdout",
     "output_type": "stream",
     "text": [
      "tensor([[0.9856, 0.0144],\n",
      "        [0.9974, 0.0026],\n",
      "        [0.9788, 0.0212],\n",
      "        [0.9705, 0.0295],\n",
      "        [0.9775, 0.0225],\n",
      "        [0.9950, 0.0050],\n",
      "        [0.9769, 0.0231],\n",
      "        [0.9744, 0.0256],\n",
      "        [0.9797, 0.0203],\n",
      "        [0.9776, 0.0224]], grad_fn=<SliceBackward0>)\n"
     ]
    },
    {
     "name": "stderr",
     "output_type": "stream",
     "text": [
      " 17%|█▋        | 16/96 [02:04<10:22,  7.78s/it]"
     ]
    },
    {
     "name": "stdout",
     "output_type": "stream",
     "text": [
      "tensor([[9.8360e-01, 1.6395e-02],\n",
      "        [9.7289e-01, 2.7105e-02],\n",
      "        [1.0000e+00, 5.6942e-09],\n",
      "        [9.7278e-01, 2.7222e-02],\n",
      "        [9.9306e-01, 6.9412e-03],\n",
      "        [9.9965e-01, 3.5086e-04],\n",
      "        [9.6320e-01, 3.6797e-02],\n",
      "        [9.7023e-01, 2.9769e-02],\n",
      "        [9.8675e-01, 1.3254e-02],\n",
      "        [1.0000e+00, 6.8232e-14]], grad_fn=<SliceBackward0>)\n"
     ]
    },
    {
     "name": "stderr",
     "output_type": "stream",
     "text": [
      " 18%|█▊        | 17/96 [02:12<10:15,  7.80s/it]"
     ]
    },
    {
     "name": "stdout",
     "output_type": "stream",
     "text": [
      "tensor([[9.9815e-01, 1.8533e-03],\n",
      "        [1.0000e+00, 4.3219e-09],\n",
      "        [9.7754e-01, 2.2461e-02],\n",
      "        [1.0000e+00, 1.4532e-06],\n",
      "        [9.7728e-01, 2.2717e-02],\n",
      "        [9.7542e-01, 2.4584e-02],\n",
      "        [9.7387e-01, 2.6125e-02],\n",
      "        [1.0000e+00, 8.6670e-08],\n",
      "        [9.6930e-01, 3.0704e-02],\n",
      "        [9.6914e-01, 3.0863e-02]], grad_fn=<SliceBackward0>)\n"
     ]
    },
    {
     "name": "stderr",
     "output_type": "stream",
     "text": [
      " 19%|█▉        | 18/96 [02:19<10:07,  7.79s/it]"
     ]
    },
    {
     "name": "stdout",
     "output_type": "stream",
     "text": [
      "tensor([[1.0000e+00, 4.1773e-08],\n",
      "        [9.6095e-01, 3.9048e-02],\n",
      "        [9.7921e-01, 2.0793e-02],\n",
      "        [9.7372e-01, 2.6280e-02],\n",
      "        [9.6175e-01, 3.8247e-02],\n",
      "        [9.6519e-01, 3.4805e-02],\n",
      "        [9.6046e-01, 3.9545e-02],\n",
      "        [9.6711e-01, 3.2891e-02],\n",
      "        [9.6082e-01, 3.9185e-02],\n",
      "        [9.8816e-01, 1.1837e-02]], grad_fn=<SliceBackward0>)\n"
     ]
    },
    {
     "name": "stderr",
     "output_type": "stream",
     "text": [
      " 20%|█▉        | 19/96 [02:27<10:00,  7.79s/it]"
     ]
    },
    {
     "name": "stdout",
     "output_type": "stream",
     "text": [
      "tensor([[9.8991e-01, 1.0092e-02],\n",
      "        [9.3781e-01, 6.2186e-02],\n",
      "        [9.3915e-01, 6.0846e-02],\n",
      "        [9.4980e-01, 5.0196e-02],\n",
      "        [9.7422e-01, 2.5778e-02],\n",
      "        [9.3454e-01, 6.5459e-02],\n",
      "        [1.0000e+00, 1.4665e-33],\n",
      "        [9.3935e-01, 6.0647e-02],\n",
      "        [9.2694e-01, 7.3059e-02],\n",
      "        [9.2916e-01, 7.0841e-02]], grad_fn=<SliceBackward0>)\n"
     ]
    },
    {
     "name": "stderr",
     "output_type": "stream",
     "text": [
      " 21%|██        | 20/96 [02:35<09:50,  7.77s/it]"
     ]
    },
    {
     "name": "stdout",
     "output_type": "stream",
     "text": [
      "tensor([[1.0000e+00, 2.9156e-21],\n",
      "        [1.0000e+00, 4.3246e-06],\n",
      "        [9.6898e-01, 3.1017e-02],\n",
      "        [9.5958e-01, 4.0424e-02],\n",
      "        [9.6818e-01, 3.1822e-02],\n",
      "        [9.6246e-01, 3.7536e-02],\n",
      "        [9.6489e-01, 3.5105e-02],\n",
      "        [9.6336e-01, 3.6639e-02],\n",
      "        [9.6504e-01, 3.4961e-02],\n",
      "        [9.5846e-01, 4.1537e-02]], grad_fn=<SliceBackward0>)\n"
     ]
    },
    {
     "name": "stderr",
     "output_type": "stream",
     "text": [
      " 22%|██▏       | 21/96 [02:43<09:44,  7.80s/it]"
     ]
    },
    {
     "name": "stdout",
     "output_type": "stream",
     "text": [
      "tensor([[9.5262e-01, 4.7376e-02],\n",
      "        [9.4932e-01, 5.0683e-02],\n",
      "        [9.4745e-01, 5.2545e-02],\n",
      "        [9.4620e-01, 5.3799e-02],\n",
      "        [9.4587e-01, 5.4125e-02],\n",
      "        [9.5406e-01, 4.5940e-02],\n",
      "        [9.5065e-01, 4.9355e-02],\n",
      "        [9.5002e-01, 4.9976e-02],\n",
      "        [1.0000e+00, 1.1372e-17],\n",
      "        [9.8900e-01, 1.0999e-02]], grad_fn=<SliceBackward0>)\n"
     ]
    },
    {
     "name": "stderr",
     "output_type": "stream",
     "text": [
      " 23%|██▎       | 22/96 [02:51<09:34,  7.77s/it]"
     ]
    },
    {
     "name": "stdout",
     "output_type": "stream",
     "text": [
      "tensor([[9.5735e-01, 4.2649e-02],\n",
      "        [9.5934e-01, 4.0658e-02],\n",
      "        [9.5419e-01, 4.5810e-02],\n",
      "        [9.5917e-01, 4.0831e-02],\n",
      "        [9.5106e-01, 4.8942e-02],\n",
      "        [9.5370e-01, 4.6299e-02],\n",
      "        [9.5489e-01, 4.5111e-02],\n",
      "        [1.0000e+00, 1.2708e-12],\n",
      "        [9.5508e-01, 4.4916e-02],\n",
      "        [9.5731e-01, 4.2694e-02]], grad_fn=<SliceBackward0>)\n"
     ]
    },
    {
     "name": "stderr",
     "output_type": "stream",
     "text": [
      " 24%|██▍       | 23/96 [02:58<09:27,  7.78s/it]"
     ]
    },
    {
     "name": "stdout",
     "output_type": "stream",
     "text": [
      "tensor([[9.9095e-01, 9.0488e-03],\n",
      "        [9.4833e-01, 5.1667e-02],\n",
      "        [9.9345e-01, 6.5461e-03],\n",
      "        [9.5076e-01, 4.9245e-02],\n",
      "        [9.5490e-01, 4.5105e-02],\n",
      "        [1.0000e+00, 9.0929e-16],\n",
      "        [1.0000e+00, 1.3374e-21],\n",
      "        [9.4817e-01, 5.1835e-02],\n",
      "        [9.5099e-01, 4.9007e-02],\n",
      "        [9.5622e-01, 4.3785e-02]], grad_fn=<SliceBackward0>)\n"
     ]
    },
    {
     "name": "stderr",
     "output_type": "stream",
     "text": [
      " 25%|██▌       | 24/96 [03:06<09:20,  7.78s/it]"
     ]
    },
    {
     "name": "stdout",
     "output_type": "stream",
     "text": [
      "tensor([[9.4637e-01, 5.3634e-02],\n",
      "        [9.9997e-01, 2.6829e-05],\n",
      "        [9.4809e-01, 5.1910e-02],\n",
      "        [9.4795e-01, 5.2053e-02],\n",
      "        [9.4833e-01, 5.1674e-02],\n",
      "        [9.4641e-01, 5.3592e-02],\n",
      "        [9.8576e-01, 1.4243e-02],\n",
      "        [9.3994e-01, 6.0059e-02],\n",
      "        [9.5035e-01, 4.9655e-02],\n",
      "        [1.0000e+00, 1.3892e-07]], grad_fn=<SliceBackward0>)\n"
     ]
    },
    {
     "name": "stderr",
     "output_type": "stream",
     "text": [
      " 26%|██▌       | 25/96 [03:14<09:11,  7.77s/it]"
     ]
    },
    {
     "name": "stdout",
     "output_type": "stream",
     "text": [
      "tensor([[0.9078, 0.0922],\n",
      "        [0.9108, 0.0892],\n",
      "        [0.9060, 0.0940],\n",
      "        [0.9129, 0.0871],\n",
      "        [0.9981, 0.0019],\n",
      "        [0.9140, 0.0860],\n",
      "        [0.9069, 0.0931],\n",
      "        [0.9077, 0.0923],\n",
      "        [0.9567, 0.0433],\n",
      "        [0.9110, 0.0890]], grad_fn=<SliceBackward0>)\n"
     ]
    },
    {
     "name": "stderr",
     "output_type": "stream",
     "text": [
      " 27%|██▋       | 26/96 [03:22<09:04,  7.78s/it]"
     ]
    },
    {
     "name": "stdout",
     "output_type": "stream",
     "text": [
      "tensor([[8.9095e-01, 1.0905e-01],\n",
      "        [8.8780e-01, 1.1220e-01],\n",
      "        [8.9038e-01, 1.0962e-01],\n",
      "        [9.0980e-01, 9.0202e-02],\n",
      "        [1.0000e+00, 2.2605e-06],\n",
      "        [8.9515e-01, 1.0485e-01],\n",
      "        [9.9659e-01, 3.4089e-03],\n",
      "        [9.9816e-01, 1.8374e-03],\n",
      "        [9.9993e-01, 6.6182e-05],\n",
      "        [8.9220e-01, 1.0780e-01]], grad_fn=<SliceBackward0>)\n"
     ]
    },
    {
     "name": "stderr",
     "output_type": "stream",
     "text": [
      " 28%|██▊       | 27/96 [03:29<08:53,  7.74s/it]"
     ]
    },
    {
     "name": "stdout",
     "output_type": "stream",
     "text": [
      "tensor([[8.6709e-01, 1.3291e-01],\n",
      "        [8.7087e-01, 1.2913e-01],\n",
      "        [9.9977e-01, 2.3275e-04],\n",
      "        [8.6567e-01, 1.3433e-01],\n",
      "        [8.6938e-01, 1.3062e-01],\n",
      "        [8.9506e-01, 1.0494e-01],\n",
      "        [8.6970e-01, 1.3030e-01],\n",
      "        [9.9997e-01, 2.8456e-05],\n",
      "        [8.6899e-01, 1.3101e-01],\n",
      "        [8.6944e-01, 1.3056e-01]], grad_fn=<SliceBackward0>)\n"
     ]
    },
    {
     "name": "stderr",
     "output_type": "stream",
     "text": [
      " 29%|██▉       | 28/96 [03:37<08:46,  7.74s/it]"
     ]
    },
    {
     "name": "stdout",
     "output_type": "stream",
     "text": [
      "tensor([[8.7266e-01, 1.2734e-01],\n",
      "        [9.4993e-01, 5.0071e-02],\n",
      "        [9.9483e-01, 5.1708e-03],\n",
      "        [1.0000e+00, 1.7818e-09],\n",
      "        [9.8937e-01, 1.0629e-02],\n",
      "        [8.6619e-01, 1.3381e-01],\n",
      "        [8.6536e-01, 1.3464e-01],\n",
      "        [8.7500e-01, 1.2500e-01],\n",
      "        [8.6453e-01, 1.3547e-01],\n",
      "        [8.6482e-01, 1.3518e-01]], grad_fn=<SliceBackward0>)\n"
     ]
    },
    {
     "name": "stderr",
     "output_type": "stream",
     "text": [
      " 30%|███       | 29/96 [03:45<08:38,  7.74s/it]"
     ]
    },
    {
     "name": "stdout",
     "output_type": "stream",
     "text": [
      "tensor([[8.2350e-01, 1.7650e-01],\n",
      "        [8.2437e-01, 1.7563e-01],\n",
      "        [8.2340e-01, 1.7660e-01],\n",
      "        [1.0000e+00, 3.0797e-09],\n",
      "        [8.1740e-01, 1.8260e-01],\n",
      "        [8.3878e-01, 1.6122e-01],\n",
      "        [8.2520e-01, 1.7480e-01],\n",
      "        [8.2213e-01, 1.7787e-01],\n",
      "        [8.3163e-01, 1.6837e-01],\n",
      "        [9.9997e-01, 2.8832e-05]], grad_fn=<SliceBackward0>)\n"
     ]
    },
    {
     "name": "stderr",
     "output_type": "stream",
     "text": [
      " 31%|███▏      | 30/96 [03:53<08:30,  7.74s/it]"
     ]
    },
    {
     "name": "stdout",
     "output_type": "stream",
     "text": [
      "tensor([[1.0000e+00, 2.9172e-15],\n",
      "        [9.8886e-01, 1.1141e-02],\n",
      "        [8.4791e-01, 1.5209e-01],\n",
      "        [8.2503e-01, 1.7497e-01],\n",
      "        [8.2378e-01, 1.7622e-01],\n",
      "        [8.2245e-01, 1.7755e-01],\n",
      "        [8.2707e-01, 1.7293e-01],\n",
      "        [9.9902e-01, 9.8096e-04],\n",
      "        [8.2075e-01, 1.7925e-01],\n",
      "        [8.2163e-01, 1.7837e-01]], grad_fn=<SliceBackward0>)\n"
     ]
    },
    {
     "name": "stderr",
     "output_type": "stream",
     "text": [
      " 32%|███▏      | 31/96 [04:00<08:23,  7.75s/it]"
     ]
    },
    {
     "name": "stdout",
     "output_type": "stream",
     "text": [
      "tensor([[7.8092e-01, 2.1908e-01],\n",
      "        [7.9786e-01, 2.0214e-01],\n",
      "        [9.9937e-01, 6.2561e-04],\n",
      "        [8.2162e-01, 1.7838e-01],\n",
      "        [7.9005e-01, 2.0995e-01],\n",
      "        [7.8884e-01, 2.1116e-01],\n",
      "        [7.8793e-01, 2.1207e-01],\n",
      "        [8.2137e-01, 1.7863e-01],\n",
      "        [7.9400e-01, 2.0600e-01],\n",
      "        [7.9761e-01, 2.0239e-01]], grad_fn=<SliceBackward0>)\n"
     ]
    },
    {
     "name": "stderr",
     "output_type": "stream",
     "text": [
      " 33%|███▎      | 32/96 [04:08<08:15,  7.74s/it]"
     ]
    },
    {
     "name": "stdout",
     "output_type": "stream",
     "text": [
      "tensor([[0.7875, 0.2125],\n",
      "        [0.7901, 0.2099],\n",
      "        [0.7883, 0.2117],\n",
      "        [0.8128, 0.1872],\n",
      "        [0.7974, 0.2026],\n",
      "        [0.7973, 0.2027],\n",
      "        [0.7895, 0.2105],\n",
      "        [0.7848, 0.2152],\n",
      "        [0.9928, 0.0072],\n",
      "        [0.7927, 0.2073]], grad_fn=<SliceBackward0>)\n"
     ]
    },
    {
     "name": "stderr",
     "output_type": "stream",
     "text": [
      " 34%|███▍      | 33/96 [04:16<08:08,  7.75s/it]"
     ]
    },
    {
     "name": "stdout",
     "output_type": "stream",
     "text": [
      "tensor([[0.7224, 0.2776],\n",
      "        [0.7239, 0.2761],\n",
      "        [0.9477, 0.0523],\n",
      "        [0.7491, 0.2509],\n",
      "        [0.7324, 0.2676],\n",
      "        [0.7247, 0.2753],\n",
      "        [0.9989, 0.0011],\n",
      "        [0.7353, 0.2647],\n",
      "        [0.7222, 0.2778],\n",
      "        [0.7600, 0.2400]], grad_fn=<SliceBackward0>)\n"
     ]
    },
    {
     "name": "stderr",
     "output_type": "stream",
     "text": [
      " 35%|███▌      | 34/96 [04:24<08:00,  7.75s/it]"
     ]
    },
    {
     "name": "stdout",
     "output_type": "stream",
     "text": [
      "tensor([[7.4970e-01, 2.5030e-01],\n",
      "        [7.4048e-01, 2.5952e-01],\n",
      "        [1.0000e+00, 3.4441e-07],\n",
      "        [9.9994e-01, 5.8648e-05],\n",
      "        [1.0000e+00, 1.3037e-31],\n",
      "        [7.3729e-01, 2.6271e-01],\n",
      "        [7.3135e-01, 2.6865e-01],\n",
      "        [9.9946e-01, 5.3893e-04],\n",
      "        [7.4562e-01, 2.5438e-01],\n",
      "        [9.9965e-01, 3.5201e-04]], grad_fn=<SliceBackward0>)\n"
     ]
    },
    {
     "name": "stderr",
     "output_type": "stream",
     "text": [
      " 36%|███▋      | 35/96 [04:31<07:51,  7.73s/it]"
     ]
    },
    {
     "name": "stdout",
     "output_type": "stream",
     "text": [
      "tensor([[0.6953, 0.3047],\n",
      "        [0.7982, 0.2018],\n",
      "        [0.7082, 0.2918],\n",
      "        [0.7022, 0.2978],\n",
      "        [0.7063, 0.2937],\n",
      "        [0.8213, 0.1787],\n",
      "        [0.7198, 0.2802],\n",
      "        [0.7810, 0.2190],\n",
      "        [0.7010, 0.2990],\n",
      "        [0.7185, 0.2815]], grad_fn=<SliceBackward0>)\n"
     ]
    },
    {
     "name": "stderr",
     "output_type": "stream",
     "text": [
      " 38%|███▊      | 36/96 [04:39<07:44,  7.74s/it]"
     ]
    },
    {
     "name": "stdout",
     "output_type": "stream",
     "text": [
      "tensor([[9.9986e-01, 1.4465e-04],\n",
      "        [9.6084e-01, 3.9163e-02],\n",
      "        [8.8940e-01, 1.1060e-01],\n",
      "        [9.7969e-01, 2.0313e-02],\n",
      "        [8.9223e-01, 1.0777e-01],\n",
      "        [1.0000e+00, 2.0576e-07],\n",
      "        [9.7680e-01, 2.3200e-02],\n",
      "        [9.9318e-01, 6.8248e-03],\n",
      "        [9.1183e-01, 8.8168e-02],\n",
      "        [1.0000e+00, 8.0938e-07]], grad_fn=<SliceBackward0>)\n"
     ]
    },
    {
     "name": "stderr",
     "output_type": "stream",
     "text": [
      " 39%|███▊      | 37/96 [04:47<07:37,  7.76s/it]"
     ]
    },
    {
     "name": "stdout",
     "output_type": "stream",
     "text": [
      "tensor([[1.0000e+00, 4.7188e-06],\n",
      "        [9.3399e-01, 6.6007e-02],\n",
      "        [9.3373e-01, 6.6265e-02],\n",
      "        [1.0000e+00, 9.5765e-08],\n",
      "        [9.4214e-01, 5.7863e-02],\n",
      "        [9.9429e-01, 5.7058e-03],\n",
      "        [1.0000e+00, 1.4851e-06],\n",
      "        [1.0000e+00, 9.8826e-10],\n",
      "        [9.9985e-01, 1.5244e-04],\n",
      "        [9.3681e-01, 6.3190e-02]], grad_fn=<SliceBackward0>)\n"
     ]
    },
    {
     "name": "stderr",
     "output_type": "stream",
     "text": [
      " 40%|███▉      | 38/96 [04:55<07:31,  7.78s/it]"
     ]
    },
    {
     "name": "stdout",
     "output_type": "stream",
     "text": [
      "tensor([[1.0000e+00, 1.3638e-07],\n",
      "        [9.5542e-01, 4.4576e-02],\n",
      "        [9.9455e-01, 5.4510e-03],\n",
      "        [9.5419e-01, 4.5810e-02],\n",
      "        [9.4633e-01, 5.3673e-02],\n",
      "        [9.4907e-01, 5.0927e-02],\n",
      "        [9.9865e-01, 1.3470e-03],\n",
      "        [9.4650e-01, 5.3503e-02],\n",
      "        [9.9651e-01, 3.4949e-03],\n",
      "        [1.0000e+00, 4.0468e-11]], grad_fn=<SliceBackward0>)\n"
     ]
    },
    {
     "name": "stderr",
     "output_type": "stream",
     "text": [
      " 41%|████      | 39/96 [05:02<07:21,  7.75s/it]"
     ]
    },
    {
     "name": "stdout",
     "output_type": "stream",
     "text": [
      "tensor([[9.6456e-01, 3.5440e-02],\n",
      "        [9.9601e-01, 3.9883e-03],\n",
      "        [9.6070e-01, 3.9296e-02],\n",
      "        [9.9632e-01, 3.6794e-03],\n",
      "        [1.0000e+00, 1.1340e-06],\n",
      "        [1.0000e+00, 5.3191e-07],\n",
      "        [9.5586e-01, 4.4136e-02],\n",
      "        [9.9972e-01, 2.8313e-04],\n",
      "        [9.8315e-01, 1.6854e-02],\n",
      "        [9.6590e-01, 3.4095e-02]], grad_fn=<SliceBackward0>)\n"
     ]
    },
    {
     "name": "stderr",
     "output_type": "stream",
     "text": [
      " 42%|████▏     | 40/96 [05:10<07:14,  7.77s/it]"
     ]
    },
    {
     "name": "stdout",
     "output_type": "stream",
     "text": [
      "tensor([[9.6171e-01, 3.8287e-02],\n",
      "        [1.0000e+00, 3.6962e-07],\n",
      "        [1.0000e+00, 3.2812e-06],\n",
      "        [9.9744e-01, 2.5604e-03],\n",
      "        [9.9748e-01, 2.5220e-03],\n",
      "        [1.0000e+00, 7.5482e-07],\n",
      "        [9.6142e-01, 3.8581e-02],\n",
      "        [9.7083e-01, 2.9166e-02],\n",
      "        [9.8928e-01, 1.0721e-02],\n",
      "        [9.9945e-01, 5.5406e-04]], grad_fn=<SliceBackward0>)\n"
     ]
    },
    {
     "name": "stderr",
     "output_type": "stream",
     "text": [
      " 43%|████▎     | 41/96 [05:18<07:06,  7.75s/it]"
     ]
    },
    {
     "name": "stdout",
     "output_type": "stream",
     "text": [
      "tensor([[9.9319e-01, 6.8113e-03],\n",
      "        [9.8325e-01, 1.6753e-02],\n",
      "        [9.9886e-01, 1.1417e-03],\n",
      "        [9.9603e-01, 3.9708e-03],\n",
      "        [9.9999e-01, 1.3468e-05],\n",
      "        [1.0000e+00, 1.1305e-11],\n",
      "        [9.8672e-01, 1.3278e-02],\n",
      "        [9.6985e-01, 3.0147e-02],\n",
      "        [9.9997e-01, 2.6376e-05],\n",
      "        [9.9901e-01, 9.9344e-04]], grad_fn=<SliceBackward0>)\n"
     ]
    },
    {
     "name": "stderr",
     "output_type": "stream",
     "text": [
      " 44%|████▍     | 42/96 [05:26<06:57,  7.73s/it]"
     ]
    },
    {
     "name": "stdout",
     "output_type": "stream",
     "text": [
      "tensor([[9.9708e-01, 2.9216e-03],\n",
      "        [9.9998e-01, 1.7892e-05],\n",
      "        [9.9993e-01, 7.0417e-05],\n",
      "        [9.7600e-01, 2.3996e-02],\n",
      "        [1.0000e+00, 8.1858e-08],\n",
      "        [1.0000e+00, 3.9336e-08],\n",
      "        [1.0000e+00, 1.1189e-15],\n",
      "        [9.9998e-01, 2.1976e-05],\n",
      "        [9.7310e-01, 2.6899e-02],\n",
      "        [9.7944e-01, 2.0562e-02]], grad_fn=<SliceBackward0>)\n"
     ]
    },
    {
     "name": "stderr",
     "output_type": "stream",
     "text": [
      " 45%|████▍     | 43/96 [05:33<06:49,  7.73s/it]"
     ]
    },
    {
     "name": "stdout",
     "output_type": "stream",
     "text": [
      "tensor([[1.0000e+00, 7.0932e-07],\n",
      "        [9.9286e-01, 7.1398e-03],\n",
      "        [9.8904e-01, 1.0955e-02],\n",
      "        [9.9436e-01, 5.6440e-03],\n",
      "        [9.8119e-01, 1.8812e-02],\n",
      "        [9.6012e-01, 3.9875e-02],\n",
      "        [9.8136e-01, 1.8637e-02],\n",
      "        [9.9912e-01, 8.7649e-04],\n",
      "        [9.7346e-01, 2.6540e-02],\n",
      "        [9.9980e-01, 2.0380e-04]], grad_fn=<SliceBackward0>)\n"
     ]
    },
    {
     "name": "stderr",
     "output_type": "stream",
     "text": [
      " 46%|████▌     | 44/96 [05:41<06:42,  7.73s/it]"
     ]
    },
    {
     "name": "stdout",
     "output_type": "stream",
     "text": [
      "tensor([[9.9990e-01, 9.6405e-05],\n",
      "        [9.6640e-01, 3.3603e-02],\n",
      "        [1.0000e+00, 2.2124e-06],\n",
      "        [1.0000e+00, 7.8056e-08],\n",
      "        [9.7928e-01, 2.0723e-02],\n",
      "        [1.0000e+00, 7.5280e-12],\n",
      "        [1.0000e+00, 3.3127e-07],\n",
      "        [9.6736e-01, 3.2641e-02],\n",
      "        [1.0000e+00, 3.4361e-08],\n",
      "        [1.0000e+00, 4.6224e-06]], grad_fn=<SliceBackward0>)\n"
     ]
    },
    {
     "name": "stderr",
     "output_type": "stream",
     "text": [
      " 47%|████▋     | 45/96 [05:49<06:35,  7.75s/it]"
     ]
    },
    {
     "name": "stdout",
     "output_type": "stream",
     "text": [
      "tensor([[9.8168e-01, 1.8320e-02],\n",
      "        [1.0000e+00, 1.8544e-06],\n",
      "        [9.7817e-01, 2.1835e-02],\n",
      "        [9.9812e-01, 1.8810e-03],\n",
      "        [9.9808e-01, 1.9238e-03],\n",
      "        [9.7998e-01, 2.0024e-02],\n",
      "        [1.0000e+00, 8.5608e-09],\n",
      "        [9.7295e-01, 2.7052e-02],\n",
      "        [1.0000e+00, 5.8879e-09],\n",
      "        [9.9180e-01, 8.1999e-03]], grad_fn=<SliceBackward0>)\n"
     ]
    },
    {
     "name": "stderr",
     "output_type": "stream",
     "text": [
      " 48%|████▊     | 46/96 [05:57<06:27,  7.75s/it]"
     ]
    },
    {
     "name": "stdout",
     "output_type": "stream",
     "text": [
      "tensor([[9.5191e-01, 4.8090e-02],\n",
      "        [1.0000e+00, 3.0140e-10],\n",
      "        [9.9032e-01, 9.6791e-03],\n",
      "        [9.8976e-01, 1.0236e-02],\n",
      "        [1.0000e+00, 9.9392e-07],\n",
      "        [9.6807e-01, 3.1929e-02],\n",
      "        [9.7694e-01, 2.3063e-02],\n",
      "        [9.7322e-01, 2.6775e-02],\n",
      "        [9.7696e-01, 2.3035e-02],\n",
      "        [9.9450e-01, 5.5000e-03]], grad_fn=<SliceBackward0>)\n"
     ]
    },
    {
     "name": "stderr",
     "output_type": "stream",
     "text": [
      " 49%|████▉     | 47/96 [06:04<06:20,  7.76s/it]"
     ]
    },
    {
     "name": "stdout",
     "output_type": "stream",
     "text": [
      "tensor([[9.7440e-01, 2.5595e-02],\n",
      "        [1.0000e+00, 1.0000e-06],\n",
      "        [1.0000e+00, 5.1231e-13],\n",
      "        [9.6792e-01, 3.2083e-02],\n",
      "        [9.7575e-01, 2.4245e-02],\n",
      "        [9.5931e-01, 4.0689e-02],\n",
      "        [9.9990e-01, 9.6118e-05],\n",
      "        [9.7615e-01, 2.3848e-02],\n",
      "        [1.0000e+00, 2.4625e-06],\n",
      "        [9.9318e-01, 6.8238e-03]], grad_fn=<SliceBackward0>)\n"
     ]
    },
    {
     "name": "stderr",
     "output_type": "stream",
     "text": [
      " 50%|█████     | 48/96 [06:12<06:12,  7.76s/it]"
     ]
    },
    {
     "name": "stdout",
     "output_type": "stream",
     "text": [
      "tensor([[9.9862e-01, 1.3839e-03],\n",
      "        [9.8204e-01, 1.7958e-02],\n",
      "        [1.0000e+00, 9.8232e-12],\n",
      "        [9.7782e-01, 2.2179e-02],\n",
      "        [9.6635e-01, 3.3647e-02],\n",
      "        [9.5455e-01, 4.5454e-02],\n",
      "        [9.4448e-01, 5.5519e-02],\n",
      "        [1.0000e+00, 1.8173e-12],\n",
      "        [9.4270e-01, 5.7296e-02],\n",
      "        [9.7269e-01, 2.7311e-02]], grad_fn=<SliceBackward0>)\n"
     ]
    },
    {
     "name": "stderr",
     "output_type": "stream",
     "text": [
      " 51%|█████     | 49/96 [06:20<06:04,  7.77s/it]"
     ]
    },
    {
     "name": "stdout",
     "output_type": "stream",
     "text": [
      "tensor([[9.5351e-01, 4.6488e-02],\n",
      "        [9.7050e-01, 2.9502e-02],\n",
      "        [9.9103e-01, 8.9747e-03],\n",
      "        [1.0000e+00, 2.9720e-11],\n",
      "        [9.4806e-01, 5.1945e-02],\n",
      "        [9.5740e-01, 4.2604e-02],\n",
      "        [1.0000e+00, 1.4811e-08],\n",
      "        [9.5945e-01, 4.0550e-02],\n",
      "        [9.7583e-01, 2.4171e-02],\n",
      "        [9.7419e-01, 2.5814e-02]], grad_fn=<SliceBackward0>)\n"
     ]
    },
    {
     "name": "stderr",
     "output_type": "stream",
     "text": [
      " 52%|█████▏    | 50/96 [06:28<05:57,  7.77s/it]"
     ]
    },
    {
     "name": "stdout",
     "output_type": "stream",
     "text": [
      "tensor([[9.6504e-01, 3.4960e-02],\n",
      "        [9.9903e-01, 9.7344e-04],\n",
      "        [9.7018e-01, 2.9815e-02],\n",
      "        [9.6352e-01, 3.6480e-02],\n",
      "        [1.0000e+00, 1.8435e-08],\n",
      "        [9.5007e-01, 4.9926e-02],\n",
      "        [9.9996e-01, 4.4052e-05],\n",
      "        [9.9995e-01, 5.1428e-05],\n",
      "        [9.8104e-01, 1.8958e-02],\n",
      "        [1.0000e+00, 1.8723e-10]], grad_fn=<SliceBackward0>)\n"
     ]
    },
    {
     "name": "stderr",
     "output_type": "stream",
     "text": [
      " 53%|█████▎    | 51/96 [06:35<05:49,  7.77s/it]"
     ]
    },
    {
     "name": "stdout",
     "output_type": "stream",
     "text": [
      "tensor([[9.9982e-01, 1.7907e-04],\n",
      "        [9.4562e-01, 5.4381e-02],\n",
      "        [9.5224e-01, 4.7760e-02],\n",
      "        [9.5433e-01, 4.5667e-02],\n",
      "        [9.8489e-01, 1.5108e-02],\n",
      "        [9.2821e-01, 7.1794e-02],\n",
      "        [9.9034e-01, 9.6576e-03],\n",
      "        [1.0000e+00, 7.8436e-07],\n",
      "        [9.8616e-01, 1.3841e-02],\n",
      "        [9.9592e-01, 4.0847e-03]], grad_fn=<SliceBackward0>)\n"
     ]
    },
    {
     "name": "stderr",
     "output_type": "stream",
     "text": [
      " 54%|█████▍    | 52/96 [06:43<05:41,  7.76s/it]"
     ]
    },
    {
     "name": "stdout",
     "output_type": "stream",
     "text": [
      "tensor([[9.3212e-01, 6.7883e-02],\n",
      "        [9.9996e-01, 4.3165e-05],\n",
      "        [1.0000e+00, 9.9633e-09],\n",
      "        [9.9975e-01, 2.5219e-04],\n",
      "        [9.4648e-01, 5.3524e-02],\n",
      "        [9.5368e-01, 4.6323e-02],\n",
      "        [9.3090e-01, 6.9104e-02],\n",
      "        [9.6061e-01, 3.9389e-02],\n",
      "        [9.4807e-01, 5.1929e-02],\n",
      "        [9.4071e-01, 5.9294e-02]], grad_fn=<SliceBackward0>)\n"
     ]
    },
    {
     "name": "stderr",
     "output_type": "stream",
     "text": [
      " 55%|█████▌    | 53/96 [06:51<05:33,  7.76s/it]"
     ]
    },
    {
     "name": "stdout",
     "output_type": "stream",
     "text": [
      "tensor([[9.8198e-01, 1.8025e-02],\n",
      "        [9.5432e-01, 4.5676e-02],\n",
      "        [9.6023e-01, 3.9773e-02],\n",
      "        [9.9995e-01, 5.1501e-05],\n",
      "        [9.5504e-01, 4.4964e-02],\n",
      "        [1.0000e+00, 2.7677e-06],\n",
      "        [9.5986e-01, 4.0137e-02],\n",
      "        [1.0000e+00, 2.8297e-08],\n",
      "        [1.0000e+00, 1.0488e-07],\n",
      "        [1.0000e+00, 1.0467e-06]], grad_fn=<SliceBackward0>)\n"
     ]
    },
    {
     "name": "stderr",
     "output_type": "stream",
     "text": [
      " 56%|█████▋    | 54/96 [06:59<05:24,  7.74s/it]"
     ]
    },
    {
     "name": "stdout",
     "output_type": "stream",
     "text": [
      "tensor([[9.9996e-01, 4.4400e-05],\n",
      "        [9.3064e-01, 6.9365e-02],\n",
      "        [9.1994e-01, 8.0065e-02],\n",
      "        [1.0000e+00, 1.8213e-06],\n",
      "        [9.6148e-01, 3.8524e-02],\n",
      "        [9.9892e-01, 1.0759e-03],\n",
      "        [9.1939e-01, 8.0615e-02],\n",
      "        [9.3924e-01, 6.0762e-02],\n",
      "        [9.9872e-01, 1.2840e-03],\n",
      "        [9.9979e-01, 2.1437e-04]], grad_fn=<SliceBackward0>)\n"
     ]
    },
    {
     "name": "stderr",
     "output_type": "stream",
     "text": [
      " 57%|█████▋    | 55/96 [07:06<05:18,  7.76s/it]"
     ]
    },
    {
     "name": "stdout",
     "output_type": "stream",
     "text": [
      "tensor([[1.0000e+00, 1.8810e-07],\n",
      "        [9.4439e-01, 5.5614e-02],\n",
      "        [9.9606e-01, 3.9373e-03],\n",
      "        [1.0000e+00, 1.6823e-06],\n",
      "        [9.9990e-01, 1.0239e-04],\n",
      "        [9.9024e-01, 9.7644e-03],\n",
      "        [9.2564e-01, 7.4359e-02],\n",
      "        [9.5952e-01, 4.0481e-02],\n",
      "        [9.9955e-01, 4.4768e-04],\n",
      "        [1.0000e+00, 4.7604e-10]], grad_fn=<SliceBackward0>)\n"
     ]
    },
    {
     "name": "stderr",
     "output_type": "stream",
     "text": [
      " 58%|█████▊    | 56/96 [07:14<05:10,  7.76s/it]"
     ]
    },
    {
     "name": "stdout",
     "output_type": "stream",
     "text": [
      "tensor([[9.9972e-01, 2.8205e-04],\n",
      "        [9.3325e-01, 6.6751e-02],\n",
      "        [9.3534e-01, 6.4657e-02],\n",
      "        [8.8559e-01, 1.1441e-01],\n",
      "        [9.3188e-01, 6.8119e-02],\n",
      "        [1.0000e+00, 3.2006e-06],\n",
      "        [1.0000e+00, 1.6077e-06],\n",
      "        [9.3851e-01, 6.1485e-02],\n",
      "        [9.3435e-01, 6.5647e-02],\n",
      "        [9.9961e-01, 3.9458e-04]], grad_fn=<SliceBackward0>)\n"
     ]
    },
    {
     "name": "stderr",
     "output_type": "stream",
     "text": [
      " 59%|█████▉    | 57/96 [07:22<05:04,  7.80s/it]"
     ]
    },
    {
     "name": "stdout",
     "output_type": "stream",
     "text": [
      "tensor([[7.9851e-01, 2.0149e-01],\n",
      "        [8.7952e-01, 1.2048e-01],\n",
      "        [9.3858e-01, 6.1416e-02],\n",
      "        [1.0000e+00, 1.1369e-07],\n",
      "        [9.0911e-01, 9.0894e-02],\n",
      "        [9.5614e-01, 4.3860e-02],\n",
      "        [1.0000e+00, 3.4008e-08],\n",
      "        [9.3516e-01, 6.4843e-02],\n",
      "        [8.5395e-01, 1.4605e-01],\n",
      "        [8.9140e-01, 1.0860e-01]], grad_fn=<SliceBackward0>)\n"
     ]
    },
    {
     "name": "stderr",
     "output_type": "stream",
     "text": [
      " 60%|██████    | 58/96 [07:30<04:57,  7.82s/it]"
     ]
    },
    {
     "name": "stdout",
     "output_type": "stream",
     "text": [
      "tensor([[1.0000e+00, 5.2028e-08],\n",
      "        [9.7961e-01, 2.0386e-02],\n",
      "        [4.8117e-01, 5.1883e-01],\n",
      "        [7.4604e-01, 2.5396e-01],\n",
      "        [8.8988e-01, 1.1012e-01],\n",
      "        [3.5228e-01, 6.4772e-01],\n",
      "        [8.8937e-01, 1.1063e-01],\n",
      "        [7.4338e-01, 2.5662e-01],\n",
      "        [8.2670e-01, 1.7330e-01],\n",
      "        [5.0832e-01, 4.9168e-01]], grad_fn=<SliceBackward0>)\n"
     ]
    },
    {
     "name": "stderr",
     "output_type": "stream",
     "text": [
      " 61%|██████▏   | 59/96 [07:38<04:50,  7.86s/it]"
     ]
    },
    {
     "name": "stdout",
     "output_type": "stream",
     "text": [
      "tensor([[8.2043e-01, 1.7957e-01],\n",
      "        [6.7339e-01, 3.2661e-01],\n",
      "        [7.2720e-01, 2.7280e-01],\n",
      "        [9.9997e-01, 3.1086e-05],\n",
      "        [7.1829e-01, 2.8171e-01],\n",
      "        [6.1938e-01, 3.8062e-01],\n",
      "        [6.7014e-01, 3.2986e-01],\n",
      "        [1.0000e+00, 1.2673e-06],\n",
      "        [9.6094e-01, 3.9062e-02],\n",
      "        [9.9203e-01, 7.9654e-03]], grad_fn=<SliceBackward0>)\n"
     ]
    },
    {
     "name": "stderr",
     "output_type": "stream",
     "text": [
      " 62%|██████▎   | 60/96 [07:46<04:44,  7.90s/it]"
     ]
    },
    {
     "name": "stdout",
     "output_type": "stream",
     "text": [
      "tensor([[9.4916e-01, 5.0843e-02],\n",
      "        [8.7297e-01, 1.2703e-01],\n",
      "        [7.2303e-01, 2.7697e-01],\n",
      "        [7.4072e-01, 2.5928e-01],\n",
      "        [7.7006e-01, 2.2994e-01],\n",
      "        [6.9842e-01, 3.0158e-01],\n",
      "        [6.6069e-01, 3.3931e-01],\n",
      "        [6.9123e-01, 3.0877e-01],\n",
      "        [9.9943e-01, 5.6745e-04],\n",
      "        [9.9929e-01, 7.1153e-04]], grad_fn=<SliceBackward0>)\n"
     ]
    },
    {
     "name": "stderr",
     "output_type": "stream",
     "text": [
      " 64%|██████▎   | 61/96 [07:54<04:36,  7.90s/it]"
     ]
    },
    {
     "name": "stdout",
     "output_type": "stream",
     "text": [
      "tensor([[9.0566e-01, 9.4341e-02],\n",
      "        [9.9989e-01, 1.0594e-04],\n",
      "        [9.9939e-01, 6.0550e-04],\n",
      "        [9.9997e-01, 2.6522e-05],\n",
      "        [1.0000e+00, 4.1122e-07],\n",
      "        [8.8532e-01, 1.1468e-01],\n",
      "        [1.0000e+00, 3.1054e-14],\n",
      "        [9.9902e-01, 9.8469e-04],\n",
      "        [9.9983e-01, 1.6585e-04],\n",
      "        [8.2756e-01, 1.7244e-01]], grad_fn=<SliceBackward0>)\n"
     ]
    },
    {
     "name": "stderr",
     "output_type": "stream",
     "text": [
      " 65%|██████▍   | 62/96 [08:02<04:29,  7.93s/it]"
     ]
    },
    {
     "name": "stdout",
     "output_type": "stream",
     "text": [
      "tensor([[1.0000e+00, 3.3170e-06],\n",
      "        [9.9985e-01, 1.5249e-04],\n",
      "        [9.4440e-01, 5.5602e-02],\n",
      "        [8.7127e-01, 1.2873e-01],\n",
      "        [8.7521e-01, 1.2479e-01],\n",
      "        [9.7881e-01, 2.1194e-02],\n",
      "        [9.6985e-01, 3.0148e-02],\n",
      "        [9.9953e-01, 4.6849e-04],\n",
      "        [9.3539e-01, 6.4613e-02],\n",
      "        [9.1950e-01, 8.0500e-02]], grad_fn=<SliceBackward0>)\n"
     ]
    },
    {
     "name": "stderr",
     "output_type": "stream",
     "text": [
      " 66%|██████▌   | 63/96 [08:10<04:22,  7.95s/it]"
     ]
    },
    {
     "name": "stdout",
     "output_type": "stream",
     "text": [
      "tensor([[1.0000e+00, 1.2143e-08],\n",
      "        [9.9632e-01, 3.6769e-03],\n",
      "        [9.3397e-01, 6.6031e-02],\n",
      "        [1.0000e+00, 6.3959e-12],\n",
      "        [1.0000e+00, 1.0934e-06],\n",
      "        [9.9997e-01, 2.8924e-05],\n",
      "        [9.9947e-01, 5.3278e-04],\n",
      "        [8.9652e-01, 1.0348e-01],\n",
      "        [8.9153e-01, 1.0847e-01],\n",
      "        [9.8676e-01, 1.3239e-02]], grad_fn=<SliceBackward0>)\n"
     ]
    },
    {
     "name": "stderr",
     "output_type": "stream",
     "text": [
      " 67%|██████▋   | 64/96 [08:18<04:14,  7.95s/it]"
     ]
    },
    {
     "name": "stdout",
     "output_type": "stream",
     "text": [
      "tensor([[9.0245e-01, 9.7550e-02],\n",
      "        [9.0143e-01, 9.8571e-02],\n",
      "        [9.1647e-01, 8.3531e-02],\n",
      "        [9.1582e-01, 8.4177e-02],\n",
      "        [9.0731e-01, 9.2693e-02],\n",
      "        [1.0000e+00, 2.4048e-10],\n",
      "        [9.4451e-01, 5.5488e-02],\n",
      "        [9.8994e-01, 1.0058e-02],\n",
      "        [9.7201e-01, 2.7992e-02],\n",
      "        [8.9640e-01, 1.0360e-01]], grad_fn=<SliceBackward0>)\n"
     ]
    },
    {
     "name": "stderr",
     "output_type": "stream",
     "text": [
      " 68%|██████▊   | 65/96 [08:26<04:07,  7.99s/it]"
     ]
    },
    {
     "name": "stdout",
     "output_type": "stream",
     "text": [
      "tensor([[1.0000e+00, 1.7554e-11],\n",
      "        [9.0769e-01, 9.2308e-02],\n",
      "        [9.0419e-01, 9.5807e-02],\n",
      "        [1.0000e+00, 2.6937e-12],\n",
      "        [9.0735e-01, 9.2648e-02],\n",
      "        [1.0000e+00, 1.6561e-07],\n",
      "        [9.1522e-01, 8.4783e-02],\n",
      "        [1.0000e+00, 9.2082e-07],\n",
      "        [9.2272e-01, 7.7282e-02],\n",
      "        [9.0988e-01, 9.0121e-02]], grad_fn=<SliceBackward0>)\n"
     ]
    },
    {
     "name": "stderr",
     "output_type": "stream",
     "text": [
      " 69%|██████▉   | 66/96 [08:34<04:00,  8.03s/it]"
     ]
    },
    {
     "name": "stdout",
     "output_type": "stream",
     "text": [
      "tensor([[9.9725e-01, 2.7543e-03],\n",
      "        [8.6642e-01, 1.3358e-01],\n",
      "        [8.6222e-01, 1.3778e-01],\n",
      "        [1.0000e+00, 7.7681e-07],\n",
      "        [9.6096e-01, 3.9044e-02],\n",
      "        [9.6704e-01, 3.2960e-02],\n",
      "        [8.5785e-01, 1.4215e-01],\n",
      "        [9.6346e-01, 3.6539e-02],\n",
      "        [9.9995e-01, 4.8407e-05],\n",
      "        [9.7853e-01, 2.1470e-02]], grad_fn=<SliceBackward0>)\n"
     ]
    },
    {
     "name": "stderr",
     "output_type": "stream",
     "text": [
      " 70%|██████▉   | 67/96 [08:42<03:53,  8.07s/it]"
     ]
    },
    {
     "name": "stdout",
     "output_type": "stream",
     "text": [
      "tensor([[9.9352e-01, 6.4847e-03],\n",
      "        [1.0000e+00, 1.5996e-07],\n",
      "        [9.6481e-01, 3.5187e-02],\n",
      "        [9.2071e-01, 7.9295e-02],\n",
      "        [9.2281e-01, 7.7186e-02],\n",
      "        [9.8214e-01, 1.7865e-02],\n",
      "        [8.9705e-01, 1.0295e-01],\n",
      "        [8.9778e-01, 1.0222e-01],\n",
      "        [9.0619e-01, 9.3808e-02],\n",
      "        [9.8976e-01, 1.0236e-02]], grad_fn=<SliceBackward0>)\n"
     ]
    },
    {
     "name": "stderr",
     "output_type": "stream",
     "text": [
      " 71%|███████   | 68/96 [08:50<03:46,  8.09s/it]"
     ]
    },
    {
     "name": "stdout",
     "output_type": "stream",
     "text": [
      "tensor([[9.9921e-01, 7.8974e-04],\n",
      "        [9.9343e-01, 6.5694e-03],\n",
      "        [8.8735e-01, 1.1265e-01],\n",
      "        [8.9474e-01, 1.0526e-01],\n",
      "        [9.4724e-01, 5.2757e-02],\n",
      "        [9.6856e-01, 3.1442e-02],\n",
      "        [8.9796e-01, 1.0204e-01],\n",
      "        [9.9958e-01, 4.2315e-04],\n",
      "        [8.8410e-01, 1.1590e-01],\n",
      "        [9.9334e-01, 6.6575e-03]], grad_fn=<SliceBackward0>)\n"
     ]
    },
    {
     "name": "stderr",
     "output_type": "stream",
     "text": [
      " 72%|███████▏  | 69/96 [08:58<03:39,  8.13s/it]"
     ]
    },
    {
     "name": "stdout",
     "output_type": "stream",
     "text": [
      "tensor([[8.5319e-01, 1.4681e-01],\n",
      "        [8.5000e-01, 1.5000e-01],\n",
      "        [9.9968e-01, 3.1989e-04],\n",
      "        [8.8339e-01, 1.1661e-01],\n",
      "        [1.0000e+00, 1.8009e-10],\n",
      "        [8.5603e-01, 1.4397e-01],\n",
      "        [8.9185e-01, 1.0815e-01],\n",
      "        [9.8406e-01, 1.5939e-02],\n",
      "        [8.8362e-01, 1.1638e-01],\n",
      "        [8.5564e-01, 1.4436e-01]], grad_fn=<SliceBackward0>)\n"
     ]
    },
    {
     "name": "stderr",
     "output_type": "stream",
     "text": [
      " 73%|███████▎  | 70/96 [09:07<03:32,  8.17s/it]"
     ]
    },
    {
     "name": "stdout",
     "output_type": "stream",
     "text": [
      "tensor([[0.8511, 0.1489],\n",
      "        [0.8460, 0.1540],\n",
      "        [0.8489, 0.1511],\n",
      "        [0.8583, 0.1417],\n",
      "        [0.8559, 0.1441],\n",
      "        [0.8439, 0.1561],\n",
      "        [0.8524, 0.1476],\n",
      "        [0.8789, 0.1211],\n",
      "        [0.8462, 0.1538],\n",
      "        [0.8570, 0.1430]], grad_fn=<SliceBackward0>)\n"
     ]
    },
    {
     "name": "stderr",
     "output_type": "stream",
     "text": [
      " 74%|███████▍  | 71/96 [09:15<03:25,  8.22s/it]"
     ]
    },
    {
     "name": "stdout",
     "output_type": "stream",
     "text": [
      "tensor([[8.6913e-01, 1.3087e-01],\n",
      "        [8.6701e-01, 1.3299e-01],\n",
      "        [1.0000e+00, 9.4471e-08],\n",
      "        [8.7015e-01, 1.2985e-01],\n",
      "        [8.6949e-01, 1.3051e-01],\n",
      "        [8.7119e-01, 1.2881e-01],\n",
      "        [8.7026e-01, 1.2974e-01],\n",
      "        [9.1062e-01, 8.9385e-02],\n",
      "        [8.8545e-01, 1.1455e-01],\n",
      "        [9.4857e-01, 5.1430e-02]], grad_fn=<SliceBackward0>)\n"
     ]
    },
    {
     "name": "stderr",
     "output_type": "stream",
     "text": [
      " 75%|███████▌  | 72/96 [09:23<03:17,  8.23s/it]"
     ]
    },
    {
     "name": "stdout",
     "output_type": "stream",
     "text": [
      "tensor([[0.9140, 0.0860],\n",
      "        [0.9008, 0.0992],\n",
      "        [0.8517, 0.1483],\n",
      "        [0.9876, 0.0124],\n",
      "        [0.8582, 0.1418],\n",
      "        [0.8464, 0.1536],\n",
      "        [0.8612, 0.1388],\n",
      "        [0.9778, 0.0222],\n",
      "        [0.8502, 0.1498],\n",
      "        [0.8527, 0.1473]], grad_fn=<SliceBackward0>)\n"
     ]
    },
    {
     "name": "stderr",
     "output_type": "stream",
     "text": [
      " 76%|███████▌  | 73/96 [09:32<03:09,  8.26s/it]"
     ]
    },
    {
     "name": "stdout",
     "output_type": "stream",
     "text": [
      "tensor([[8.2962e-01, 1.7038e-01],\n",
      "        [8.2942e-01, 1.7058e-01],\n",
      "        [1.0000e+00, 2.1996e-26],\n",
      "        [8.2641e-01, 1.7359e-01],\n",
      "        [8.2136e-01, 1.7864e-01],\n",
      "        [8.3226e-01, 1.6774e-01],\n",
      "        [8.2839e-01, 1.7161e-01],\n",
      "        [8.7297e-01, 1.2703e-01],\n",
      "        [8.2058e-01, 1.7942e-01],\n",
      "        [8.3570e-01, 1.6430e-01]], grad_fn=<SliceBackward0>)\n"
     ]
    },
    {
     "name": "stderr",
     "output_type": "stream",
     "text": [
      " 77%|███████▋  | 74/96 [09:40<03:02,  8.27s/it]"
     ]
    },
    {
     "name": "stdout",
     "output_type": "stream",
     "text": [
      "tensor([[0.8353, 0.1647],\n",
      "        [0.8444, 0.1556],\n",
      "        [0.8367, 0.1633],\n",
      "        [0.8333, 0.1667],\n",
      "        [0.8332, 0.1668],\n",
      "        [0.8344, 0.1656],\n",
      "        [0.8485, 0.1515],\n",
      "        [0.8585, 0.1415],\n",
      "        [0.8337, 0.1663],\n",
      "        [0.8423, 0.1577]], grad_fn=<SliceBackward0>)\n"
     ]
    },
    {
     "name": "stderr",
     "output_type": "stream",
     "text": [
      " 78%|███████▊  | 75/96 [09:48<02:54,  8.33s/it]"
     ]
    },
    {
     "name": "stdout",
     "output_type": "stream",
     "text": [
      "tensor([[8.1994e-01, 1.8006e-01],\n",
      "        [8.6752e-01, 1.3248e-01],\n",
      "        [8.2384e-01, 1.7616e-01],\n",
      "        [9.9892e-01, 1.0811e-03],\n",
      "        [8.0803e-01, 1.9197e-01],\n",
      "        [1.0000e+00, 5.9117e-10],\n",
      "        [8.2292e-01, 1.7708e-01],\n",
      "        [7.9691e-01, 2.0309e-01],\n",
      "        [8.8873e-01, 1.1127e-01],\n",
      "        [8.0147e-01, 1.9853e-01]], grad_fn=<SliceBackward0>)\n"
     ]
    },
    {
     "name": "stderr",
     "output_type": "stream",
     "text": [
      " 79%|███████▉  | 76/96 [09:57<02:46,  8.32s/it]"
     ]
    },
    {
     "name": "stdout",
     "output_type": "stream",
     "text": [
      "tensor([[0.8448, 0.1552],\n",
      "        [0.8183, 0.1817],\n",
      "        [0.8544, 0.1456],\n",
      "        [0.8405, 0.1595],\n",
      "        [0.8356, 0.1644],\n",
      "        [0.8160, 0.1840],\n",
      "        [0.8657, 0.1343],\n",
      "        [0.8480, 0.1520],\n",
      "        [0.8564, 0.1436],\n",
      "        [0.9972, 0.0028]], grad_fn=<SliceBackward0>)\n"
     ]
    },
    {
     "name": "stderr",
     "output_type": "stream",
     "text": [
      " 80%|████████  | 77/96 [10:05<02:38,  8.32s/it]"
     ]
    },
    {
     "name": "stdout",
     "output_type": "stream",
     "text": [
      "tensor([[8.2565e-01, 1.7435e-01],\n",
      "        [9.6209e-01, 3.7913e-02],\n",
      "        [9.8554e-01, 1.4461e-02],\n",
      "        [8.3360e-01, 1.6640e-01],\n",
      "        [8.2718e-01, 1.7282e-01],\n",
      "        [8.2929e-01, 1.7071e-01],\n",
      "        [8.4808e-01, 1.5192e-01],\n",
      "        [1.0000e+00, 2.1625e-15],\n",
      "        [8.2167e-01, 1.7833e-01],\n",
      "        [9.3474e-01, 6.5260e-02]], grad_fn=<SliceBackward0>)\n"
     ]
    },
    {
     "name": "stderr",
     "output_type": "stream",
     "text": [
      " 81%|████████▏ | 78/96 [10:13<02:29,  8.33s/it]"
     ]
    },
    {
     "name": "stdout",
     "output_type": "stream",
     "text": [
      "tensor([[0.8892, 0.1108],\n",
      "        [0.9850, 0.0150],\n",
      "        [0.8446, 0.1554],\n",
      "        [0.8586, 0.1414],\n",
      "        [0.8752, 0.1248],\n",
      "        [0.8383, 0.1617],\n",
      "        [0.8408, 0.1592],\n",
      "        [0.9115, 0.0885],\n",
      "        [0.8458, 0.1542],\n",
      "        [0.8710, 0.1290]], grad_fn=<SliceBackward0>)\n"
     ]
    },
    {
     "name": "stderr",
     "output_type": "stream",
     "text": [
      " 82%|████████▏ | 79/96 [10:22<02:22,  8.36s/it]"
     ]
    },
    {
     "name": "stdout",
     "output_type": "stream",
     "text": [
      "tensor([[8.1759e-01, 1.8241e-01],\n",
      "        [8.9701e-01, 1.0299e-01],\n",
      "        [8.4628e-01, 1.5372e-01],\n",
      "        [8.6872e-01, 1.3128e-01],\n",
      "        [8.2913e-01, 1.7087e-01],\n",
      "        [8.3058e-01, 1.6942e-01],\n",
      "        [8.3583e-01, 1.6417e-01],\n",
      "        [8.4066e-01, 1.5934e-01],\n",
      "        [1.0000e+00, 4.8821e-10],\n",
      "        [8.5726e-01, 1.4274e-01]], grad_fn=<SliceBackward0>)\n"
     ]
    },
    {
     "name": "stderr",
     "output_type": "stream",
     "text": [
      " 83%|████████▎ | 80/96 [10:30<02:13,  8.37s/it]"
     ]
    },
    {
     "name": "stdout",
     "output_type": "stream",
     "text": [
      "tensor([[8.4700e-01, 1.5300e-01],\n",
      "        [8.2693e-01, 1.7307e-01],\n",
      "        [8.3226e-01, 1.6774e-01],\n",
      "        [8.3512e-01, 1.6488e-01],\n",
      "        [8.3544e-01, 1.6456e-01],\n",
      "        [8.3698e-01, 1.6302e-01],\n",
      "        [8.3370e-01, 1.6630e-01],\n",
      "        [8.3520e-01, 1.6480e-01],\n",
      "        [9.9294e-01, 7.0625e-03],\n",
      "        [1.0000e+00, 5.8075e-20]], grad_fn=<SliceBackward0>)\n"
     ]
    },
    {
     "name": "stderr",
     "output_type": "stream",
     "text": [
      " 84%|████████▍ | 81/96 [10:39<02:05,  8.36s/it]"
     ]
    },
    {
     "name": "stdout",
     "output_type": "stream",
     "text": [
      "tensor([[8.4793e-01, 1.5207e-01],\n",
      "        [8.4107e-01, 1.5893e-01],\n",
      "        [8.4272e-01, 1.5728e-01],\n",
      "        [8.4370e-01, 1.5630e-01],\n",
      "        [8.4804e-01, 1.5196e-01],\n",
      "        [8.4361e-01, 1.5639e-01],\n",
      "        [8.4565e-01, 1.5435e-01],\n",
      "        [8.4552e-01, 1.5448e-01],\n",
      "        [1.0000e+00, 2.7202e-16],\n",
      "        [8.5095e-01, 1.4905e-01]], grad_fn=<SliceBackward0>)\n"
     ]
    },
    {
     "name": "stderr",
     "output_type": "stream",
     "text": [
      " 85%|████████▌ | 82/96 [10:47<01:57,  8.38s/it]"
     ]
    },
    {
     "name": "stdout",
     "output_type": "stream",
     "text": [
      "tensor([[0.7800, 0.2200],\n",
      "        [0.7760, 0.2240],\n",
      "        [0.7787, 0.2213],\n",
      "        [0.7753, 0.2247],\n",
      "        [0.7773, 0.2227],\n",
      "        [0.7776, 0.2224],\n",
      "        [0.7786, 0.2214],\n",
      "        [0.7786, 0.2214],\n",
      "        [0.7744, 0.2256],\n",
      "        [0.9045, 0.0955]], grad_fn=<SliceBackward0>)\n"
     ]
    },
    {
     "name": "stderr",
     "output_type": "stream",
     "text": [
      " 86%|████████▋ | 83/96 [10:55<01:49,  8.39s/it]"
     ]
    },
    {
     "name": "stdout",
     "output_type": "stream",
     "text": [
      "tensor([[8.3800e-01, 1.6200e-01],\n",
      "        [8.4009e-01, 1.5991e-01],\n",
      "        [1.0000e+00, 1.2081e-07],\n",
      "        [9.8742e-01, 1.2576e-02],\n",
      "        [8.3827e-01, 1.6173e-01],\n",
      "        [1.0000e+00, 1.1338e-07],\n",
      "        [8.3889e-01, 1.6111e-01],\n",
      "        [8.4103e-01, 1.5897e-01],\n",
      "        [8.3640e-01, 1.6360e-01],\n",
      "        [8.3917e-01, 1.6083e-01]], grad_fn=<SliceBackward0>)\n"
     ]
    },
    {
     "name": "stderr",
     "output_type": "stream",
     "text": [
      " 88%|████████▊ | 84/96 [11:04<01:40,  8.38s/it]"
     ]
    },
    {
     "name": "stdout",
     "output_type": "stream",
     "text": [
      "tensor([[8.3707e-01, 1.6293e-01],\n",
      "        [8.3364e-01, 1.6636e-01],\n",
      "        [8.2962e-01, 1.7038e-01],\n",
      "        [8.3781e-01, 1.6219e-01],\n",
      "        [8.3736e-01, 1.6264e-01],\n",
      "        [8.3719e-01, 1.6281e-01],\n",
      "        [8.3620e-01, 1.6380e-01],\n",
      "        [8.3653e-01, 1.6347e-01],\n",
      "        [8.3839e-01, 1.6161e-01],\n",
      "        [1.0000e+00, 1.6126e-23]], grad_fn=<SliceBackward0>)\n"
     ]
    },
    {
     "name": "stderr",
     "output_type": "stream",
     "text": [
      " 89%|████████▊ | 85/96 [11:12<01:32,  8.38s/it]"
     ]
    },
    {
     "name": "stdout",
     "output_type": "stream",
     "text": [
      "tensor([[0.8687, 0.1313],\n",
      "        [0.8689, 0.1311],\n",
      "        [0.8671, 0.1329],\n",
      "        [0.8660, 0.1340],\n",
      "        [0.8656, 0.1344],\n",
      "        [0.9669, 0.0331],\n",
      "        [0.9424, 0.0576],\n",
      "        [0.8685, 0.1315],\n",
      "        [0.8691, 0.1309],\n",
      "        [0.8696, 0.1304]], grad_fn=<SliceBackward0>)\n"
     ]
    },
    {
     "name": "stderr",
     "output_type": "stream",
     "text": [
      " 90%|████████▉ | 86/96 [11:21<01:24,  8.40s/it]"
     ]
    },
    {
     "name": "stdout",
     "output_type": "stream",
     "text": [
      "tensor([[0.8404, 0.1596],\n",
      "        [0.8345, 0.1655],\n",
      "        [0.8409, 0.1591],\n",
      "        [0.8416, 0.1584],\n",
      "        [0.8396, 0.1604],\n",
      "        [0.8381, 0.1619],\n",
      "        [0.8361, 0.1639],\n",
      "        [0.8392, 0.1608],\n",
      "        [0.8322, 0.1678],\n",
      "        [0.8403, 0.1597]], grad_fn=<SliceBackward0>)\n"
     ]
    },
    {
     "name": "stderr",
     "output_type": "stream",
     "text": [
      " 91%|█████████ | 87/96 [11:29<01:15,  8.40s/it]"
     ]
    },
    {
     "name": "stdout",
     "output_type": "stream",
     "text": [
      "tensor([[8.3724e-01, 1.6276e-01],\n",
      "        [8.3967e-01, 1.6033e-01],\n",
      "        [8.4059e-01, 1.5941e-01],\n",
      "        [8.4025e-01, 1.5975e-01],\n",
      "        [1.0000e+00, 5.3660e-19],\n",
      "        [8.4011e-01, 1.5989e-01],\n",
      "        [8.3973e-01, 1.6027e-01],\n",
      "        [8.3602e-01, 1.6398e-01],\n",
      "        [8.3820e-01, 1.6180e-01],\n",
      "        [8.3961e-01, 1.6039e-01]], grad_fn=<SliceBackward0>)\n"
     ]
    },
    {
     "name": "stderr",
     "output_type": "stream",
     "text": [
      " 92%|█████████▏| 88/96 [11:37<01:07,  8.41s/it]"
     ]
    },
    {
     "name": "stdout",
     "output_type": "stream",
     "text": [
      "tensor([[8.8465e-01, 1.1535e-01],\n",
      "        [8.8353e-01, 1.1647e-01],\n",
      "        [8.8415e-01, 1.1585e-01],\n",
      "        [8.8595e-01, 1.1405e-01],\n",
      "        [8.8569e-01, 1.1431e-01],\n",
      "        [8.8356e-01, 1.1644e-01],\n",
      "        [1.0000e+00, 1.0450e-08],\n",
      "        [8.8078e-01, 1.1922e-01],\n",
      "        [8.8306e-01, 1.1694e-01],\n",
      "        [8.8473e-01, 1.1527e-01]], grad_fn=<SliceBackward0>)\n"
     ]
    },
    {
     "name": "stderr",
     "output_type": "stream",
     "text": [
      " 93%|█████████▎| 89/96 [11:46<00:59,  8.44s/it]"
     ]
    },
    {
     "name": "stdout",
     "output_type": "stream",
     "text": [
      "tensor([[0.8496, 0.1504],\n",
      "        [0.8532, 0.1468],\n",
      "        [0.8495, 0.1505],\n",
      "        [0.8500, 0.1500],\n",
      "        [0.8524, 0.1476],\n",
      "        [0.8501, 0.1499],\n",
      "        [0.8497, 0.1503],\n",
      "        [0.8496, 0.1504],\n",
      "        [0.8523, 0.1477],\n",
      "        [0.9618, 0.0382]], grad_fn=<SliceBackward0>)\n"
     ]
    },
    {
     "name": "stderr",
     "output_type": "stream",
     "text": [
      " 94%|█████████▍| 90/96 [11:54<00:50,  8.46s/it]"
     ]
    },
    {
     "name": "stdout",
     "output_type": "stream",
     "text": [
      "tensor([[0.8787, 0.1213],\n",
      "        [0.8836, 0.1164],\n",
      "        [0.8839, 0.1161],\n",
      "        [0.9045, 0.0955],\n",
      "        [0.8846, 0.1154],\n",
      "        [0.8858, 0.1142],\n",
      "        [0.8775, 0.1225],\n",
      "        [0.8801, 0.1199],\n",
      "        [0.8841, 0.1159],\n",
      "        [0.8849, 0.1151]], grad_fn=<SliceBackward0>)\n"
     ]
    },
    {
     "name": "stderr",
     "output_type": "stream",
     "text": [
      " 95%|█████████▍| 91/96 [12:03<00:42,  8.47s/it]"
     ]
    },
    {
     "name": "stdout",
     "output_type": "stream",
     "text": [
      "tensor([[9.9979e-01, 2.0598e-04],\n",
      "        [9.7423e-01, 2.5765e-02],\n",
      "        [8.6071e-01, 1.3929e-01],\n",
      "        [8.6485e-01, 1.3515e-01],\n",
      "        [8.5609e-01, 1.4391e-01],\n",
      "        [8.6402e-01, 1.3598e-01],\n",
      "        [8.6225e-01, 1.3775e-01],\n",
      "        [8.6398e-01, 1.3602e-01],\n",
      "        [8.6235e-01, 1.3765e-01],\n",
      "        [8.6291e-01, 1.3709e-01]], grad_fn=<SliceBackward0>)\n"
     ]
    },
    {
     "name": "stderr",
     "output_type": "stream",
     "text": [
      " 96%|█████████▌| 92/96 [12:11<00:33,  8.43s/it]"
     ]
    },
    {
     "name": "stdout",
     "output_type": "stream",
     "text": [
      "tensor([[0.9506, 0.0494],\n",
      "        [0.8713, 0.1287],\n",
      "        [0.8689, 0.1311],\n",
      "        [0.8705, 0.1295],\n",
      "        [0.8693, 0.1307],\n",
      "        [0.8697, 0.1303],\n",
      "        [0.8709, 0.1291],\n",
      "        [0.8673, 0.1327],\n",
      "        [0.8732, 0.1268],\n",
      "        [0.8713, 0.1287]], grad_fn=<SliceBackward0>)\n"
     ]
    },
    {
     "name": "stderr",
     "output_type": "stream",
     "text": [
      " 97%|█████████▋| 93/96 [12:20<00:25,  8.40s/it]"
     ]
    },
    {
     "name": "stdout",
     "output_type": "stream",
     "text": [
      "tensor([[8.7468e-01, 1.2532e-01],\n",
      "        [8.7463e-01, 1.2537e-01],\n",
      "        [8.7615e-01, 1.2385e-01],\n",
      "        [9.9994e-01, 5.8813e-05],\n",
      "        [8.7538e-01, 1.2462e-01],\n",
      "        [8.7516e-01, 1.2484e-01],\n",
      "        [1.0000e+00, 1.0620e-12],\n",
      "        [8.7488e-01, 1.2512e-01],\n",
      "        [8.7582e-01, 1.2418e-01],\n",
      "        [8.7477e-01, 1.2523e-01]], grad_fn=<SliceBackward0>)\n"
     ]
    },
    {
     "name": "stderr",
     "output_type": "stream",
     "text": [
      " 98%|█████████▊| 94/96 [12:28<00:16,  8.39s/it]"
     ]
    },
    {
     "name": "stdout",
     "output_type": "stream",
     "text": [
      "tensor([[8.3578e-01, 1.6422e-01],\n",
      "        [8.3564e-01, 1.6436e-01],\n",
      "        [9.9017e-01, 9.8278e-03],\n",
      "        [8.3594e-01, 1.6406e-01],\n",
      "        [9.9993e-01, 7.3863e-05],\n",
      "        [9.8667e-01, 1.3327e-02],\n",
      "        [8.3456e-01, 1.6544e-01],\n",
      "        [8.3285e-01, 1.6715e-01],\n",
      "        [8.3836e-01, 1.6164e-01],\n",
      "        [8.3383e-01, 1.6617e-01]], grad_fn=<SliceBackward0>)\n"
     ]
    },
    {
     "name": "stderr",
     "output_type": "stream",
     "text": [
      " 99%|█████████▉| 95/96 [12:36<00:08,  8.39s/it]"
     ]
    },
    {
     "name": "stdout",
     "output_type": "stream",
     "text": [
      "tensor([[8.2430e-01, 1.7570e-01],\n",
      "        [8.2295e-01, 1.7705e-01],\n",
      "        [8.2525e-01, 1.7475e-01],\n",
      "        [1.0000e+00, 4.1863e-07],\n",
      "        [8.2542e-01, 1.7458e-01],\n",
      "        [8.2368e-01, 1.7632e-01],\n",
      "        [9.9417e-01, 5.8260e-03],\n",
      "        [9.9973e-01, 2.7054e-04],\n",
      "        [8.2638e-01, 1.7362e-01],\n",
      "        [8.2515e-01, 1.7485e-01]], grad_fn=<SliceBackward0>)\n"
     ]
    },
    {
     "name": "stderr",
     "output_type": "stream",
     "text": [
      "100%|██████████| 96/96 [12:45<00:00,  7.97s/it]\n",
      "  8%|▊         | 1/12 [00:02<00:28,  2.63s/it]"
     ]
    },
    {
     "name": "stdout",
     "output_type": "stream",
     "text": [
      "tensor([[0.8264, 0.1736],\n",
      "        [0.8264, 0.1736],\n",
      "        [0.8268, 0.1732],\n",
      "        [0.8272, 0.1728],\n",
      "        [0.8271, 0.1729],\n",
      "        [0.8277, 0.1723],\n",
      "        [0.8268, 0.1732],\n",
      "        [0.8279, 0.1721],\n",
      "        [0.8276, 0.1724],\n",
      "        [0.8271, 0.1729]], grad_fn=<SliceBackward0>)\n",
      "tensor([[0.8284, 0.1716],\n",
      "        [0.8266, 0.1734],\n",
      "        [0.8270, 0.1730],\n",
      "        [0.8269, 0.1731],\n",
      "        [0.8287, 0.1713],\n",
      "        [0.8263, 0.1737],\n",
      "        [0.8269, 0.1731],\n",
      "        [0.8272, 0.1728],\n",
      "        [0.8272, 0.1728],\n",
      "        [0.8316, 0.1684]], grad_fn=<SliceBackward0>)\n"
     ]
    },
    {
     "name": "stderr",
     "output_type": "stream",
     "text": [
      " 17%|█▋        | 2/12 [00:05<00:27,  2.76s/it]"
     ]
    },
    {
     "name": "stdout",
     "output_type": "stream",
     "text": [
      "tensor([[0.8270, 0.1730],\n",
      "        [0.8280, 0.1720],\n",
      "        [0.8269, 0.1731],\n",
      "        [0.8259, 0.1741],\n",
      "        [0.8291, 0.1709],\n",
      "        [0.8273, 0.1727],\n",
      "        [0.8266, 0.1734],\n",
      "        [0.8270, 0.1730],\n",
      "        [0.8283, 0.1717],\n",
      "        [0.8282, 0.1718]], grad_fn=<SliceBackward0>)\n"
     ]
    },
    {
     "name": "stderr",
     "output_type": "stream",
     "text": [
      " 25%|██▌       | 3/12 [00:08<00:25,  2.79s/it]"
     ]
    },
    {
     "name": "stdout",
     "output_type": "stream",
     "text": [
      "tensor([[0.8275, 0.1725],\n",
      "        [0.8267, 0.1733],\n",
      "        [0.8275, 0.1725],\n",
      "        [0.8273, 0.1727],\n",
      "        [0.8281, 0.1719],\n",
      "        [0.8262, 0.1738],\n",
      "        [0.8272, 0.1728],\n",
      "        [0.8261, 0.1739],\n",
      "        [0.8282, 0.1718],\n",
      "        [0.8266, 0.1734]], grad_fn=<SliceBackward0>)\n"
     ]
    },
    {
     "name": "stderr",
     "output_type": "stream",
     "text": [
      " 33%|███▎      | 4/12 [00:11<00:22,  2.85s/it]"
     ]
    },
    {
     "name": "stdout",
     "output_type": "stream",
     "text": [
      "tensor([[0.8268, 0.1732],\n",
      "        [0.8272, 0.1728],\n",
      "        [0.8287, 0.1713],\n",
      "        [0.8271, 0.1729],\n",
      "        [0.8264, 0.1736],\n",
      "        [0.8263, 0.1737],\n",
      "        [0.8296, 0.1704],\n",
      "        [0.8283, 0.1717],\n",
      "        [0.8271, 0.1729],\n",
      "        [0.8269, 0.1731]], grad_fn=<SliceBackward0>)\n"
     ]
    },
    {
     "name": "stderr",
     "output_type": "stream",
     "text": [
      " 42%|████▏     | 5/12 [00:14<00:19,  2.84s/it]"
     ]
    },
    {
     "name": "stdout",
     "output_type": "stream",
     "text": [
      "tensor([[0.8277, 0.1723],\n",
      "        [0.8267, 0.1733],\n",
      "        [0.8251, 0.1749],\n",
      "        [0.8286, 0.1714],\n",
      "        [0.8265, 0.1735],\n",
      "        [0.8266, 0.1734],\n",
      "        [0.8271, 0.1729],\n",
      "        [0.8288, 0.1712],\n",
      "        [0.8284, 0.1716],\n",
      "        [0.8272, 0.1728]], grad_fn=<SliceBackward0>)\n"
     ]
    },
    {
     "name": "stderr",
     "output_type": "stream",
     "text": [
      " 50%|█████     | 6/12 [00:16<00:16,  2.83s/it]"
     ]
    },
    {
     "name": "stdout",
     "output_type": "stream",
     "text": [
      "tensor([[0.8273, 0.1727],\n",
      "        [0.8286, 0.1714],\n",
      "        [0.8252, 0.1748],\n",
      "        [0.8261, 0.1739],\n",
      "        [0.8391, 0.1609],\n",
      "        [0.8280, 0.1720],\n",
      "        [0.8267, 0.1733],\n",
      "        [0.8287, 0.1713],\n",
      "        [0.8273, 0.1727],\n",
      "        [0.8280, 0.1720]], grad_fn=<SliceBackward0>)\n"
     ]
    },
    {
     "name": "stderr",
     "output_type": "stream",
     "text": [
      " 58%|█████▊    | 7/12 [00:19<00:14,  2.85s/it]"
     ]
    },
    {
     "name": "stdout",
     "output_type": "stream",
     "text": [
      "tensor([[0.8267, 0.1733],\n",
      "        [0.8270, 0.1730],\n",
      "        [0.8276, 0.1724],\n",
      "        [0.8278, 0.1722],\n",
      "        [0.8274, 0.1726],\n",
      "        [0.8274, 0.1726],\n",
      "        [0.8267, 0.1733],\n",
      "        [0.8290, 0.1710],\n",
      "        [0.8272, 0.1728],\n",
      "        [0.8278, 0.1722]], grad_fn=<SliceBackward0>)\n"
     ]
    },
    {
     "name": "stderr",
     "output_type": "stream",
     "text": [
      " 67%|██████▋   | 8/12 [00:22<00:11,  2.85s/it]"
     ]
    },
    {
     "name": "stdout",
     "output_type": "stream",
     "text": [
      "tensor([[0.8268, 0.1732],\n",
      "        [0.8265, 0.1735],\n",
      "        [0.8273, 0.1727],\n",
      "        [0.8279, 0.1721],\n",
      "        [0.8266, 0.1734],\n",
      "        [0.8256, 0.1744],\n",
      "        [0.8267, 0.1733],\n",
      "        [0.8277, 0.1723],\n",
      "        [0.8285, 0.1715],\n",
      "        [0.8277, 0.1723]], grad_fn=<SliceBackward0>)\n"
     ]
    },
    {
     "name": "stderr",
     "output_type": "stream",
     "text": [
      " 75%|███████▌  | 9/12 [00:25<00:08,  2.84s/it]"
     ]
    },
    {
     "name": "stdout",
     "output_type": "stream",
     "text": [
      "tensor([[0.8281, 0.1719],\n",
      "        [0.8271, 0.1729],\n",
      "        [0.8292, 0.1708],\n",
      "        [0.8273, 0.1727],\n",
      "        [0.8267, 0.1733],\n",
      "        [0.8255, 0.1745],\n",
      "        [0.8271, 0.1729],\n",
      "        [0.8274, 0.1726],\n",
      "        [0.8270, 0.1730],\n",
      "        [0.8274, 0.1726]], grad_fn=<SliceBackward0>)\n"
     ]
    },
    {
     "name": "stderr",
     "output_type": "stream",
     "text": [
      " 83%|████████▎ | 10/12 [00:28<00:05,  2.84s/it]"
     ]
    },
    {
     "name": "stdout",
     "output_type": "stream",
     "text": [
      "tensor([[0.8273, 0.1727],\n",
      "        [0.8261, 0.1739],\n",
      "        [0.8266, 0.1734],\n",
      "        [0.8274, 0.1726],\n",
      "        [0.8269, 0.1731],\n",
      "        [0.8260, 0.1740],\n",
      "        [0.8276, 0.1724],\n",
      "        [0.8278, 0.1722],\n",
      "        [0.8277, 0.1723],\n",
      "        [0.8272, 0.1728]], grad_fn=<SliceBackward0>)\n"
     ]
    },
    {
     "name": "stderr",
     "output_type": "stream",
     "text": [
      " 92%|█████████▏| 11/12 [00:31<00:02,  2.84s/it]"
     ]
    },
    {
     "name": "stdout",
     "output_type": "stream",
     "text": [
      "tensor([[0.8293, 0.1707],\n",
      "        [0.8302, 0.1698],\n",
      "        [0.8279, 0.1721],\n",
      "        [0.8277, 0.1723],\n",
      "        [0.8308, 0.1692],\n",
      "        [0.8271, 0.1729],\n",
      "        [0.8279, 0.1721],\n",
      "        [0.8300, 0.1700],\n",
      "        [0.8264, 0.1736],\n",
      "        [0.8266, 0.1734]], grad_fn=<SliceBackward0>)\n"
     ]
    },
    {
     "name": "stderr",
     "output_type": "stream",
     "text": [
      "100%|██████████| 12/12 [00:33<00:00,  2.83s/it]\n"
     ]
    },
    {
     "name": "stdout",
     "output_type": "stream",
     "text": [
      "Train Accuracy: 0.336 Test Accuracy: 0.322\n",
      "Epoch 1: \n"
     ]
    },
    {
     "name": "stderr",
     "output_type": "stream",
     "text": [
      "  0%|          | 0/96 [00:00<?, ?it/s]"
     ]
    },
    {
     "name": "stdout",
     "output_type": "stream",
     "text": [
      "tensor([[0.8207, 0.1793],\n",
      "        [0.8179, 0.1821],\n",
      "        [0.8200, 0.1800],\n",
      "        [0.8199, 0.1801],\n",
      "        [0.8238, 0.1762],\n",
      "        [0.8194, 0.1806],\n",
      "        [0.8209, 0.1791],\n",
      "        [0.9895, 0.0105],\n",
      "        [0.8211, 0.1789],\n",
      "        [0.8197, 0.1803]], grad_fn=<SliceBackward0>)\n"
     ]
    },
    {
     "name": "stderr",
     "output_type": "stream",
     "text": [
      "  1%|          | 1/96 [00:08<13:14,  8.36s/it]"
     ]
    },
    {
     "name": "stdout",
     "output_type": "stream",
     "text": [
      "tensor([[0.8374, 0.1626],\n",
      "        [0.8387, 0.1613],\n",
      "        [0.8375, 0.1625],\n",
      "        [0.8431, 0.1569],\n",
      "        [0.8389, 0.1611],\n",
      "        [0.8381, 0.1619],\n",
      "        [0.8368, 0.1632],\n",
      "        [0.8368, 0.1632],\n",
      "        [0.8365, 0.1635],\n",
      "        [0.8418, 0.1582]], grad_fn=<SliceBackward0>)\n"
     ]
    },
    {
     "name": "stderr",
     "output_type": "stream",
     "text": [
      "  2%|▏         | 2/96 [00:16<13:07,  8.38s/it]"
     ]
    },
    {
     "name": "stdout",
     "output_type": "stream",
     "text": [
      "tensor([[0.8142, 0.1858],\n",
      "        [0.9984, 0.0016],\n",
      "        [0.8151, 0.1849],\n",
      "        [0.8159, 0.1841],\n",
      "        [0.8133, 0.1867],\n",
      "        [0.9401, 0.0599],\n",
      "        [0.8266, 0.1734],\n",
      "        [0.8154, 0.1846],\n",
      "        [0.8348, 0.1652],\n",
      "        [0.8236, 0.1764]], grad_fn=<SliceBackward0>)\n"
     ]
    },
    {
     "name": "stderr",
     "output_type": "stream",
     "text": [
      "  3%|▎         | 3/96 [00:25<13:05,  8.44s/it]"
     ]
    },
    {
     "name": "stdout",
     "output_type": "stream",
     "text": [
      "tensor([[0.8095, 0.1905],\n",
      "        [0.8383, 0.1617],\n",
      "        [0.8092, 0.1908],\n",
      "        [0.8067, 0.1933],\n",
      "        [0.8087, 0.1913],\n",
      "        [0.8099, 0.1901],\n",
      "        [0.8105, 0.1895],\n",
      "        [0.8120, 0.1880],\n",
      "        [0.8120, 0.1880],\n",
      "        [0.8240, 0.1760]], grad_fn=<SliceBackward0>)\n"
     ]
    },
    {
     "name": "stderr",
     "output_type": "stream",
     "text": [
      "  4%|▍         | 4/96 [00:33<12:52,  8.39s/it]"
     ]
    },
    {
     "name": "stdout",
     "output_type": "stream",
     "text": [
      "tensor([[9.0088e-01, 9.9118e-02],\n",
      "        [8.3684e-01, 1.6316e-01],\n",
      "        [8.3504e-01, 1.6496e-01],\n",
      "        [8.3499e-01, 1.6501e-01],\n",
      "        [8.3645e-01, 1.6355e-01],\n",
      "        [1.0000e+00, 2.7809e-07],\n",
      "        [1.0000e+00, 1.2376e-19],\n",
      "        [1.0000e+00, 4.6232e-10],\n",
      "        [8.3528e-01, 1.6472e-01],\n",
      "        [8.6546e-01, 1.3454e-01]], grad_fn=<SliceBackward0>)\n"
     ]
    },
    {
     "name": "stderr",
     "output_type": "stream",
     "text": [
      "  5%|▌         | 5/96 [00:41<12:40,  8.36s/it]"
     ]
    },
    {
     "name": "stdout",
     "output_type": "stream",
     "text": [
      "tensor([[8.3952e-01, 1.6048e-01],\n",
      "        [1.0000e+00, 8.2908e-20],\n",
      "        [1.0000e+00, 1.3506e-16],\n",
      "        [8.4421e-01, 1.5579e-01],\n",
      "        [8.4149e-01, 1.5851e-01],\n",
      "        [8.6331e-01, 1.3669e-01],\n",
      "        [8.3849e-01, 1.6151e-01],\n",
      "        [8.4072e-01, 1.5928e-01],\n",
      "        [8.4825e-01, 1.5175e-01],\n",
      "        [8.4101e-01, 1.5899e-01]], grad_fn=<SliceBackward0>)\n"
     ]
    },
    {
     "name": "stderr",
     "output_type": "stream",
     "text": [
      "  6%|▋         | 6/96 [00:50<12:33,  8.37s/it]"
     ]
    },
    {
     "name": "stdout",
     "output_type": "stream",
     "text": [
      "tensor([[1.0000e+00, 3.8885e-12],\n",
      "        [8.9396e-01, 1.0604e-01],\n",
      "        [8.8905e-01, 1.1095e-01],\n",
      "        [8.9018e-01, 1.0982e-01],\n",
      "        [8.8991e-01, 1.1009e-01],\n",
      "        [8.8898e-01, 1.1102e-01],\n",
      "        [8.8889e-01, 1.1111e-01],\n",
      "        [8.9116e-01, 1.0884e-01],\n",
      "        [9.2099e-01, 7.9011e-02],\n",
      "        [8.8820e-01, 1.1180e-01]], grad_fn=<SliceBackward0>)\n"
     ]
    },
    {
     "name": "stderr",
     "output_type": "stream",
     "text": [
      "  7%|▋         | 7/96 [00:58<12:34,  8.48s/it]"
     ]
    },
    {
     "name": "stdout",
     "output_type": "stream",
     "text": [
      "tensor([[1.0000e+00, 2.1433e-09],\n",
      "        [8.4295e-01, 1.5705e-01],\n",
      "        [8.4391e-01, 1.5609e-01],\n",
      "        [8.4637e-01, 1.5363e-01],\n",
      "        [8.4368e-01, 1.5632e-01],\n",
      "        [8.4506e-01, 1.5494e-01],\n",
      "        [8.4320e-01, 1.5680e-01],\n",
      "        [9.9983e-01, 1.7247e-04],\n",
      "        [8.4691e-01, 1.5309e-01],\n",
      "        [1.0000e+00, 1.2204e-10]], grad_fn=<SliceBackward0>)\n"
     ]
    },
    {
     "name": "stderr",
     "output_type": "stream",
     "text": [
      "  8%|▊         | 8/96 [01:07<12:39,  8.63s/it]"
     ]
    },
    {
     "name": "stdout",
     "output_type": "stream",
     "text": [
      "tensor([[0.8596, 0.1404],\n",
      "        [0.8716, 0.1284],\n",
      "        [0.8577, 0.1423],\n",
      "        [0.8708, 0.1292],\n",
      "        [0.8587, 0.1413],\n",
      "        [0.8977, 0.1023],\n",
      "        [0.9115, 0.0885],\n",
      "        [0.8591, 0.1409],\n",
      "        [0.8585, 0.1415],\n",
      "        [0.8572, 0.1428]], grad_fn=<SliceBackward0>)\n"
     ]
    },
    {
     "name": "stderr",
     "output_type": "stream",
     "text": [
      "  9%|▉         | 9/96 [01:16<12:27,  8.59s/it]"
     ]
    },
    {
     "name": "stdout",
     "output_type": "stream",
     "text": [
      "tensor([[0.8704, 0.1296],\n",
      "        [0.8697, 0.1303],\n",
      "        [0.8683, 0.1317],\n",
      "        [0.8674, 0.1326],\n",
      "        [0.8700, 0.1300],\n",
      "        [0.8679, 0.1321],\n",
      "        [0.8708, 0.1292],\n",
      "        [0.8950, 0.1050],\n",
      "        [0.8691, 0.1309],\n",
      "        [0.8787, 0.1213]], grad_fn=<SliceBackward0>)\n"
     ]
    },
    {
     "name": "stderr",
     "output_type": "stream",
     "text": [
      " 10%|█         | 10/96 [01:24<12:15,  8.55s/it]"
     ]
    },
    {
     "name": "stdout",
     "output_type": "stream",
     "text": [
      "tensor([[0.9358, 0.0642],\n",
      "        [0.8815, 0.1185],\n",
      "        [0.9210, 0.0790],\n",
      "        [0.8822, 0.1178],\n",
      "        [0.8863, 0.1137],\n",
      "        [0.9971, 0.0029],\n",
      "        [0.8835, 0.1165],\n",
      "        [0.8827, 0.1173],\n",
      "        [0.8815, 0.1185],\n",
      "        [0.8835, 0.1165]], grad_fn=<SliceBackward0>)\n"
     ]
    },
    {
     "name": "stderr",
     "output_type": "stream",
     "text": [
      " 11%|█▏        | 11/96 [01:33<12:04,  8.52s/it]"
     ]
    },
    {
     "name": "stdout",
     "output_type": "stream",
     "text": [
      "tensor([[0.8471, 0.1529],\n",
      "        [0.8484, 0.1516],\n",
      "        [0.8522, 0.1478],\n",
      "        [0.8499, 0.1501],\n",
      "        [0.8488, 0.1512],\n",
      "        [0.8489, 0.1511],\n",
      "        [0.8491, 0.1509],\n",
      "        [0.8509, 0.1491],\n",
      "        [0.8504, 0.1496],\n",
      "        [0.8464, 0.1536]], grad_fn=<SliceBackward0>)\n"
     ]
    },
    {
     "name": "stderr",
     "output_type": "stream",
     "text": [
      " 12%|█▎        | 12/96 [01:41<11:52,  8.48s/it]"
     ]
    },
    {
     "name": "stdout",
     "output_type": "stream",
     "text": [
      "tensor([[9.9977e-01, 2.3203e-04],\n",
      "        [1.0000e+00, 5.0218e-24],\n",
      "        [8.3600e-01, 1.6400e-01],\n",
      "        [8.3684e-01, 1.6316e-01],\n",
      "        [8.3511e-01, 1.6489e-01],\n",
      "        [8.3595e-01, 1.6405e-01],\n",
      "        [8.3603e-01, 1.6397e-01],\n",
      "        [8.3725e-01, 1.6275e-01],\n",
      "        [8.2557e-01, 1.7443e-01],\n",
      "        [9.3313e-01, 6.6869e-02]], grad_fn=<SliceBackward0>)\n"
     ]
    },
    {
     "name": "stderr",
     "output_type": "stream",
     "text": [
      " 14%|█▎        | 13/96 [01:50<11:40,  8.44s/it]"
     ]
    },
    {
     "name": "stdout",
     "output_type": "stream",
     "text": [
      "tensor([[8.3431e-01, 1.6569e-01],\n",
      "        [8.3398e-01, 1.6602e-01],\n",
      "        [9.9983e-01, 1.6672e-04],\n",
      "        [9.4001e-01, 5.9988e-02],\n",
      "        [8.3304e-01, 1.6696e-01],\n",
      "        [1.0000e+00, 1.0083e-13],\n",
      "        [8.3359e-01, 1.6641e-01],\n",
      "        [8.3334e-01, 1.6666e-01],\n",
      "        [8.3404e-01, 1.6596e-01],\n",
      "        [8.3522e-01, 1.6478e-01]], grad_fn=<SliceBackward0>)\n"
     ]
    },
    {
     "name": "stderr",
     "output_type": "stream",
     "text": [
      " 15%|█▍        | 14/96 [01:58<11:31,  8.44s/it]"
     ]
    },
    {
     "name": "stdout",
     "output_type": "stream",
     "text": [
      "tensor([[9.4388e-01, 5.6122e-02],\n",
      "        [9.4193e-01, 5.8067e-02],\n",
      "        [1.0000e+00, 1.4897e-06],\n",
      "        [9.4304e-01, 5.6955e-02],\n",
      "        [9.3591e-01, 6.4094e-02],\n",
      "        [9.4031e-01, 5.9685e-02],\n",
      "        [9.4238e-01, 5.7617e-02],\n",
      "        [9.4185e-01, 5.8146e-02],\n",
      "        [9.4249e-01, 5.7513e-02],\n",
      "        [9.2052e-01, 7.9477e-02]], grad_fn=<SliceBackward0>)\n"
     ]
    },
    {
     "name": "stderr",
     "output_type": "stream",
     "text": [
      " 16%|█▌        | 15/96 [02:06<11:22,  8.43s/it]"
     ]
    },
    {
     "name": "stdout",
     "output_type": "stream",
     "text": [
      "tensor([[0.9209, 0.0791],\n",
      "        [0.9206, 0.0794],\n",
      "        [0.9944, 0.0056],\n",
      "        [0.9189, 0.0811],\n",
      "        [0.9220, 0.0780],\n",
      "        [0.9245, 0.0755],\n",
      "        [0.9173, 0.0827],\n",
      "        [0.9007, 0.0993],\n",
      "        [0.9217, 0.0783],\n",
      "        [0.9247, 0.0753]], grad_fn=<SliceBackward0>)\n"
     ]
    },
    {
     "name": "stderr",
     "output_type": "stream",
     "text": [
      " 17%|█▋        | 16/96 [02:15<11:14,  8.43s/it]"
     ]
    },
    {
     "name": "stdout",
     "output_type": "stream",
     "text": [
      "tensor([[8.9057e-01, 1.0943e-01],\n",
      "        [8.9721e-01, 1.0279e-01],\n",
      "        [8.8949e-01, 1.1051e-01],\n",
      "        [8.5651e-01, 1.4349e-01],\n",
      "        [8.7955e-01, 1.2045e-01],\n",
      "        [8.9461e-01, 1.0539e-01],\n",
      "        [1.0000e+00, 3.8243e-09],\n",
      "        [8.7452e-01, 1.2548e-01],\n",
      "        [8.9778e-01, 1.0222e-01],\n",
      "        [8.9895e-01, 1.0105e-01]], grad_fn=<SliceBackward0>)\n"
     ]
    },
    {
     "name": "stderr",
     "output_type": "stream",
     "text": [
      " 18%|█▊        | 17/96 [02:23<11:07,  8.45s/it]"
     ]
    },
    {
     "name": "stdout",
     "output_type": "stream",
     "text": [
      "tensor([[8.9896e-01, 1.0104e-01],\n",
      "        [1.0000e+00, 1.2090e-11],\n",
      "        [8.9614e-01, 1.0386e-01],\n",
      "        [8.8520e-01, 1.1480e-01],\n",
      "        [8.9379e-01, 1.0621e-01],\n",
      "        [9.0018e-01, 9.9822e-02],\n",
      "        [8.9111e-01, 1.0889e-01],\n",
      "        [8.9293e-01, 1.0707e-01],\n",
      "        [8.8697e-01, 1.1303e-01],\n",
      "        [8.8790e-01, 1.1210e-01]], grad_fn=<SliceBackward0>)\n"
     ]
    },
    {
     "name": "stderr",
     "output_type": "stream",
     "text": [
      " 19%|█▉        | 18/96 [02:32<10:58,  8.44s/it]"
     ]
    },
    {
     "name": "stdout",
     "output_type": "stream",
     "text": [
      "tensor([[1.0000e+00, 2.2485e-10],\n",
      "        [9.0201e-01, 9.7995e-02],\n",
      "        [9.7972e-01, 2.0283e-02],\n",
      "        [8.7425e-01, 1.2575e-01],\n",
      "        [8.9563e-01, 1.0437e-01],\n",
      "        [8.8365e-01, 1.1635e-01],\n",
      "        [9.9885e-01, 1.1463e-03],\n",
      "        [8.9634e-01, 1.0366e-01],\n",
      "        [8.9074e-01, 1.0926e-01],\n",
      "        [8.9476e-01, 1.0524e-01]], grad_fn=<SliceBackward0>)\n"
     ]
    },
    {
     "name": "stderr",
     "output_type": "stream",
     "text": [
      " 20%|█▉        | 19/96 [02:40<10:50,  8.45s/it]"
     ]
    },
    {
     "name": "stdout",
     "output_type": "stream",
     "text": [
      "tensor([[0.9199, 0.0801],\n",
      "        [0.9582, 0.0418],\n",
      "        [0.9206, 0.0794],\n",
      "        [0.9133, 0.0867],\n",
      "        [0.9165, 0.0835],\n",
      "        [0.9085, 0.0915],\n",
      "        [0.9138, 0.0862],\n",
      "        [0.9029, 0.0971],\n",
      "        [0.9055, 0.0945],\n",
      "        [0.9168, 0.0832]], grad_fn=<SliceBackward0>)\n"
     ]
    },
    {
     "name": "stderr",
     "output_type": "stream",
     "text": [
      " 21%|██        | 20/96 [02:49<10:40,  8.43s/it]"
     ]
    },
    {
     "name": "stdout",
     "output_type": "stream",
     "text": [
      "tensor([[8.8613e-01, 1.1387e-01],\n",
      "        [9.1159e-01, 8.8410e-02],\n",
      "        [9.1707e-01, 8.2925e-02],\n",
      "        [9.9970e-01, 2.9983e-04],\n",
      "        [9.1785e-01, 8.2153e-02],\n",
      "        [9.0476e-01, 9.5240e-02],\n",
      "        [9.1516e-01, 8.4836e-02],\n",
      "        [9.1173e-01, 8.8273e-02],\n",
      "        [8.9730e-01, 1.0270e-01],\n",
      "        [1.0000e+00, 5.3949e-08]], grad_fn=<SliceBackward0>)\n"
     ]
    },
    {
     "name": "stderr",
     "output_type": "stream",
     "text": [
      " 22%|██▏       | 21/96 [02:57<10:32,  8.44s/it]"
     ]
    },
    {
     "name": "stdout",
     "output_type": "stream",
     "text": [
      "tensor([[8.8208e-01, 1.1792e-01],\n",
      "        [1.0000e+00, 4.3731e-07],\n",
      "        [1.0000e+00, 1.8692e-17],\n",
      "        [7.7797e-01, 2.2203e-01],\n",
      "        [1.0000e+00, 4.2838e-07],\n",
      "        [8.6775e-01, 1.3225e-01],\n",
      "        [8.9051e-01, 1.0949e-01],\n",
      "        [8.6279e-01, 1.3721e-01],\n",
      "        [8.7756e-01, 1.2244e-01],\n",
      "        [8.5003e-01, 1.4997e-01]], grad_fn=<SliceBackward0>)\n"
     ]
    },
    {
     "name": "stderr",
     "output_type": "stream",
     "text": [
      " 23%|██▎       | 22/96 [03:06<10:26,  8.46s/it]"
     ]
    },
    {
     "name": "stdout",
     "output_type": "stream",
     "text": [
      "tensor([[0.8694, 0.1306],\n",
      "        [0.7907, 0.2093],\n",
      "        [0.7899, 0.2101],\n",
      "        [0.8497, 0.1503],\n",
      "        [0.9565, 0.0435],\n",
      "        [0.8031, 0.1969],\n",
      "        [0.8383, 0.1617],\n",
      "        [0.8355, 0.1645],\n",
      "        [0.8119, 0.1881],\n",
      "        [0.8587, 0.1413]], grad_fn=<SliceBackward0>)\n"
     ]
    },
    {
     "name": "stderr",
     "output_type": "stream",
     "text": [
      " 24%|██▍       | 23/96 [03:14<10:19,  8.49s/it]"
     ]
    },
    {
     "name": "stdout",
     "output_type": "stream",
     "text": [
      "tensor([[8.9009e-01, 1.0991e-01],\n",
      "        [8.6400e-01, 1.3600e-01],\n",
      "        [8.8872e-01, 1.1128e-01],\n",
      "        [8.4844e-01, 1.5156e-01],\n",
      "        [1.0000e+00, 5.1980e-09],\n",
      "        [8.8994e-01, 1.1006e-01],\n",
      "        [9.9904e-01, 9.5860e-04],\n",
      "        [8.9049e-01, 1.0951e-01],\n",
      "        [8.8641e-01, 1.1359e-01],\n",
      "        [8.9505e-01, 1.0495e-01]], grad_fn=<SliceBackward0>)\n"
     ]
    },
    {
     "name": "stderr",
     "output_type": "stream",
     "text": [
      " 25%|██▌       | 24/96 [03:22<10:07,  8.43s/it]"
     ]
    },
    {
     "name": "stdout",
     "output_type": "stream",
     "text": [
      "tensor([[0.7793, 0.2207],\n",
      "        [0.8721, 0.1279],\n",
      "        [0.7600, 0.2400],\n",
      "        [0.8614, 0.1386],\n",
      "        [0.7878, 0.2122],\n",
      "        [0.8222, 0.1778],\n",
      "        [0.7680, 0.2320],\n",
      "        [0.7972, 0.2028],\n",
      "        [0.8656, 0.1344],\n",
      "        [0.7905, 0.2095]], grad_fn=<SliceBackward0>)\n"
     ]
    },
    {
     "name": "stderr",
     "output_type": "stream",
     "text": [
      " 26%|██▌       | 25/96 [03:31<10:01,  8.47s/it]"
     ]
    },
    {
     "name": "stdout",
     "output_type": "stream",
     "text": [
      "tensor([[0.6361, 0.3639],\n",
      "        [0.7543, 0.2457],\n",
      "        [0.6179, 0.3821],\n",
      "        [0.6938, 0.3062],\n",
      "        [0.8575, 0.1425],\n",
      "        [0.8701, 0.1299],\n",
      "        [0.7547, 0.2453],\n",
      "        [0.7907, 0.2093],\n",
      "        [0.8831, 0.1169],\n",
      "        [0.8373, 0.1627]], grad_fn=<SliceBackward0>)\n"
     ]
    },
    {
     "name": "stderr",
     "output_type": "stream",
     "text": [
      " 27%|██▋       | 26/96 [03:39<09:53,  8.47s/it]"
     ]
    },
    {
     "name": "stdout",
     "output_type": "stream",
     "text": [
      "tensor([[0.9797, 0.0203],\n",
      "        [0.5332, 0.4668],\n",
      "        [0.8645, 0.1355],\n",
      "        [0.5065, 0.4935],\n",
      "        [0.8419, 0.1581],\n",
      "        [0.8720, 0.1280],\n",
      "        [0.9277, 0.0723],\n",
      "        [0.9398, 0.0602],\n",
      "        [0.5995, 0.4005],\n",
      "        [0.9689, 0.0311]], grad_fn=<SliceBackward0>)\n"
     ]
    },
    {
     "name": "stderr",
     "output_type": "stream",
     "text": [
      " 28%|██▊       | 27/96 [03:48<09:52,  8.59s/it]"
     ]
    },
    {
     "name": "stdout",
     "output_type": "stream",
     "text": [
      "tensor([[9.6024e-01, 3.9762e-02],\n",
      "        [6.2872e-01, 3.7128e-01],\n",
      "        [7.8955e-01, 2.1045e-01],\n",
      "        [6.9798e-01, 3.0202e-01],\n",
      "        [8.0740e-01, 1.9260e-01],\n",
      "        [9.4637e-01, 5.3631e-02],\n",
      "        [6.9203e-01, 3.0797e-01],\n",
      "        [8.2319e-01, 1.7681e-01],\n",
      "        [6.6654e-01, 3.3346e-01],\n",
      "        [1.0000e+00, 3.3611e-06]], grad_fn=<SliceBackward0>)\n"
     ]
    },
    {
     "name": "stderr",
     "output_type": "stream",
     "text": [
      " 29%|██▉       | 28/96 [03:57<09:42,  8.57s/it]"
     ]
    },
    {
     "name": "stdout",
     "output_type": "stream",
     "text": [
      "tensor([[0.9985, 0.0015],\n",
      "        [0.8670, 0.1330],\n",
      "        [0.7433, 0.2567],\n",
      "        [0.8231, 0.1769],\n",
      "        [0.7571, 0.2429],\n",
      "        [0.7046, 0.2954],\n",
      "        [0.6869, 0.3131],\n",
      "        [0.6862, 0.3138],\n",
      "        [0.9590, 0.0410],\n",
      "        [0.6906, 0.3094]], grad_fn=<SliceBackward0>)\n"
     ]
    },
    {
     "name": "stderr",
     "output_type": "stream",
     "text": [
      " 30%|███       | 29/96 [04:05<09:30,  8.52s/it]"
     ]
    },
    {
     "name": "stdout",
     "output_type": "stream",
     "text": [
      "tensor([[8.3099e-01, 1.6901e-01],\n",
      "        [8.6367e-01, 1.3633e-01],\n",
      "        [8.4801e-01, 1.5199e-01],\n",
      "        [8.8319e-01, 1.1681e-01],\n",
      "        [8.6491e-01, 1.3509e-01],\n",
      "        [8.6355e-01, 1.3645e-01],\n",
      "        [8.5035e-01, 1.4965e-01],\n",
      "        [8.4694e-01, 1.5306e-01],\n",
      "        [1.0000e+00, 1.2616e-11],\n",
      "        [8.6934e-01, 1.3066e-01]], grad_fn=<SliceBackward0>)\n"
     ]
    },
    {
     "name": "stderr",
     "output_type": "stream",
     "text": [
      " 31%|███▏      | 30/96 [04:14<09:22,  8.53s/it]"
     ]
    },
    {
     "name": "stdout",
     "output_type": "stream",
     "text": [
      "tensor([[9.2694e-01, 7.3057e-02],\n",
      "        [9.0974e-01, 9.0257e-02],\n",
      "        [1.0000e+00, 1.1053e-08],\n",
      "        [8.9209e-01, 1.0791e-01],\n",
      "        [8.7499e-01, 1.2501e-01],\n",
      "        [8.9077e-01, 1.0923e-01],\n",
      "        [1.0000e+00, 1.8214e-15],\n",
      "        [9.5877e-01, 4.1227e-02],\n",
      "        [9.2571e-01, 7.4290e-02],\n",
      "        [8.7700e-01, 1.2300e-01]], grad_fn=<SliceBackward0>)\n"
     ]
    },
    {
     "name": "stderr",
     "output_type": "stream",
     "text": [
      " 32%|███▏      | 31/96 [04:22<09:14,  8.53s/it]"
     ]
    },
    {
     "name": "stdout",
     "output_type": "stream",
     "text": [
      "tensor([[1.0000e+00, 2.1272e-07],\n",
      "        [9.9998e-01, 1.5126e-05],\n",
      "        [9.1291e-01, 8.7094e-02],\n",
      "        [9.4183e-01, 5.8168e-02],\n",
      "        [1.0000e+00, 4.0203e-06],\n",
      "        [8.9870e-01, 1.0130e-01],\n",
      "        [9.9544e-01, 4.5593e-03],\n",
      "        [9.5318e-01, 4.6815e-02],\n",
      "        [1.0000e+00, 4.8065e-12],\n",
      "        [9.2447e-01, 7.5533e-02]], grad_fn=<SliceBackward0>)\n"
     ]
    },
    {
     "name": "stderr",
     "output_type": "stream",
     "text": [
      " 33%|███▎      | 32/96 [04:31<09:05,  8.52s/it]"
     ]
    },
    {
     "name": "stdout",
     "output_type": "stream",
     "text": [
      "tensor([[8.7977e-01, 1.2023e-01],\n",
      "        [8.8515e-01, 1.1485e-01],\n",
      "        [1.0000e+00, 3.6793e-13],\n",
      "        [1.0000e+00, 1.2759e-14],\n",
      "        [9.1343e-01, 8.6571e-02],\n",
      "        [9.2062e-01, 7.9381e-02],\n",
      "        [8.7300e-01, 1.2699e-01],\n",
      "        [9.9558e-01, 4.4236e-03],\n",
      "        [8.8248e-01, 1.1752e-01],\n",
      "        [8.8545e-01, 1.1455e-01]], grad_fn=<SliceBackward0>)\n"
     ]
    },
    {
     "name": "stderr",
     "output_type": "stream",
     "text": [
      " 34%|███▍      | 33/96 [04:39<08:56,  8.52s/it]"
     ]
    },
    {
     "name": "stdout",
     "output_type": "stream",
     "text": [
      "tensor([[1.0000e+00, 7.3152e-09],\n",
      "        [8.3493e-01, 1.6507e-01],\n",
      "        [8.7399e-01, 1.2601e-01],\n",
      "        [8.4017e-01, 1.5983e-01],\n",
      "        [8.9551e-01, 1.0449e-01],\n",
      "        [8.4054e-01, 1.5946e-01],\n",
      "        [9.9511e-01, 4.8889e-03],\n",
      "        [8.4342e-01, 1.5658e-01],\n",
      "        [8.8447e-01, 1.1553e-01],\n",
      "        [9.9998e-01, 1.5141e-05]], grad_fn=<SliceBackward0>)\n"
     ]
    },
    {
     "name": "stderr",
     "output_type": "stream",
     "text": [
      " 35%|███▌      | 34/96 [04:48<08:48,  8.53s/it]"
     ]
    },
    {
     "name": "stdout",
     "output_type": "stream",
     "text": [
      "tensor([[9.9814e-01, 1.8551e-03],\n",
      "        [8.3846e-01, 1.6154e-01],\n",
      "        [9.5910e-01, 4.0896e-02],\n",
      "        [9.9986e-01, 1.4446e-04],\n",
      "        [9.9882e-01, 1.1844e-03],\n",
      "        [8.3950e-01, 1.6050e-01],\n",
      "        [8.4018e-01, 1.5982e-01],\n",
      "        [1.0000e+00, 7.8799e-10],\n",
      "        [8.4730e-01, 1.5270e-01],\n",
      "        [1.0000e+00, 1.7955e-06]], grad_fn=<SliceBackward0>)\n"
     ]
    },
    {
     "name": "stderr",
     "output_type": "stream",
     "text": [
      " 36%|███▋      | 35/96 [04:57<08:44,  8.59s/it]"
     ]
    },
    {
     "name": "stdout",
     "output_type": "stream",
     "text": [
      "tensor([[8.0289e-01, 1.9711e-01],\n",
      "        [8.0311e-01, 1.9689e-01],\n",
      "        [7.9232e-01, 2.0768e-01],\n",
      "        [8.6618e-01, 1.3382e-01],\n",
      "        [7.9275e-01, 2.0725e-01],\n",
      "        [7.9225e-01, 2.0775e-01],\n",
      "        [9.9986e-01, 1.4004e-04],\n",
      "        [8.0188e-01, 1.9812e-01],\n",
      "        [7.9105e-01, 2.0895e-01],\n",
      "        [9.8987e-01, 1.0126e-02]], grad_fn=<SliceBackward0>)\n"
     ]
    },
    {
     "name": "stderr",
     "output_type": "stream",
     "text": [
      " 38%|███▊      | 36/96 [05:05<08:38,  8.64s/it]"
     ]
    },
    {
     "name": "stdout",
     "output_type": "stream",
     "text": [
      "tensor([[0.8238, 0.1762],\n",
      "        [0.7956, 0.2044],\n",
      "        [0.8037, 0.1963],\n",
      "        [0.8278, 0.1722],\n",
      "        [0.7812, 0.2188],\n",
      "        [0.8166, 0.1834],\n",
      "        [0.8047, 0.1953],\n",
      "        [0.8081, 0.1919],\n",
      "        [0.8666, 0.1334],\n",
      "        [0.7965, 0.2035]], grad_fn=<SliceBackward0>)\n"
     ]
    },
    {
     "name": "stderr",
     "output_type": "stream",
     "text": [
      " 39%|███▊      | 37/96 [05:14<08:35,  8.74s/it]"
     ]
    },
    {
     "name": "stdout",
     "output_type": "stream",
     "text": [
      "tensor([[8.3313e-01, 1.6687e-01],\n",
      "        [8.3393e-01, 1.6607e-01],\n",
      "        [8.3902e-01, 1.6098e-01],\n",
      "        [1.0000e+00, 4.4215e-06],\n",
      "        [8.4501e-01, 1.5499e-01],\n",
      "        [8.3468e-01, 1.6532e-01],\n",
      "        [8.2242e-01, 1.7758e-01],\n",
      "        [8.2825e-01, 1.7175e-01],\n",
      "        [1.0000e+00, 5.6320e-08],\n",
      "        [8.1260e-01, 1.8740e-01]], grad_fn=<SliceBackward0>)\n"
     ]
    },
    {
     "name": "stderr",
     "output_type": "stream",
     "text": [
      " 40%|███▉      | 38/96 [05:23<08:28,  8.76s/it]"
     ]
    },
    {
     "name": "stdout",
     "output_type": "stream",
     "text": [
      "tensor([[8.6637e-01, 1.3363e-01],\n",
      "        [8.8178e-01, 1.1822e-01],\n",
      "        [1.0000e+00, 2.8702e-09],\n",
      "        [8.6708e-01, 1.3292e-01],\n",
      "        [8.6625e-01, 1.3375e-01],\n",
      "        [8.7042e-01, 1.2958e-01],\n",
      "        [8.7346e-01, 1.2654e-01],\n",
      "        [8.7630e-01, 1.2370e-01],\n",
      "        [8.6727e-01, 1.3273e-01],\n",
      "        [1.0000e+00, 5.1509e-07]], grad_fn=<SliceBackward0>)\n"
     ]
    },
    {
     "name": "stderr",
     "output_type": "stream",
     "text": [
      " 41%|████      | 39/96 [05:32<08:20,  8.79s/it]"
     ]
    },
    {
     "name": "stdout",
     "output_type": "stream",
     "text": [
      "tensor([[1.0000e+00, 4.2786e-16],\n",
      "        [8.7174e-01, 1.2826e-01],\n",
      "        [9.9910e-01, 8.9932e-04],\n",
      "        [9.7639e-01, 2.3607e-02],\n",
      "        [8.8048e-01, 1.1952e-01],\n",
      "        [8.8221e-01, 1.1779e-01],\n",
      "        [9.9998e-01, 1.9929e-05],\n",
      "        [9.0431e-01, 9.5695e-02],\n",
      "        [8.9993e-01, 1.0007e-01],\n",
      "        [8.7558e-01, 1.2442e-01]], grad_fn=<SliceBackward0>)\n"
     ]
    },
    {
     "name": "stderr",
     "output_type": "stream",
     "text": [
      " 42%|████▏     | 40/96 [05:40<08:06,  8.69s/it]"
     ]
    },
    {
     "name": "stdout",
     "output_type": "stream",
     "text": [
      "tensor([[9.9980e-01, 2.0043e-04],\n",
      "        [1.0000e+00, 1.0420e-06],\n",
      "        [9.2192e-01, 7.8079e-02],\n",
      "        [9.9898e-01, 1.0171e-03],\n",
      "        [9.3306e-01, 6.6940e-02],\n",
      "        [9.1992e-01, 8.0084e-02],\n",
      "        [9.2231e-01, 7.7695e-02],\n",
      "        [9.1751e-01, 8.2491e-02],\n",
      "        [1.0000e+00, 3.2693e-12],\n",
      "        [9.1609e-01, 8.3909e-02]], grad_fn=<SliceBackward0>)\n"
     ]
    },
    {
     "name": "stderr",
     "output_type": "stream",
     "text": [
      " 43%|████▎     | 41/96 [05:49<07:55,  8.64s/it]"
     ]
    },
    {
     "name": "stdout",
     "output_type": "stream",
     "text": [
      "tensor([[8.9986e-01, 1.0014e-01],\n",
      "        [8.9321e-01, 1.0679e-01],\n",
      "        [9.2956e-01, 7.0436e-02],\n",
      "        [9.9998e-01, 1.8491e-05],\n",
      "        [8.9987e-01, 1.0013e-01],\n",
      "        [9.0044e-01, 9.9557e-02],\n",
      "        [8.8173e-01, 1.1827e-01],\n",
      "        [9.7150e-01, 2.8499e-02],\n",
      "        [9.0043e-01, 9.9573e-02],\n",
      "        [9.0252e-01, 9.7480e-02]], grad_fn=<SliceBackward0>)\n"
     ]
    },
    {
     "name": "stderr",
     "output_type": "stream",
     "text": [
      " 44%|████▍     | 42/96 [05:57<07:43,  8.58s/it]"
     ]
    },
    {
     "name": "stdout",
     "output_type": "stream",
     "text": [
      "tensor([[8.7528e-01, 1.2472e-01],\n",
      "        [8.7661e-01, 1.2339e-01],\n",
      "        [8.7084e-01, 1.2916e-01],\n",
      "        [8.7232e-01, 1.2768e-01],\n",
      "        [8.7619e-01, 1.2381e-01],\n",
      "        [9.9849e-01, 1.5131e-03],\n",
      "        [9.3399e-01, 6.6012e-02],\n",
      "        [1.0000e+00, 1.3524e-08],\n",
      "        [8.7187e-01, 1.2813e-01],\n",
      "        [8.7247e-01, 1.2753e-01]], grad_fn=<SliceBackward0>)\n"
     ]
    },
    {
     "name": "stderr",
     "output_type": "stream",
     "text": [
      " 45%|████▍     | 43/96 [06:06<07:32,  8.54s/it]"
     ]
    },
    {
     "name": "stdout",
     "output_type": "stream",
     "text": [
      "tensor([[0.8549, 0.1451],\n",
      "        [0.8796, 0.1204],\n",
      "        [0.8856, 0.1144],\n",
      "        [0.8526, 0.1474],\n",
      "        [0.8499, 0.1501],\n",
      "        [0.9713, 0.0287],\n",
      "        [0.8442, 0.1558],\n",
      "        [0.8557, 0.1443],\n",
      "        [0.8528, 0.1472],\n",
      "        [0.8330, 0.1670]], grad_fn=<SliceBackward0>)\n"
     ]
    },
    {
     "name": "stderr",
     "output_type": "stream",
     "text": [
      " 46%|████▌     | 44/96 [06:14<07:23,  8.52s/it]"
     ]
    },
    {
     "name": "stdout",
     "output_type": "stream",
     "text": [
      "tensor([[9.9995e-01, 5.4447e-05],\n",
      "        [9.7504e-01, 2.4959e-02],\n",
      "        [8.4843e-01, 1.5157e-01],\n",
      "        [8.3253e-01, 1.6747e-01],\n",
      "        [8.4359e-01, 1.5641e-01],\n",
      "        [8.4656e-01, 1.5344e-01],\n",
      "        [8.4832e-01, 1.5168e-01],\n",
      "        [1.0000e+00, 7.6101e-26],\n",
      "        [8.4939e-01, 1.5061e-01],\n",
      "        [9.9988e-01, 1.1832e-04]], grad_fn=<SliceBackward0>)\n"
     ]
    },
    {
     "name": "stderr",
     "output_type": "stream",
     "text": [
      " 47%|████▋     | 45/96 [06:23<07:13,  8.49s/it]"
     ]
    },
    {
     "name": "stdout",
     "output_type": "stream",
     "text": [
      "tensor([[8.5731e-01, 1.4269e-01],\n",
      "        [9.0994e-01, 9.0062e-02],\n",
      "        [8.6176e-01, 1.3824e-01],\n",
      "        [8.6120e-01, 1.3880e-01],\n",
      "        [8.5956e-01, 1.4044e-01],\n",
      "        [8.6357e-01, 1.3643e-01],\n",
      "        [8.6214e-01, 1.3786e-01],\n",
      "        [9.0779e-01, 9.2208e-02],\n",
      "        [9.9281e-01, 7.1911e-03],\n",
      "        [1.0000e+00, 2.8823e-09]], grad_fn=<SliceBackward0>)\n"
     ]
    },
    {
     "name": "stderr",
     "output_type": "stream",
     "text": [
      " 48%|████▊     | 46/96 [06:31<07:04,  8.48s/it]"
     ]
    },
    {
     "name": "stdout",
     "output_type": "stream",
     "text": [
      "tensor([[0.8622, 0.1378],\n",
      "        [0.9040, 0.0960],\n",
      "        [0.8862, 0.1138],\n",
      "        [0.9046, 0.0954],\n",
      "        [0.9042, 0.0958],\n",
      "        [0.9020, 0.0980],\n",
      "        [0.9077, 0.0923],\n",
      "        [0.8927, 0.1073],\n",
      "        [0.8837, 0.1163],\n",
      "        [0.9058, 0.0942]], grad_fn=<SliceBackward0>)\n"
     ]
    },
    {
     "name": "stderr",
     "output_type": "stream",
     "text": [
      " 49%|████▉     | 47/96 [06:40<06:55,  8.47s/it]"
     ]
    },
    {
     "name": "stdout",
     "output_type": "stream",
     "text": [
      "tensor([[8.9600e-01, 1.0400e-01],\n",
      "        [8.9816e-01, 1.0184e-01],\n",
      "        [8.8897e-01, 1.1103e-01],\n",
      "        [8.9615e-01, 1.0385e-01],\n",
      "        [9.9951e-01, 4.8780e-04],\n",
      "        [8.9719e-01, 1.0281e-01],\n",
      "        [9.6581e-01, 3.4185e-02],\n",
      "        [9.8095e-01, 1.9054e-02],\n",
      "        [9.1715e-01, 8.2849e-02],\n",
      "        [9.9945e-01, 5.4576e-04]], grad_fn=<SliceBackward0>)\n"
     ]
    },
    {
     "name": "stderr",
     "output_type": "stream",
     "text": [
      " 50%|█████     | 48/96 [06:48<06:46,  8.47s/it]"
     ]
    },
    {
     "name": "stdout",
     "output_type": "stream",
     "text": [
      "tensor([[8.5180e-01, 1.4820e-01],\n",
      "        [9.4192e-01, 5.8084e-02],\n",
      "        [8.8319e-01, 1.1681e-01],\n",
      "        [9.1985e-01, 8.0153e-02],\n",
      "        [1.0000e+00, 4.2649e-17],\n",
      "        [8.6917e-01, 1.3083e-01],\n",
      "        [8.4664e-01, 1.5336e-01],\n",
      "        [9.3402e-01, 6.5980e-02],\n",
      "        [9.8555e-01, 1.4451e-02],\n",
      "        [9.9789e-01, 2.1093e-03]], grad_fn=<SliceBackward0>)\n"
     ]
    },
    {
     "name": "stderr",
     "output_type": "stream",
     "text": [
      " 51%|█████     | 49/96 [06:57<06:38,  8.48s/it]"
     ]
    },
    {
     "name": "stdout",
     "output_type": "stream",
     "text": [
      "tensor([[8.9140e-01, 1.0860e-01],\n",
      "        [9.9943e-01, 5.6835e-04],\n",
      "        [8.8932e-01, 1.1068e-01],\n",
      "        [8.8975e-01, 1.1025e-01],\n",
      "        [8.6281e-01, 1.3719e-01],\n",
      "        [9.9505e-01, 4.9539e-03],\n",
      "        [8.9085e-01, 1.0915e-01],\n",
      "        [9.1208e-01, 8.7915e-02],\n",
      "        [8.8723e-01, 1.1277e-01],\n",
      "        [8.8808e-01, 1.1192e-01]], grad_fn=<SliceBackward0>)\n"
     ]
    },
    {
     "name": "stderr",
     "output_type": "stream",
     "text": [
      " 52%|█████▏    | 50/96 [07:05<06:31,  8.51s/it]"
     ]
    },
    {
     "name": "stdout",
     "output_type": "stream",
     "text": [
      "tensor([[7.9043e-01, 2.0957e-01],\n",
      "        [8.7308e-01, 1.2692e-01],\n",
      "        [9.9943e-01, 5.7419e-04],\n",
      "        [8.7140e-01, 1.2860e-01],\n",
      "        [8.9200e-01, 1.0800e-01],\n",
      "        [9.9971e-01, 2.8520e-04],\n",
      "        [8.6902e-01, 1.3098e-01],\n",
      "        [8.8193e-01, 1.1807e-01],\n",
      "        [9.5068e-01, 4.9318e-02],\n",
      "        [8.8007e-01, 1.1993e-01]], grad_fn=<SliceBackward0>)\n"
     ]
    },
    {
     "name": "stderr",
     "output_type": "stream",
     "text": [
      " 53%|█████▎    | 51/96 [07:14<06:24,  8.53s/it]"
     ]
    },
    {
     "name": "stdout",
     "output_type": "stream",
     "text": [
      "tensor([[9.0019e-01, 9.9814e-02],\n",
      "        [9.0017e-01, 9.9827e-02],\n",
      "        [8.9784e-01, 1.0216e-01],\n",
      "        [9.9990e-01, 9.9351e-05],\n",
      "        [9.9999e-01, 7.8007e-06],\n",
      "        [8.8549e-01, 1.1451e-01],\n",
      "        [9.0043e-01, 9.9573e-02],\n",
      "        [8.8214e-01, 1.1786e-01],\n",
      "        [8.9908e-01, 1.0092e-01],\n",
      "        [9.0434e-01, 9.5663e-02]], grad_fn=<SliceBackward0>)\n"
     ]
    },
    {
     "name": "stderr",
     "output_type": "stream",
     "text": [
      " 54%|█████▍    | 52/96 [07:22<06:14,  8.51s/it]"
     ]
    },
    {
     "name": "stdout",
     "output_type": "stream",
     "text": [
      "tensor([[8.9153e-01, 1.0847e-01],\n",
      "        [9.4169e-01, 5.8305e-02],\n",
      "        [9.1714e-01, 8.2862e-02],\n",
      "        [9.5574e-01, 4.4257e-02],\n",
      "        [9.8833e-01, 1.1666e-02],\n",
      "        [9.1455e-01, 8.5446e-02],\n",
      "        [9.6744e-01, 3.2560e-02],\n",
      "        [9.1553e-01, 8.4471e-02],\n",
      "        [9.1501e-01, 8.4989e-02],\n",
      "        [9.9980e-01, 1.9731e-04]], grad_fn=<SliceBackward0>)\n"
     ]
    },
    {
     "name": "stderr",
     "output_type": "stream",
     "text": [
      " 55%|█████▌    | 53/96 [07:31<06:07,  8.54s/it]"
     ]
    },
    {
     "name": "stdout",
     "output_type": "stream",
     "text": [
      "tensor([[0.9067, 0.0933],\n",
      "        [0.9082, 0.0918],\n",
      "        [0.9045, 0.0955],\n",
      "        [0.9088, 0.0912],\n",
      "        [0.9417, 0.0583],\n",
      "        [0.8979, 0.1021],\n",
      "        [0.9838, 0.0162],\n",
      "        [0.8463, 0.1537],\n",
      "        [0.9564, 0.0436],\n",
      "        [0.8751, 0.1249]], grad_fn=<SliceBackward0>)\n"
     ]
    },
    {
     "name": "stderr",
     "output_type": "stream",
     "text": [
      " 56%|█████▋    | 54/96 [07:40<05:59,  8.56s/it]"
     ]
    },
    {
     "name": "stdout",
     "output_type": "stream",
     "text": [
      "tensor([[0.8704, 0.1296],\n",
      "        [0.8160, 0.1840],\n",
      "        [0.7841, 0.2159],\n",
      "        [0.8721, 0.1279],\n",
      "        [0.8616, 0.1384],\n",
      "        [0.8620, 0.1380],\n",
      "        [0.8176, 0.1824],\n",
      "        [0.8704, 0.1296],\n",
      "        [0.8661, 0.1339],\n",
      "        [0.8633, 0.1367]], grad_fn=<SliceBackward0>)\n"
     ]
    },
    {
     "name": "stderr",
     "output_type": "stream",
     "text": [
      " 57%|█████▋    | 55/96 [07:48<05:49,  8.51s/it]"
     ]
    },
    {
     "name": "stdout",
     "output_type": "stream",
     "text": [
      "tensor([[9.1918e-01, 8.0816e-02],\n",
      "        [8.8400e-01, 1.1600e-01],\n",
      "        [9.9953e-01, 4.7254e-04],\n",
      "        [9.7777e-01, 2.2231e-02],\n",
      "        [9.1142e-01, 8.8578e-02],\n",
      "        [9.2384e-01, 7.6158e-02],\n",
      "        [8.3017e-01, 1.6983e-01],\n",
      "        [9.2555e-01, 7.4452e-02],\n",
      "        [9.0021e-01, 9.9789e-02],\n",
      "        [9.0941e-01, 9.0594e-02]], grad_fn=<SliceBackward0>)\n"
     ]
    },
    {
     "name": "stderr",
     "output_type": "stream",
     "text": [
      " 58%|█████▊    | 56/96 [07:56<05:40,  8.52s/it]"
     ]
    },
    {
     "name": "stdout",
     "output_type": "stream",
     "text": [
      "tensor([[0.9011, 0.0989],\n",
      "        [0.8751, 0.1249],\n",
      "        [0.9325, 0.0675],\n",
      "        [0.8950, 0.1050],\n",
      "        [0.9068, 0.0932],\n",
      "        [0.9077, 0.0923],\n",
      "        [0.9026, 0.0974],\n",
      "        [0.9037, 0.0963],\n",
      "        [0.9062, 0.0938],\n",
      "        [0.8877, 0.1123]], grad_fn=<SliceBackward0>)\n"
     ]
    },
    {
     "name": "stderr",
     "output_type": "stream",
     "text": [
      " 59%|█████▉    | 57/96 [08:05<05:33,  8.56s/it]"
     ]
    },
    {
     "name": "stdout",
     "output_type": "stream",
     "text": [
      "tensor([[0.8858, 0.1142],\n",
      "        [0.8734, 0.1266],\n",
      "        [0.8814, 0.1186],\n",
      "        [0.8931, 0.1069],\n",
      "        [0.8038, 0.1962],\n",
      "        [0.8412, 0.1588],\n",
      "        [0.8648, 0.1352],\n",
      "        [0.7797, 0.2203],\n",
      "        [0.8493, 0.1507],\n",
      "        [0.8822, 0.1178]], grad_fn=<SliceBackward0>)\n"
     ]
    },
    {
     "name": "stderr",
     "output_type": "stream",
     "text": [
      " 60%|██████    | 58/96 [08:13<05:22,  8.48s/it]"
     ]
    },
    {
     "name": "stdout",
     "output_type": "stream",
     "text": [
      "tensor([[0.7968, 0.2032],\n",
      "        [0.8168, 0.1832],\n",
      "        [0.7461, 0.2539],\n",
      "        [0.8174, 0.1826],\n",
      "        [0.8092, 0.1908],\n",
      "        [0.7273, 0.2727],\n",
      "        [0.8150, 0.1850],\n",
      "        [0.8157, 0.1843],\n",
      "        [0.7867, 0.2133],\n",
      "        [0.9301, 0.0699]], grad_fn=<SliceBackward0>)\n"
     ]
    },
    {
     "name": "stderr",
     "output_type": "stream",
     "text": [
      " 61%|██████▏   | 59/96 [08:22<05:12,  8.45s/it]"
     ]
    },
    {
     "name": "stdout",
     "output_type": "stream",
     "text": [
      "tensor([[0.7837, 0.2163],\n",
      "        [0.8116, 0.1884],\n",
      "        [0.8057, 0.1943],\n",
      "        [0.9542, 0.0458],\n",
      "        [0.7775, 0.2225],\n",
      "        [0.7998, 0.2002],\n",
      "        [0.8043, 0.1957],\n",
      "        [0.8042, 0.1958],\n",
      "        [0.7965, 0.2035],\n",
      "        [0.8555, 0.1445]], grad_fn=<SliceBackward0>)\n"
     ]
    },
    {
     "name": "stderr",
     "output_type": "stream",
     "text": [
      " 62%|██████▎   | 60/96 [08:30<05:03,  8.43s/it]"
     ]
    },
    {
     "name": "stdout",
     "output_type": "stream",
     "text": [
      "tensor([[0.9672, 0.0328],\n",
      "        [0.8260, 0.1740],\n",
      "        [0.8279, 0.1721],\n",
      "        [0.8229, 0.1771],\n",
      "        [0.8167, 0.1833],\n",
      "        [0.8231, 0.1769],\n",
      "        [0.8229, 0.1771],\n",
      "        [0.8510, 0.1490],\n",
      "        [0.8270, 0.1730],\n",
      "        [0.8267, 0.1733]], grad_fn=<SliceBackward0>)\n"
     ]
    },
    {
     "name": "stderr",
     "output_type": "stream",
     "text": [
      " 64%|██████▎   | 61/96 [08:39<04:56,  8.48s/it]"
     ]
    },
    {
     "name": "stdout",
     "output_type": "stream",
     "text": [
      "tensor([[8.4451e-01, 1.5549e-01],\n",
      "        [8.4418e-01, 1.5582e-01],\n",
      "        [8.4070e-01, 1.5930e-01],\n",
      "        [8.3736e-01, 1.6264e-01],\n",
      "        [8.4657e-01, 1.5343e-01],\n",
      "        [9.9682e-01, 3.1794e-03],\n",
      "        [1.0000e+00, 3.3234e-17],\n",
      "        [1.0000e+00, 4.7406e-07],\n",
      "        [8.2981e-01, 1.7019e-01],\n",
      "        [8.3648e-01, 1.6352e-01]], grad_fn=<SliceBackward0>)\n"
     ]
    },
    {
     "name": "stderr",
     "output_type": "stream",
     "text": [
      " 65%|██████▍   | 62/96 [08:47<04:50,  8.55s/it]"
     ]
    },
    {
     "name": "stdout",
     "output_type": "stream",
     "text": [
      "tensor([[8.5407e-01, 1.4593e-01],\n",
      "        [1.0000e+00, 1.5371e-09],\n",
      "        [8.3655e-01, 1.6345e-01],\n",
      "        [8.5122e-01, 1.4878e-01],\n",
      "        [8.2651e-01, 1.7349e-01],\n",
      "        [8.4792e-01, 1.5208e-01],\n",
      "        [8.4162e-01, 1.5838e-01],\n",
      "        [8.4915e-01, 1.5085e-01],\n",
      "        [9.9932e-01, 6.8140e-04],\n",
      "        [8.4727e-01, 1.5273e-01]], grad_fn=<SliceBackward0>)\n"
     ]
    },
    {
     "name": "stderr",
     "output_type": "stream",
     "text": [
      " 66%|██████▌   | 63/96 [08:56<04:42,  8.55s/it]"
     ]
    },
    {
     "name": "stdout",
     "output_type": "stream",
     "text": [
      "tensor([[8.8523e-01, 1.1477e-01],\n",
      "        [8.9423e-01, 1.0577e-01],\n",
      "        [9.9663e-01, 3.3684e-03],\n",
      "        [8.7401e-01, 1.2599e-01],\n",
      "        [8.8588e-01, 1.1412e-01],\n",
      "        [1.0000e+00, 6.1533e-07],\n",
      "        [1.0000e+00, 4.7688e-08],\n",
      "        [8.8538e-01, 1.1462e-01],\n",
      "        [8.9072e-01, 1.0928e-01],\n",
      "        [8.9198e-01, 1.0802e-01]], grad_fn=<SliceBackward0>)\n"
     ]
    },
    {
     "name": "stderr",
     "output_type": "stream",
     "text": [
      " 67%|██████▋   | 64/96 [09:05<04:33,  8.54s/it]"
     ]
    },
    {
     "name": "stdout",
     "output_type": "stream",
     "text": [
      "tensor([[9.1858e-01, 8.1418e-02],\n",
      "        [9.7498e-01, 2.5019e-02],\n",
      "        [9.2524e-01, 7.4760e-02],\n",
      "        [9.1483e-01, 8.5165e-02],\n",
      "        [9.8772e-01, 1.2279e-02],\n",
      "        [1.0000e+00, 6.3944e-09],\n",
      "        [9.1670e-01, 8.3303e-02],\n",
      "        [9.1566e-01, 8.4337e-02],\n",
      "        [9.8451e-01, 1.5493e-02],\n",
      "        [9.3969e-01, 6.0311e-02]], grad_fn=<SliceBackward0>)\n"
     ]
    },
    {
     "name": "stderr",
     "output_type": "stream",
     "text": [
      " 68%|██████▊   | 65/96 [09:13<04:24,  8.53s/it]"
     ]
    },
    {
     "name": "stdout",
     "output_type": "stream",
     "text": [
      "tensor([[9.9687e-01, 3.1304e-03],\n",
      "        [9.6306e-01, 3.6936e-02],\n",
      "        [9.5914e-01, 4.0860e-02],\n",
      "        [9.9309e-01, 6.9067e-03],\n",
      "        [9.4716e-01, 5.2844e-02],\n",
      "        [9.3148e-01, 6.8521e-02],\n",
      "        [9.9958e-01, 4.2112e-04],\n",
      "        [9.9940e-01, 6.0325e-04],\n",
      "        [9.5226e-01, 4.7741e-02],\n",
      "        [9.5165e-01, 4.8351e-02]], grad_fn=<SliceBackward0>)\n"
     ]
    },
    {
     "name": "stderr",
     "output_type": "stream",
     "text": [
      " 69%|██████▉   | 66/96 [09:21<04:15,  8.50s/it]"
     ]
    },
    {
     "name": "stdout",
     "output_type": "stream",
     "text": [
      "tensor([[9.5723e-01, 4.2773e-02],\n",
      "        [9.6908e-01, 3.0917e-02],\n",
      "        [9.7318e-01, 2.6821e-02],\n",
      "        [9.4306e-01, 5.6939e-02],\n",
      "        [9.9972e-01, 2.8114e-04],\n",
      "        [9.6390e-01, 3.6097e-02],\n",
      "        [9.6100e-01, 3.9004e-02],\n",
      "        [9.9797e-01, 2.0314e-03],\n",
      "        [9.9902e-01, 9.7698e-04],\n",
      "        [9.9611e-01, 3.8893e-03]], grad_fn=<SliceBackward0>)\n"
     ]
    },
    {
     "name": "stderr",
     "output_type": "stream",
     "text": [
      " 70%|██████▉   | 67/96 [09:30<04:06,  8.50s/it]"
     ]
    },
    {
     "name": "stdout",
     "output_type": "stream",
     "text": [
      "tensor([[9.9999e-01, 1.3305e-05],\n",
      "        [9.7896e-01, 2.1041e-02],\n",
      "        [9.9936e-01, 6.4499e-04],\n",
      "        [9.9681e-01, 3.1893e-03],\n",
      "        [9.8802e-01, 1.1978e-02],\n",
      "        [9.9991e-01, 9.3801e-05],\n",
      "        [9.6928e-01, 3.0717e-02],\n",
      "        [9.8452e-01, 1.5476e-02],\n",
      "        [9.8102e-01, 1.8980e-02],\n",
      "        [9.8020e-01, 1.9799e-02]], grad_fn=<SliceBackward0>)\n"
     ]
    },
    {
     "name": "stderr",
     "output_type": "stream",
     "text": [
      " 71%|███████   | 68/96 [09:38<03:57,  8.50s/it]"
     ]
    },
    {
     "name": "stdout",
     "output_type": "stream",
     "text": [
      "tensor([[9.6787e-01, 3.2130e-02],\n",
      "        [9.9642e-01, 3.5838e-03],\n",
      "        [9.8870e-01, 1.1296e-02],\n",
      "        [9.9963e-01, 3.6567e-04],\n",
      "        [9.9980e-01, 1.9694e-04],\n",
      "        [9.9998e-01, 2.1957e-05],\n",
      "        [9.7948e-01, 2.0516e-02],\n",
      "        [9.7033e-01, 2.9670e-02],\n",
      "        [9.8690e-01, 1.3098e-02],\n",
      "        [9.7846e-01, 2.1540e-02]], grad_fn=<SliceBackward0>)\n"
     ]
    },
    {
     "name": "stderr",
     "output_type": "stream",
     "text": [
      " 72%|███████▏  | 69/96 [09:47<03:49,  8.51s/it]"
     ]
    },
    {
     "name": "stdout",
     "output_type": "stream",
     "text": [
      "tensor([[9.7467e-01, 2.5326e-02],\n",
      "        [9.9849e-01, 1.5093e-03],\n",
      "        [9.5938e-01, 4.0617e-02],\n",
      "        [9.9706e-01, 2.9369e-03],\n",
      "        [9.8710e-01, 1.2896e-02],\n",
      "        [9.9993e-01, 7.2254e-05],\n",
      "        [9.7150e-01, 2.8495e-02],\n",
      "        [9.9441e-01, 5.5949e-03],\n",
      "        [9.9920e-01, 7.9764e-04],\n",
      "        [9.9964e-01, 3.6142e-04]], grad_fn=<SliceBackward0>)\n"
     ]
    },
    {
     "name": "stderr",
     "output_type": "stream",
     "text": [
      " 73%|███████▎  | 70/96 [09:55<03:40,  8.50s/it]"
     ]
    },
    {
     "name": "stdout",
     "output_type": "stream",
     "text": [
      "tensor([[9.9130e-01, 8.7026e-03],\n",
      "        [9.7264e-01, 2.7358e-02],\n",
      "        [9.9987e-01, 1.2536e-04],\n",
      "        [9.7444e-01, 2.5565e-02],\n",
      "        [9.7559e-01, 2.4409e-02],\n",
      "        [9.7621e-01, 2.3794e-02],\n",
      "        [9.9641e-01, 3.5874e-03],\n",
      "        [9.4906e-01, 5.0938e-02],\n",
      "        [9.7395e-01, 2.6053e-02],\n",
      "        [9.6848e-01, 3.1523e-02]], grad_fn=<SliceBackward0>)\n"
     ]
    },
    {
     "name": "stderr",
     "output_type": "stream",
     "text": [
      " 74%|███████▍  | 71/96 [10:04<03:31,  8.48s/it]"
     ]
    },
    {
     "name": "stdout",
     "output_type": "stream",
     "text": [
      "tensor([[9.7809e-01, 2.1906e-02],\n",
      "        [9.7796e-01, 2.2036e-02],\n",
      "        [9.5358e-01, 4.6417e-02],\n",
      "        [9.8389e-01, 1.6113e-02],\n",
      "        [9.8900e-01, 1.0997e-02],\n",
      "        [9.6854e-01, 3.1458e-02],\n",
      "        [9.7876e-01, 2.1243e-02],\n",
      "        [9.9999e-01, 9.1971e-06],\n",
      "        [9.6187e-01, 3.8126e-02],\n",
      "        [9.9972e-01, 2.7930e-04]], grad_fn=<SliceBackward0>)\n"
     ]
    },
    {
     "name": "stderr",
     "output_type": "stream",
     "text": [
      " 75%|███████▌  | 72/96 [10:12<03:23,  8.47s/it]"
     ]
    },
    {
     "name": "stdout",
     "output_type": "stream",
     "text": [
      "tensor([[9.9957e-01, 4.2935e-04],\n",
      "        [9.4802e-01, 5.1982e-02],\n",
      "        [9.6275e-01, 3.7250e-02],\n",
      "        [9.4867e-01, 5.1327e-02],\n",
      "        [9.5309e-01, 4.6908e-02],\n",
      "        [9.9809e-01, 1.9135e-03],\n",
      "        [9.1961e-01, 8.0385e-02],\n",
      "        [9.4190e-01, 5.8102e-02],\n",
      "        [9.9062e-01, 9.3823e-03],\n",
      "        [1.0000e+00, 1.3840e-06]], grad_fn=<SliceBackward0>)\n"
     ]
    },
    {
     "name": "stderr",
     "output_type": "stream",
     "text": [
      " 76%|███████▌  | 73/96 [10:21<03:14,  8.45s/it]"
     ]
    },
    {
     "name": "stdout",
     "output_type": "stream",
     "text": [
      "tensor([[9.9996e-01, 4.1668e-05],\n",
      "        [9.9110e-01, 8.9036e-03],\n",
      "        [8.9701e-01, 1.0299e-01],\n",
      "        [1.0000e+00, 2.2990e-06],\n",
      "        [9.9856e-01, 1.4422e-03],\n",
      "        [9.8602e-01, 1.3982e-02],\n",
      "        [9.3205e-01, 6.7945e-02],\n",
      "        [9.9927e-01, 7.3486e-04],\n",
      "        [9.9242e-01, 7.5801e-03],\n",
      "        [9.3324e-01, 6.6759e-02]], grad_fn=<SliceBackward0>)\n"
     ]
    },
    {
     "name": "stderr",
     "output_type": "stream",
     "text": [
      " 77%|███████▋  | 74/96 [10:29<03:04,  8.41s/it]"
     ]
    },
    {
     "name": "stdout",
     "output_type": "stream",
     "text": [
      "tensor([[1.0000e+00, 2.9720e-06],\n",
      "        [8.9016e-01, 1.0984e-01],\n",
      "        [8.9315e-01, 1.0685e-01],\n",
      "        [9.7357e-01, 2.6431e-02],\n",
      "        [8.9274e-01, 1.0726e-01],\n",
      "        [8.9631e-01, 1.0369e-01],\n",
      "        [8.7443e-01, 1.2557e-01],\n",
      "        [8.6902e-01, 1.3098e-01],\n",
      "        [9.8343e-01, 1.6568e-02],\n",
      "        [8.9744e-01, 1.0256e-01]], grad_fn=<SliceBackward0>)\n"
     ]
    },
    {
     "name": "stderr",
     "output_type": "stream",
     "text": [
      " 78%|███████▊  | 75/96 [10:37<02:56,  8.38s/it]"
     ]
    },
    {
     "name": "stdout",
     "output_type": "stream",
     "text": [
      "tensor([[1.0000e+00, 1.1837e-06],\n",
      "        [9.7341e-01, 2.6585e-02],\n",
      "        [9.8800e-01, 1.1996e-02],\n",
      "        [9.1676e-01, 8.3237e-02],\n",
      "        [9.9999e-01, 9.0587e-06],\n",
      "        [9.0870e-01, 9.1305e-02],\n",
      "        [9.9779e-01, 2.2086e-03],\n",
      "        [9.3335e-01, 6.6645e-02],\n",
      "        [9.0972e-01, 9.0281e-02],\n",
      "        [9.7670e-01, 2.3303e-02]], grad_fn=<SliceBackward0>)\n"
     ]
    },
    {
     "name": "stderr",
     "output_type": "stream",
     "text": [
      " 79%|███████▉  | 76/96 [10:46<02:48,  8.41s/it]"
     ]
    },
    {
     "name": "stdout",
     "output_type": "stream",
     "text": [
      "tensor([[0.9151, 0.0849],\n",
      "        [0.9217, 0.0783],\n",
      "        [0.9238, 0.0762],\n",
      "        [0.9171, 0.0829],\n",
      "        [0.9241, 0.0759],\n",
      "        [0.9310, 0.0690],\n",
      "        [0.9493, 0.0507],\n",
      "        [0.9917, 0.0083],\n",
      "        [0.9263, 0.0737],\n",
      "        [0.9054, 0.0946]], grad_fn=<SliceBackward0>)\n"
     ]
    },
    {
     "name": "stderr",
     "output_type": "stream",
     "text": [
      " 80%|████████  | 77/96 [10:54<02:41,  8.48s/it]"
     ]
    },
    {
     "name": "stdout",
     "output_type": "stream",
     "text": [
      "tensor([[9.9928e-01, 7.2354e-04],\n",
      "        [9.0495e-01, 9.5052e-02],\n",
      "        [9.5997e-01, 4.0033e-02],\n",
      "        [9.9611e-01, 3.8939e-03],\n",
      "        [9.1076e-01, 8.9235e-02],\n",
      "        [9.2122e-01, 7.8783e-02],\n",
      "        [9.2142e-01, 7.8582e-02],\n",
      "        [8.9271e-01, 1.0729e-01],\n",
      "        [9.9798e-01, 2.0183e-03],\n",
      "        [9.3306e-01, 6.6935e-02]], grad_fn=<SliceBackward0>)\n"
     ]
    },
    {
     "name": "stderr",
     "output_type": "stream",
     "text": [
      " 81%|████████▏ | 78/96 [11:03<02:32,  8.48s/it]"
     ]
    },
    {
     "name": "stdout",
     "output_type": "stream",
     "text": [
      "tensor([[8.8917e-01, 1.1083e-01],\n",
      "        [9.9989e-01, 1.1316e-04],\n",
      "        [8.9371e-01, 1.0629e-01],\n",
      "        [9.0137e-01, 9.8634e-02],\n",
      "        [9.0927e-01, 9.0730e-02],\n",
      "        [9.8162e-01, 1.8380e-02],\n",
      "        [9.8220e-01, 1.7803e-02],\n",
      "        [9.7655e-01, 2.3453e-02],\n",
      "        [8.9404e-01, 1.0596e-01],\n",
      "        [8.9654e-01, 1.0346e-01]], grad_fn=<SliceBackward0>)\n"
     ]
    },
    {
     "name": "stderr",
     "output_type": "stream",
     "text": [
      " 82%|████████▏ | 79/96 [11:11<02:24,  8.48s/it]"
     ]
    },
    {
     "name": "stdout",
     "output_type": "stream",
     "text": [
      "tensor([[9.9959e-01, 4.0801e-04],\n",
      "        [8.7584e-01, 1.2416e-01],\n",
      "        [9.9979e-01, 2.0812e-04],\n",
      "        [8.6431e-01, 1.3569e-01],\n",
      "        [1.0000e+00, 2.9991e-06],\n",
      "        [9.9956e-01, 4.4225e-04],\n",
      "        [8.7390e-01, 1.2610e-01],\n",
      "        [8.7179e-01, 1.2821e-01],\n",
      "        [8.5434e-01, 1.4566e-01],\n",
      "        [8.5600e-01, 1.4400e-01]], grad_fn=<SliceBackward0>)\n"
     ]
    },
    {
     "name": "stderr",
     "output_type": "stream",
     "text": [
      " 83%|████████▎ | 80/96 [11:20<02:16,  8.54s/it]"
     ]
    },
    {
     "name": "stdout",
     "output_type": "stream",
     "text": [
      "tensor([[0.9247, 0.0753],\n",
      "        [0.8147, 0.1853],\n",
      "        [0.8023, 0.1977],\n",
      "        [0.7853, 0.2147],\n",
      "        [0.9987, 0.0013],\n",
      "        [0.7718, 0.2282],\n",
      "        [0.7863, 0.2137],\n",
      "        [0.7899, 0.2101],\n",
      "        [0.7781, 0.2219],\n",
      "        [0.7829, 0.2171]], grad_fn=<SliceBackward0>)\n"
     ]
    },
    {
     "name": "stderr",
     "output_type": "stream",
     "text": [
      " 84%|████████▍ | 81/96 [11:29<02:09,  8.65s/it]"
     ]
    },
    {
     "name": "stdout",
     "output_type": "stream",
     "text": [
      "tensor([[9.8193e-01, 1.8072e-02],\n",
      "        [9.9964e-01, 3.5735e-04],\n",
      "        [7.3708e-01, 2.6292e-01],\n",
      "        [7.2311e-01, 2.7689e-01],\n",
      "        [7.5020e-01, 2.4980e-01],\n",
      "        [7.6043e-01, 2.3957e-01],\n",
      "        [7.2640e-01, 2.7360e-01],\n",
      "        [7.2053e-01, 2.7947e-01],\n",
      "        [6.8007e-01, 3.1993e-01],\n",
      "        [6.9642e-01, 3.0358e-01]], grad_fn=<SliceBackward0>)\n"
     ]
    },
    {
     "name": "stderr",
     "output_type": "stream",
     "text": [
      " 85%|████████▌ | 82/96 [11:38<02:00,  8.63s/it]"
     ]
    },
    {
     "name": "stdout",
     "output_type": "stream",
     "text": [
      "tensor([[0.9936, 0.0064],\n",
      "        [0.7196, 0.2804],\n",
      "        [0.7506, 0.2494],\n",
      "        [0.7746, 0.2254],\n",
      "        [0.7741, 0.2259],\n",
      "        [0.9785, 0.0215],\n",
      "        [0.7235, 0.2765],\n",
      "        [0.8887, 0.1113],\n",
      "        [0.7919, 0.2081],\n",
      "        [0.7635, 0.2365]], grad_fn=<SliceBackward0>)\n"
     ]
    },
    {
     "name": "stderr",
     "output_type": "stream",
     "text": [
      " 86%|████████▋ | 83/96 [11:46<01:51,  8.58s/it]"
     ]
    },
    {
     "name": "stdout",
     "output_type": "stream",
     "text": [
      "tensor([[9.9960e-01, 3.9663e-04],\n",
      "        [9.9229e-01, 7.7138e-03],\n",
      "        [7.7366e-01, 2.2634e-01],\n",
      "        [7.1352e-01, 2.8648e-01],\n",
      "        [7.3802e-01, 2.6198e-01],\n",
      "        [6.9183e-01, 3.0818e-01],\n",
      "        [8.1753e-01, 1.8247e-01],\n",
      "        [7.4468e-01, 2.5532e-01],\n",
      "        [8.7336e-01, 1.2664e-01],\n",
      "        [8.6976e-01, 1.3024e-01]], grad_fn=<SliceBackward0>)\n"
     ]
    },
    {
     "name": "stderr",
     "output_type": "stream",
     "text": [
      " 88%|████████▊ | 84/96 [11:55<01:42,  8.56s/it]"
     ]
    },
    {
     "name": "stdout",
     "output_type": "stream",
     "text": [
      "tensor([[0.8576, 0.1424],\n",
      "        [0.8177, 0.1823],\n",
      "        [0.8044, 0.1956],\n",
      "        [0.8393, 0.1607],\n",
      "        [0.9468, 0.0532],\n",
      "        [0.9975, 0.0025],\n",
      "        [0.9980, 0.0020],\n",
      "        [0.8427, 0.1573],\n",
      "        [0.9567, 0.0433],\n",
      "        [0.7156, 0.2844]], grad_fn=<SliceBackward0>)\n"
     ]
    },
    {
     "name": "stderr",
     "output_type": "stream",
     "text": [
      " 89%|████████▊ | 85/96 [12:03<01:34,  8.58s/it]"
     ]
    },
    {
     "name": "stdout",
     "output_type": "stream",
     "text": [
      "tensor([[1.0000e+00, 7.0273e-12],\n",
      "        [8.4772e-01, 1.5228e-01],\n",
      "        [8.8768e-01, 1.1232e-01],\n",
      "        [8.2923e-01, 1.7077e-01],\n",
      "        [8.6640e-01, 1.3360e-01],\n",
      "        [7.8415e-01, 2.1585e-01],\n",
      "        [7.8328e-01, 2.1672e-01],\n",
      "        [8.9338e-01, 1.0662e-01],\n",
      "        [9.9999e-01, 4.9562e-06],\n",
      "        [8.2041e-01, 1.7959e-01]], grad_fn=<SliceBackward0>)\n"
     ]
    },
    {
     "name": "stderr",
     "output_type": "stream",
     "text": [
      " 90%|████████▉ | 86/96 [12:12<01:26,  8.63s/it]"
     ]
    },
    {
     "name": "stdout",
     "output_type": "stream",
     "text": [
      "tensor([[9.0069e-01, 9.9311e-02],\n",
      "        [8.7088e-01, 1.2912e-01],\n",
      "        [9.9985e-01, 1.5286e-04],\n",
      "        [1.0000e+00, 2.6572e-08],\n",
      "        [8.9604e-01, 1.0396e-01],\n",
      "        [8.9417e-01, 1.0583e-01],\n",
      "        [8.6524e-01, 1.3476e-01],\n",
      "        [8.7285e-01, 1.2715e-01],\n",
      "        [8.8127e-01, 1.1873e-01],\n",
      "        [8.8440e-01, 1.1560e-01]], grad_fn=<SliceBackward0>)\n"
     ]
    },
    {
     "name": "stderr",
     "output_type": "stream",
     "text": [
      " 91%|█████████ | 87/96 [12:21<01:17,  8.63s/it]"
     ]
    },
    {
     "name": "stdout",
     "output_type": "stream",
     "text": [
      "tensor([[9.1921e-01, 8.0791e-02],\n",
      "        [9.2140e-01, 7.8600e-02],\n",
      "        [9.9957e-01, 4.2999e-04],\n",
      "        [9.1840e-01, 8.1599e-02],\n",
      "        [8.8012e-01, 1.1988e-01],\n",
      "        [9.3170e-01, 6.8297e-02],\n",
      "        [9.0756e-01, 9.2435e-02],\n",
      "        [9.1188e-01, 8.8120e-02],\n",
      "        [9.1915e-01, 8.0847e-02],\n",
      "        [9.2047e-01, 7.9525e-02]], grad_fn=<SliceBackward0>)\n"
     ]
    },
    {
     "name": "stderr",
     "output_type": "stream",
     "text": [
      " 92%|█████████▏| 88/96 [12:29<01:09,  8.64s/it]"
     ]
    },
    {
     "name": "stdout",
     "output_type": "stream",
     "text": [
      "tensor([[9.0264e-01, 9.7364e-02],\n",
      "        [9.0026e-01, 9.9738e-02],\n",
      "        [9.1016e-01, 8.9840e-02],\n",
      "        [8.9271e-01, 1.0729e-01],\n",
      "        [9.0845e-01, 9.1555e-02],\n",
      "        [1.0000e+00, 4.4598e-06],\n",
      "        [8.8281e-01, 1.1719e-01],\n",
      "        [9.9809e-01, 1.9150e-03],\n",
      "        [8.9510e-01, 1.0490e-01],\n",
      "        [9.0729e-01, 9.2711e-02]], grad_fn=<SliceBackward0>)\n"
     ]
    },
    {
     "name": "stderr",
     "output_type": "stream",
     "text": [
      " 93%|█████████▎| 89/96 [12:38<00:59,  8.56s/it]"
     ]
    },
    {
     "name": "stdout",
     "output_type": "stream",
     "text": [
      "tensor([[8.9020e-01, 1.0980e-01],\n",
      "        [1.0000e+00, 5.8320e-11],\n",
      "        [8.9347e-01, 1.0653e-01],\n",
      "        [8.8280e-01, 1.1720e-01],\n",
      "        [8.9836e-01, 1.0164e-01],\n",
      "        [9.3900e-01, 6.0996e-02],\n",
      "        [8.8199e-01, 1.1801e-01],\n",
      "        [8.9491e-01, 1.0509e-01],\n",
      "        [9.9860e-01, 1.4041e-03],\n",
      "        [8.8670e-01, 1.1330e-01]], grad_fn=<SliceBackward0>)\n"
     ]
    },
    {
     "name": "stderr",
     "output_type": "stream",
     "text": [
      " 94%|█████████▍| 90/96 [12:46<00:51,  8.55s/it]"
     ]
    },
    {
     "name": "stdout",
     "output_type": "stream",
     "text": [
      "tensor([[0.8569, 0.1431],\n",
      "        [0.8740, 0.1260],\n",
      "        [0.8703, 0.1297],\n",
      "        [0.8627, 0.1373],\n",
      "        [0.8600, 0.1400],\n",
      "        [0.8284, 0.1716],\n",
      "        [0.8458, 0.1542],\n",
      "        [0.8568, 0.1432],\n",
      "        [0.8724, 0.1276],\n",
      "        [0.8724, 0.1276]], grad_fn=<SliceBackward0>)\n"
     ]
    },
    {
     "name": "stderr",
     "output_type": "stream",
     "text": [
      " 95%|█████████▍| 91/96 [12:55<00:42,  8.56s/it]"
     ]
    },
    {
     "name": "stdout",
     "output_type": "stream",
     "text": [
      "tensor([[8.5379e-01, 1.4621e-01],\n",
      "        [1.0000e+00, 1.5775e-10],\n",
      "        [8.6113e-01, 1.3887e-01],\n",
      "        [8.6379e-01, 1.3621e-01],\n",
      "        [8.5127e-01, 1.4873e-01],\n",
      "        [8.3979e-01, 1.6021e-01],\n",
      "        [8.6232e-01, 1.3768e-01],\n",
      "        [1.0000e+00, 2.3323e-06],\n",
      "        [8.6385e-01, 1.3615e-01],\n",
      "        [8.3525e-01, 1.6475e-01]], grad_fn=<SliceBackward0>)\n"
     ]
    },
    {
     "name": "stderr",
     "output_type": "stream",
     "text": [
      " 96%|█████████▌| 92/96 [13:03<00:34,  8.52s/it]"
     ]
    },
    {
     "name": "stdout",
     "output_type": "stream",
     "text": [
      "tensor([[8.1225e-01, 1.8775e-01],\n",
      "        [8.1588e-01, 1.8412e-01],\n",
      "        [8.2582e-01, 1.7418e-01],\n",
      "        [8.0393e-01, 1.9607e-01],\n",
      "        [8.2445e-01, 1.7555e-01],\n",
      "        [8.2100e-01, 1.7900e-01],\n",
      "        [8.1811e-01, 1.8189e-01],\n",
      "        [8.1996e-01, 1.8004e-01],\n",
      "        [8.1975e-01, 1.8025e-01],\n",
      "        [9.9999e-01, 8.6480e-06]], grad_fn=<SliceBackward0>)\n"
     ]
    },
    {
     "name": "stderr",
     "output_type": "stream",
     "text": [
      " 97%|█████████▋| 93/96 [13:12<00:25,  8.50s/it]"
     ]
    },
    {
     "name": "stdout",
     "output_type": "stream",
     "text": [
      "tensor([[0.8419, 0.1581],\n",
      "        [0.8233, 0.1767],\n",
      "        [0.9925, 0.0075],\n",
      "        [0.8428, 0.1572],\n",
      "        [0.8250, 0.1750],\n",
      "        [0.9128, 0.0872],\n",
      "        [0.8420, 0.1580],\n",
      "        [0.8202, 0.1798],\n",
      "        [0.8201, 0.1799],\n",
      "        [0.8352, 0.1648]], grad_fn=<SliceBackward0>)\n"
     ]
    },
    {
     "name": "stderr",
     "output_type": "stream",
     "text": [
      " 98%|█████████▊| 94/96 [13:20<00:17,  8.53s/it]"
     ]
    },
    {
     "name": "stdout",
     "output_type": "stream",
     "text": [
      "tensor([[8.5035e-01, 1.4965e-01],\n",
      "        [8.5057e-01, 1.4943e-01],\n",
      "        [8.6999e-01, 1.3001e-01],\n",
      "        [8.5215e-01, 1.4785e-01],\n",
      "        [9.9951e-01, 4.9411e-04],\n",
      "        [8.7169e-01, 1.2831e-01],\n",
      "        [8.5650e-01, 1.4350e-01],\n",
      "        [8.6422e-01, 1.3578e-01],\n",
      "        [8.7297e-01, 1.2703e-01],\n",
      "        [8.4813e-01, 1.5187e-01]], grad_fn=<SliceBackward0>)\n"
     ]
    },
    {
     "name": "stderr",
     "output_type": "stream",
     "text": [
      " 99%|█████████▉| 95/96 [13:29<00:08,  8.52s/it]"
     ]
    },
    {
     "name": "stdout",
     "output_type": "stream",
     "text": [
      "tensor([[0.8055, 0.1945],\n",
      "        [0.8165, 0.1835],\n",
      "        [0.8633, 0.1367],\n",
      "        [0.8343, 0.1657],\n",
      "        [0.8478, 0.1522],\n",
      "        [0.8321, 0.1679],\n",
      "        [0.8224, 0.1776],\n",
      "        [0.8454, 0.1546],\n",
      "        [0.8077, 0.1923],\n",
      "        [0.8638, 0.1362]], grad_fn=<SliceBackward0>)\n"
     ]
    },
    {
     "name": "stderr",
     "output_type": "stream",
     "text": [
      "100%|██████████| 96/96 [13:37<00:00,  8.52s/it]\n",
      "  8%|▊         | 1/12 [00:02<00:28,  2.62s/it]"
     ]
    },
    {
     "name": "stdout",
     "output_type": "stream",
     "text": [
      "tensor([[0.8372, 0.1628],\n",
      "        [0.8381, 0.1619],\n",
      "        [0.8358, 0.1642],\n",
      "        [0.8371, 0.1629],\n",
      "        [0.8375, 0.1625],\n",
      "        [0.8372, 0.1628],\n",
      "        [0.8366, 0.1634],\n",
      "        [0.8364, 0.1636],\n",
      "        [0.8386, 0.1614],\n",
      "        [0.8388, 0.1612]], grad_fn=<SliceBackward0>)\n",
      "tensor([[0.8370, 0.1630],\n",
      "        [0.8366, 0.1634],\n",
      "        [0.8359, 0.1641],\n",
      "        [0.8406, 0.1594],\n",
      "        [0.8376, 0.1624],\n",
      "        [0.8361, 0.1639],\n",
      "        [0.8374, 0.1626],\n",
      "        [0.8393, 0.1607],\n",
      "        [0.8433, 0.1567],\n",
      "        [0.8445, 0.1555]], grad_fn=<SliceBackward0>)\n"
     ]
    },
    {
     "name": "stderr",
     "output_type": "stream",
     "text": [
      " 17%|█▋        | 2/12 [00:05<00:27,  2.74s/it]"
     ]
    },
    {
     "name": "stdout",
     "output_type": "stream",
     "text": [
      "tensor([[0.8375, 0.1625],\n",
      "        [0.8374, 0.1626],\n",
      "        [0.8365, 0.1635],\n",
      "        [0.8359, 0.1641],\n",
      "        [0.8370, 0.1630],\n",
      "        [0.8389, 0.1611],\n",
      "        [0.8370, 0.1630],\n",
      "        [0.8366, 0.1634],\n",
      "        [0.8343, 0.1657],\n",
      "        [0.8383, 0.1617]], grad_fn=<SliceBackward0>)\n"
     ]
    },
    {
     "name": "stderr",
     "output_type": "stream",
     "text": [
      " 25%|██▌       | 3/12 [00:08<00:25,  2.80s/it]"
     ]
    },
    {
     "name": "stdout",
     "output_type": "stream",
     "text": [
      "tensor([[0.8410, 0.1590],\n",
      "        [0.8354, 0.1646],\n",
      "        [0.8477, 0.1523],\n",
      "        [0.8368, 0.1632],\n",
      "        [0.8371, 0.1629],\n",
      "        [0.8389, 0.1611],\n",
      "        [0.8399, 0.1601],\n",
      "        [0.8365, 0.1635],\n",
      "        [0.8344, 0.1656],\n",
      "        [0.8363, 0.1637]], grad_fn=<SliceBackward0>)\n"
     ]
    },
    {
     "name": "stderr",
     "output_type": "stream",
     "text": [
      " 33%|███▎      | 4/12 [00:11<00:22,  2.83s/it]"
     ]
    },
    {
     "name": "stdout",
     "output_type": "stream",
     "text": [
      "tensor([[0.8388, 0.1612],\n",
      "        [0.8407, 0.1593],\n",
      "        [0.8369, 0.1631],\n",
      "        [0.8364, 0.1636],\n",
      "        [0.8357, 0.1643],\n",
      "        [0.8372, 0.1628],\n",
      "        [0.8371, 0.1629],\n",
      "        [0.8366, 0.1634],\n",
      "        [0.8381, 0.1619],\n",
      "        [0.8421, 0.1579]], grad_fn=<SliceBackward0>)\n"
     ]
    },
    {
     "name": "stderr",
     "output_type": "stream",
     "text": [
      " 42%|████▏     | 5/12 [00:14<00:19,  2.85s/it]"
     ]
    },
    {
     "name": "stdout",
     "output_type": "stream",
     "text": [
      "tensor([[0.8364, 0.1636],\n",
      "        [0.8383, 0.1617],\n",
      "        [0.8394, 0.1606],\n",
      "        [0.8374, 0.1626],\n",
      "        [0.8387, 0.1613],\n",
      "        [0.8356, 0.1644],\n",
      "        [0.8381, 0.1619],\n",
      "        [0.8659, 0.1341],\n",
      "        [0.8367, 0.1633],\n",
      "        [0.8353, 0.1647]], grad_fn=<SliceBackward0>)\n"
     ]
    },
    {
     "name": "stderr",
     "output_type": "stream",
     "text": [
      " 50%|█████     | 6/12 [00:16<00:17,  2.85s/it]"
     ]
    },
    {
     "name": "stdout",
     "output_type": "stream",
     "text": [
      "tensor([[0.8369, 0.1631],\n",
      "        [0.8372, 0.1628],\n",
      "        [0.8365, 0.1635],\n",
      "        [0.8361, 0.1639],\n",
      "        [0.8456, 0.1544],\n",
      "        [0.8383, 0.1617],\n",
      "        [0.8359, 0.1641],\n",
      "        [0.8373, 0.1627],\n",
      "        [0.8364, 0.1636],\n",
      "        [0.8407, 0.1593]], grad_fn=<SliceBackward0>)\n"
     ]
    },
    {
     "name": "stderr",
     "output_type": "stream",
     "text": [
      " 58%|█████▊    | 7/12 [00:19<00:14,  2.86s/it]"
     ]
    },
    {
     "name": "stdout",
     "output_type": "stream",
     "text": [
      "tensor([[0.8383, 0.1617],\n",
      "        [0.8482, 0.1518],\n",
      "        [0.8384, 0.1616],\n",
      "        [0.8381, 0.1619],\n",
      "        [0.8360, 0.1640],\n",
      "        [0.8405, 0.1595],\n",
      "        [0.8364, 0.1636],\n",
      "        [0.8377, 0.1623],\n",
      "        [0.8382, 0.1618],\n",
      "        [0.8358, 0.1642]], grad_fn=<SliceBackward0>)\n"
     ]
    },
    {
     "name": "stderr",
     "output_type": "stream",
     "text": [
      " 67%|██████▋   | 8/12 [00:22<00:11,  2.86s/it]"
     ]
    },
    {
     "name": "stdout",
     "output_type": "stream",
     "text": [
      "tensor([[0.8367, 0.1633],\n",
      "        [0.8371, 0.1629],\n",
      "        [0.8367, 0.1633],\n",
      "        [0.8373, 0.1627],\n",
      "        [0.8365, 0.1635],\n",
      "        [0.8379, 0.1621],\n",
      "        [0.8356, 0.1644],\n",
      "        [0.8370, 0.1630],\n",
      "        [0.8594, 0.1406],\n",
      "        [0.8385, 0.1615]], grad_fn=<SliceBackward0>)\n"
     ]
    },
    {
     "name": "stderr",
     "output_type": "stream",
     "text": [
      " 75%|███████▌  | 9/12 [00:25<00:08,  2.84s/it]"
     ]
    },
    {
     "name": "stdout",
     "output_type": "stream",
     "text": [
      "tensor([[0.8365, 0.1635],\n",
      "        [0.8358, 0.1642],\n",
      "        [0.8376, 0.1624],\n",
      "        [0.8365, 0.1635],\n",
      "        [0.8362, 0.1638],\n",
      "        [0.8390, 0.1610],\n",
      "        [0.8360, 0.1640],\n",
      "        [0.8360, 0.1640],\n",
      "        [0.8353, 0.1647],\n",
      "        [0.8361, 0.1639]], grad_fn=<SliceBackward0>)\n"
     ]
    },
    {
     "name": "stderr",
     "output_type": "stream",
     "text": [
      " 83%|████████▎ | 10/12 [00:28<00:05,  2.84s/it]"
     ]
    },
    {
     "name": "stdout",
     "output_type": "stream",
     "text": [
      "tensor([[0.8368, 0.1632],\n",
      "        [0.8359, 0.1641],\n",
      "        [0.8424, 0.1576],\n",
      "        [0.8360, 0.1640],\n",
      "        [0.8412, 0.1588],\n",
      "        [0.8355, 0.1645],\n",
      "        [0.8380, 0.1620],\n",
      "        [0.8360, 0.1640],\n",
      "        [0.8369, 0.1631],\n",
      "        [0.8370, 0.1630]], grad_fn=<SliceBackward0>)\n"
     ]
    },
    {
     "name": "stderr",
     "output_type": "stream",
     "text": [
      " 92%|█████████▏| 11/12 [00:31<00:02,  2.83s/it]"
     ]
    },
    {
     "name": "stdout",
     "output_type": "stream",
     "text": [
      "tensor([[0.8634, 0.1366],\n",
      "        [0.8365, 0.1635],\n",
      "        [0.8375, 0.1625],\n",
      "        [0.8372, 0.1628],\n",
      "        [0.8429, 0.1571],\n",
      "        [0.8363, 0.1637],\n",
      "        [0.8387, 0.1613],\n",
      "        [0.8391, 0.1609],\n",
      "        [0.8367, 0.1633],\n",
      "        [0.8356, 0.1644]], grad_fn=<SliceBackward0>)\n"
     ]
    },
    {
     "name": "stderr",
     "output_type": "stream",
     "text": [
      "100%|██████████| 12/12 [00:33<00:00,  2.83s/it]\n"
     ]
    },
    {
     "name": "stdout",
     "output_type": "stream",
     "text": [
      "Train Accuracy: 0.332 Test Accuracy: 0.322\n",
      "Epoch 2: \n"
     ]
    },
    {
     "name": "stderr",
     "output_type": "stream",
     "text": [
      "  0%|          | 0/96 [00:00<?, ?it/s]"
     ]
    },
    {
     "name": "stdout",
     "output_type": "stream",
     "text": [
      "tensor([[8.5433e-01, 1.4567e-01],\n",
      "        [8.4466e-01, 1.5534e-01],\n",
      "        [8.2492e-01, 1.7508e-01],\n",
      "        [8.1559e-01, 1.8441e-01],\n",
      "        [9.9999e-01, 4.9902e-06],\n",
      "        [8.1954e-01, 1.8046e-01],\n",
      "        [9.1348e-01, 8.6522e-02],\n",
      "        [8.8619e-01, 1.1381e-01],\n",
      "        [8.4310e-01, 1.5690e-01],\n",
      "        [9.5804e-01, 4.1964e-02]], grad_fn=<SliceBackward0>)\n"
     ]
    },
    {
     "name": "stderr",
     "output_type": "stream",
     "text": [
      "  1%|          | 1/96 [00:08<13:26,  8.49s/it]"
     ]
    },
    {
     "name": "stdout",
     "output_type": "stream",
     "text": [
      "tensor([[0.7705, 0.2295],\n",
      "        [0.7950, 0.2050],\n",
      "        [0.7651, 0.2349],\n",
      "        [0.7867, 0.2133],\n",
      "        [0.7737, 0.2263],\n",
      "        [0.7764, 0.2236],\n",
      "        [0.7775, 0.2225],\n",
      "        [0.7702, 0.2298],\n",
      "        [0.7579, 0.2421],\n",
      "        [0.7887, 0.2113]], grad_fn=<SliceBackward0>)\n"
     ]
    },
    {
     "name": "stderr",
     "output_type": "stream",
     "text": [
      "  2%|▏         | 2/96 [00:17<13:21,  8.52s/it]"
     ]
    },
    {
     "name": "stdout",
     "output_type": "stream",
     "text": [
      "tensor([[9.0147e-01, 9.8532e-02],\n",
      "        [9.5471e-01, 4.5290e-02],\n",
      "        [8.6461e-01, 1.3539e-01],\n",
      "        [8.6785e-01, 1.3215e-01],\n",
      "        [8.6446e-01, 1.3554e-01],\n",
      "        [9.9987e-01, 1.2559e-04],\n",
      "        [8.6680e-01, 1.3320e-01],\n",
      "        [8.6515e-01, 1.3485e-01],\n",
      "        [9.7149e-01, 2.8510e-02],\n",
      "        [8.8201e-01, 1.1799e-01]], grad_fn=<SliceBackward0>)\n"
     ]
    },
    {
     "name": "stderr",
     "output_type": "stream",
     "text": [
      "  3%|▎         | 3/96 [00:25<13:16,  8.56s/it]"
     ]
    },
    {
     "name": "stdout",
     "output_type": "stream",
     "text": [
      "tensor([[0.8446, 0.1554],\n",
      "        [0.8838, 0.1162],\n",
      "        [0.8794, 0.1206],\n",
      "        [0.8521, 0.1479],\n",
      "        [0.8850, 0.1150],\n",
      "        [0.8836, 0.1164],\n",
      "        [0.8898, 0.1102],\n",
      "        [0.8853, 0.1147],\n",
      "        [0.8877, 0.1123],\n",
      "        [0.8694, 0.1306]], grad_fn=<SliceBackward0>)\n"
     ]
    },
    {
     "name": "stderr",
     "output_type": "stream",
     "text": [
      "  4%|▍         | 4/96 [00:34<13:09,  8.59s/it]"
     ]
    },
    {
     "name": "stdout",
     "output_type": "stream",
     "text": [
      "tensor([[8.8746e-01, 1.1254e-01],\n",
      "        [9.2138e-01, 7.8620e-02],\n",
      "        [9.2229e-01, 7.7706e-02],\n",
      "        [8.9725e-01, 1.0275e-01],\n",
      "        [9.3226e-01, 6.7741e-02],\n",
      "        [9.9590e-01, 4.1022e-03],\n",
      "        [9.9999e-01, 1.0994e-05],\n",
      "        [9.8426e-01, 1.5736e-02],\n",
      "        [9.3870e-01, 6.1302e-02],\n",
      "        [9.8196e-01, 1.8036e-02]], grad_fn=<SliceBackward0>)\n"
     ]
    },
    {
     "name": "stderr",
     "output_type": "stream",
     "text": [
      "  5%|▌         | 5/96 [00:42<13:01,  8.59s/it]"
     ]
    },
    {
     "name": "stdout",
     "output_type": "stream",
     "text": [
      "tensor([[9.6789e-01, 3.2111e-02],\n",
      "        [9.9987e-01, 1.3238e-04],\n",
      "        [9.9505e-01, 4.9471e-03],\n",
      "        [9.3092e-01, 6.9075e-02],\n",
      "        [9.7026e-01, 2.9740e-02],\n",
      "        [9.4315e-01, 5.6851e-02],\n",
      "        [9.6920e-01, 3.0796e-02],\n",
      "        [9.6378e-01, 3.6224e-02],\n",
      "        [9.0972e-01, 9.0284e-02],\n",
      "        [9.6231e-01, 3.7692e-02]], grad_fn=<SliceBackward0>)\n"
     ]
    },
    {
     "name": "stderr",
     "output_type": "stream",
     "text": [
      "  6%|▋         | 6/96 [00:51<12:58,  8.65s/it]"
     ]
    },
    {
     "name": "stdout",
     "output_type": "stream",
     "text": [
      "tensor([[0.9987, 0.0013],\n",
      "        [0.8888, 0.1112],\n",
      "        [0.9519, 0.0481],\n",
      "        [0.9920, 0.0080],\n",
      "        [0.9923, 0.0077],\n",
      "        [0.9916, 0.0084],\n",
      "        [0.9916, 0.0084],\n",
      "        [0.8132, 0.1868],\n",
      "        [0.9039, 0.0961],\n",
      "        [0.9477, 0.0523]], grad_fn=<SliceBackward0>)\n"
     ]
    },
    {
     "name": "stderr",
     "output_type": "stream",
     "text": [
      "  7%|▋         | 7/96 [01:00<12:45,  8.60s/it]"
     ]
    },
    {
     "name": "stdout",
     "output_type": "stream",
     "text": [
      "tensor([[0.8029, 0.1971],\n",
      "        [0.9754, 0.0246],\n",
      "        [0.9719, 0.0281],\n",
      "        [0.8945, 0.1055],\n",
      "        [0.9726, 0.0274],\n",
      "        [0.9717, 0.0283],\n",
      "        [0.9727, 0.0273],\n",
      "        [0.8764, 0.1236],\n",
      "        [0.9630, 0.0370],\n",
      "        [0.9844, 0.0156]], grad_fn=<SliceBackward0>)\n"
     ]
    },
    {
     "name": "stderr",
     "output_type": "stream",
     "text": [
      "  8%|▊         | 8/96 [01:08<12:32,  8.55s/it]"
     ]
    },
    {
     "name": "stdout",
     "output_type": "stream",
     "text": [
      "tensor([[0.9370, 0.0630],\n",
      "        [0.9369, 0.0631],\n",
      "        [0.9390, 0.0610],\n",
      "        [0.9986, 0.0014],\n",
      "        [0.9372, 0.0628],\n",
      "        [0.8118, 0.1882],\n",
      "        [0.9181, 0.0819],\n",
      "        [0.9341, 0.0659],\n",
      "        [0.9353, 0.0647],\n",
      "        [0.9397, 0.0603]], grad_fn=<SliceBackward0>)\n"
     ]
    },
    {
     "name": "stderr",
     "output_type": "stream",
     "text": [
      "  9%|▉         | 9/96 [01:17<12:24,  8.56s/it]"
     ]
    },
    {
     "name": "stdout",
     "output_type": "stream",
     "text": [
      "tensor([[0.9401, 0.0599],\n",
      "        [0.9439, 0.0561],\n",
      "        [0.9449, 0.0551],\n",
      "        [0.9453, 0.0547],\n",
      "        [0.9226, 0.0774],\n",
      "        [0.9140, 0.0860],\n",
      "        [0.9458, 0.0542],\n",
      "        [0.7936, 0.2064],\n",
      "        [0.9285, 0.0715],\n",
      "        [0.7869, 0.2131]], grad_fn=<SliceBackward0>)\n"
     ]
    },
    {
     "name": "stderr",
     "output_type": "stream",
     "text": [
      " 10%|█         | 10/96 [01:25<12:16,  8.56s/it]"
     ]
    },
    {
     "name": "stdout",
     "output_type": "stream",
     "text": [
      "tensor([[0.8875, 0.1125],\n",
      "        [0.9113, 0.0887],\n",
      "        [0.9191, 0.0809],\n",
      "        [0.9131, 0.0869],\n",
      "        [0.9764, 0.0236],\n",
      "        [0.9233, 0.0767],\n",
      "        [0.9229, 0.0771],\n",
      "        [0.9217, 0.0783],\n",
      "        [0.9179, 0.0821],\n",
      "        [0.9115, 0.0885]], grad_fn=<SliceBackward0>)\n"
     ]
    },
    {
     "name": "stderr",
     "output_type": "stream",
     "text": [
      " 11%|█▏        | 11/96 [01:34<12:05,  8.54s/it]"
     ]
    },
    {
     "name": "stdout",
     "output_type": "stream",
     "text": [
      "tensor([[0.9139, 0.0861],\n",
      "        [0.9118, 0.0882],\n",
      "        [0.9075, 0.0925],\n",
      "        [0.9176, 0.0824],\n",
      "        [0.8908, 0.1092],\n",
      "        [0.8312, 0.1688],\n",
      "        [0.8941, 0.1059],\n",
      "        [0.9075, 0.0925],\n",
      "        [0.9443, 0.0557],\n",
      "        [0.9104, 0.0896]], grad_fn=<SliceBackward0>)\n"
     ]
    },
    {
     "name": "stderr",
     "output_type": "stream",
     "text": [
      " 12%|█▎        | 12/96 [01:42<12:01,  8.59s/it]"
     ]
    },
    {
     "name": "stdout",
     "output_type": "stream",
     "text": [
      "tensor([[0.9760, 0.0240],\n",
      "        [0.8964, 0.1036],\n",
      "        [0.8561, 0.1439],\n",
      "        [0.8971, 0.1029],\n",
      "        [0.8908, 0.1092],\n",
      "        [0.8847, 0.1153],\n",
      "        [0.8757, 0.1243],\n",
      "        [0.8888, 0.1112],\n",
      "        [0.8881, 0.1119],\n",
      "        [0.8868, 0.1132]], grad_fn=<SliceBackward0>)\n"
     ]
    },
    {
     "name": "stderr",
     "output_type": "stream",
     "text": [
      " 14%|█▎        | 13/96 [01:51<11:47,  8.52s/it]"
     ]
    },
    {
     "name": "stdout",
     "output_type": "stream",
     "text": [
      "tensor([[0.9132, 0.0868],\n",
      "        [0.9155, 0.0845],\n",
      "        [0.9893, 0.0107],\n",
      "        [0.9238, 0.0762],\n",
      "        [0.8972, 0.1028],\n",
      "        [0.8870, 0.1130],\n",
      "        [0.8976, 0.1024],\n",
      "        [0.7755, 0.2245],\n",
      "        [0.8778, 0.1222],\n",
      "        [0.8996, 0.1004]], grad_fn=<SliceBackward0>)\n"
     ]
    },
    {
     "name": "stderr",
     "output_type": "stream",
     "text": [
      " 14%|█▎        | 13/96 [01:59<12:44,  9.21s/it]\n"
     ]
    },
    {
     "ename": "KeyboardInterrupt",
     "evalue": "",
     "output_type": "error",
     "traceback": [
      "\u001B[1;31m---------------------------------------------------------------------------\u001B[0m",
      "\u001B[1;31mKeyboardInterrupt\u001B[0m                         Traceback (most recent call last)",
      "Cell \u001B[1;32mIn [105], line 3\u001B[0m\n\u001B[0;32m      1\u001B[0m device \u001B[38;5;241m=\u001B[39m torch\u001B[38;5;241m.\u001B[39mdevice(\u001B[38;5;124m'\u001B[39m\u001B[38;5;124mcuda\u001B[39m\u001B[38;5;124m'\u001B[39m \u001B[38;5;28;01mif\u001B[39;00m torch\u001B[38;5;241m.\u001B[39mcuda\u001B[38;5;241m.\u001B[39mis_available() \u001B[38;5;28;01melse\u001B[39;00m \u001B[38;5;124m'\u001B[39m\u001B[38;5;124mcpu\u001B[39m\u001B[38;5;124m'\u001B[39m)\n\u001B[1;32m----> 3\u001B[0m \u001B[43mtrain\u001B[49m\u001B[43m(\u001B[49m\u001B[43mmodel\u001B[49m\u001B[38;5;241;43m=\u001B[39;49m\u001B[43mResNet\u001B[49m\u001B[43m(\u001B[49m\u001B[43mResidualModule\u001B[49m\u001B[43m,\u001B[49m\u001B[43m \u001B[49m\u001B[43m[\u001B[49m\u001B[38;5;241;43m3\u001B[39;49m\u001B[43m,\u001B[49m\u001B[43m \u001B[49m\u001B[38;5;241;43m4\u001B[39;49m\u001B[43m,\u001B[49m\u001B[43m \u001B[49m\u001B[38;5;241;43m6\u001B[39;49m\u001B[43m,\u001B[49m\u001B[43m \u001B[49m\u001B[38;5;241;43m3\u001B[39;49m\u001B[43m]\u001B[49m\u001B[43m)\u001B[49m\u001B[38;5;241;43m.\u001B[39;49m\u001B[43mto\u001B[49m\u001B[43m(\u001B[49m\u001B[43mdevice\u001B[49m\u001B[43m)\u001B[49m\u001B[43m)\u001B[49m\n",
      "Cell \u001B[1;32mIn [31], line 17\u001B[0m, in \u001B[0;36mtrain\u001B[1;34m(batch_size, epochs, optimizer, lr, weight_decay, model)\u001B[0m\n\u001B[0;32m     15\u001B[0m \u001B[38;5;28;01mfor\u001B[39;00m epoch \u001B[38;5;129;01min\u001B[39;00m \u001B[38;5;28mrange\u001B[39m(epochs):\n\u001B[0;32m     16\u001B[0m     \u001B[38;5;28mprint\u001B[39m(\u001B[38;5;124mf\u001B[39m\u001B[38;5;124m\"\u001B[39m\u001B[38;5;124mEpoch \u001B[39m\u001B[38;5;132;01m{\u001B[39;00mepoch\u001B[38;5;132;01m}\u001B[39;00m\u001B[38;5;124m: \u001B[39m\u001B[38;5;124m\"\u001B[39m)\n\u001B[1;32m---> 17\u001B[0m     train_acc, train_loss \u001B[38;5;241m=\u001B[39m \u001B[43mprocess_epoch\u001B[49m\u001B[43m(\u001B[49m\u001B[43mtrain_X\u001B[49m\u001B[43m,\u001B[49m\u001B[43m \u001B[49m\u001B[43mtrain_y\u001B[49m\u001B[43m,\u001B[49m\u001B[43m \u001B[49m\u001B[43mmodel\u001B[49m\u001B[43m,\u001B[49m\u001B[43m \u001B[49m\u001B[43mbatch_size\u001B[49m\u001B[38;5;241;43m=\u001B[39;49m\u001B[43mbatch_size\u001B[49m\u001B[43m,\u001B[49m\u001B[43m \u001B[49m\u001B[43mopt\u001B[49m\u001B[38;5;241;43m=\u001B[39;49m\u001B[43mopt\u001B[49m\u001B[43m)\u001B[49m\n\u001B[0;32m     18\u001B[0m     test_acc, test_loss \u001B[38;5;241m=\u001B[39m process_epoch(test_X, test_y, model, batch_size\u001B[38;5;241m=\u001B[39mbatch_size)\n\u001B[0;32m     19\u001B[0m     \u001B[38;5;28mprint\u001B[39m(\u001B[38;5;124mf\u001B[39m\u001B[38;5;124m\"\u001B[39m\u001B[38;5;124mTrain Accuracy: \u001B[39m\u001B[38;5;132;01m{\u001B[39;00m\u001B[38;5;28mround\u001B[39m(train_acc, \u001B[38;5;241m3\u001B[39m)\u001B[38;5;132;01m}\u001B[39;00m\u001B[38;5;124m Test Accuracy: \u001B[39m\u001B[38;5;132;01m{\u001B[39;00m\u001B[38;5;28mround\u001B[39m(test_acc, \u001B[38;5;241m3\u001B[39m)\u001B[38;5;132;01m}\u001B[39;00m\u001B[38;5;124m\"\u001B[39m)\n",
      "Cell \u001B[1;32mIn [102], line 23\u001B[0m, in \u001B[0;36mprocess_epoch\u001B[1;34m(X, y, model, opt, batch_size)\u001B[0m\n\u001B[0;32m     21\u001B[0m correct \u001B[38;5;241m+\u001B[39m\u001B[38;5;241m=\u001B[39m np\u001B[38;5;241m.\u001B[39msum(np\u001B[38;5;241m.\u001B[39marray(pred_y\u001B[38;5;241m.\u001B[39mdetach()\u001B[38;5;241m.\u001B[39mnumpy()\u001B[38;5;241m.\u001B[39margmax(axis\u001B[38;5;241m=\u001B[39m\u001B[38;5;241m1\u001B[39m) \u001B[38;5;241m==\u001B[39m y_batch\u001B[38;5;241m.\u001B[39margmax(axis\u001B[38;5;241m=\u001B[39m\u001B[38;5;241m1\u001B[39m), dtype\u001B[38;5;241m=\u001B[39mnp\u001B[38;5;241m.\u001B[39mint64))\n\u001B[0;32m     22\u001B[0m \u001B[38;5;28;01mif\u001B[39;00m opt:\n\u001B[1;32m---> 23\u001B[0m     \u001B[43mloss\u001B[49m\u001B[38;5;241;43m.\u001B[39;49m\u001B[43mbackward\u001B[49m\u001B[43m(\u001B[49m\u001B[43m)\u001B[49m\n\u001B[0;32m     24\u001B[0m     opt\u001B[38;5;241m.\u001B[39mstep()\n\u001B[0;32m     25\u001B[0m loss_sum \u001B[38;5;241m+\u001B[39m\u001B[38;5;241m=\u001B[39m loss\u001B[38;5;241m.\u001B[39mdetach()\u001B[38;5;241m.\u001B[39mnumpy()\n",
      "File \u001B[1;32m~\\Anaconda3\\envs\\CS4487-Project\\lib\\site-packages\\torch\\_tensor.py:487\u001B[0m, in \u001B[0;36mTensor.backward\u001B[1;34m(self, gradient, retain_graph, create_graph, inputs)\u001B[0m\n\u001B[0;32m    477\u001B[0m \u001B[38;5;28;01mif\u001B[39;00m has_torch_function_unary(\u001B[38;5;28mself\u001B[39m):\n\u001B[0;32m    478\u001B[0m     \u001B[38;5;28;01mreturn\u001B[39;00m handle_torch_function(\n\u001B[0;32m    479\u001B[0m         Tensor\u001B[38;5;241m.\u001B[39mbackward,\n\u001B[0;32m    480\u001B[0m         (\u001B[38;5;28mself\u001B[39m,),\n\u001B[1;32m   (...)\u001B[0m\n\u001B[0;32m    485\u001B[0m         inputs\u001B[38;5;241m=\u001B[39minputs,\n\u001B[0;32m    486\u001B[0m     )\n\u001B[1;32m--> 487\u001B[0m \u001B[43mtorch\u001B[49m\u001B[38;5;241;43m.\u001B[39;49m\u001B[43mautograd\u001B[49m\u001B[38;5;241;43m.\u001B[39;49m\u001B[43mbackward\u001B[49m\u001B[43m(\u001B[49m\n\u001B[0;32m    488\u001B[0m \u001B[43m    \u001B[49m\u001B[38;5;28;43mself\u001B[39;49m\u001B[43m,\u001B[49m\u001B[43m \u001B[49m\u001B[43mgradient\u001B[49m\u001B[43m,\u001B[49m\u001B[43m \u001B[49m\u001B[43mretain_graph\u001B[49m\u001B[43m,\u001B[49m\u001B[43m \u001B[49m\u001B[43mcreate_graph\u001B[49m\u001B[43m,\u001B[49m\u001B[43m \u001B[49m\u001B[43minputs\u001B[49m\u001B[38;5;241;43m=\u001B[39;49m\u001B[43minputs\u001B[49m\n\u001B[0;32m    489\u001B[0m \u001B[43m\u001B[49m\u001B[43m)\u001B[49m\n",
      "File \u001B[1;32m~\\Anaconda3\\envs\\CS4487-Project\\lib\\site-packages\\torch\\autograd\\__init__.py:197\u001B[0m, in \u001B[0;36mbackward\u001B[1;34m(tensors, grad_tensors, retain_graph, create_graph, grad_variables, inputs)\u001B[0m\n\u001B[0;32m    192\u001B[0m     retain_graph \u001B[38;5;241m=\u001B[39m create_graph\n\u001B[0;32m    194\u001B[0m \u001B[38;5;66;03m# The reason we repeat same the comment below is that\u001B[39;00m\n\u001B[0;32m    195\u001B[0m \u001B[38;5;66;03m# some Python versions print out the first line of a multi-line function\u001B[39;00m\n\u001B[0;32m    196\u001B[0m \u001B[38;5;66;03m# calls in the traceback and some print out the last line\u001B[39;00m\n\u001B[1;32m--> 197\u001B[0m \u001B[43mVariable\u001B[49m\u001B[38;5;241;43m.\u001B[39;49m\u001B[43m_execution_engine\u001B[49m\u001B[38;5;241;43m.\u001B[39;49m\u001B[43mrun_backward\u001B[49m\u001B[43m(\u001B[49m\u001B[43m  \u001B[49m\u001B[38;5;66;43;03m# Calls into the C++ engine to run the backward pass\u001B[39;49;00m\n\u001B[0;32m    198\u001B[0m \u001B[43m    \u001B[49m\u001B[43mtensors\u001B[49m\u001B[43m,\u001B[49m\u001B[43m \u001B[49m\u001B[43mgrad_tensors_\u001B[49m\u001B[43m,\u001B[49m\u001B[43m \u001B[49m\u001B[43mretain_graph\u001B[49m\u001B[43m,\u001B[49m\u001B[43m \u001B[49m\u001B[43mcreate_graph\u001B[49m\u001B[43m,\u001B[49m\u001B[43m \u001B[49m\u001B[43minputs\u001B[49m\u001B[43m,\u001B[49m\n\u001B[0;32m    199\u001B[0m \u001B[43m    \u001B[49m\u001B[43mallow_unreachable\u001B[49m\u001B[38;5;241;43m=\u001B[39;49m\u001B[38;5;28;43;01mTrue\u001B[39;49;00m\u001B[43m,\u001B[49m\u001B[43m \u001B[49m\u001B[43maccumulate_grad\u001B[49m\u001B[38;5;241;43m=\u001B[39;49m\u001B[38;5;28;43;01mTrue\u001B[39;49;00m\u001B[43m)\u001B[49m\n",
      "\u001B[1;31mKeyboardInterrupt\u001B[0m: "
     ]
    }
   ],
   "source": [
    "device = torch.device('cuda' if torch.cuda.is_available() else 'cpu')\n",
    "\n",
    "train(model=ResNet(ResidualModule, [3, 4, 6, 3]).to(device))"
   ],
   "metadata": {
    "collapsed": false
   }
  },
  {
   "cell_type": "markdown",
   "source": [],
   "metadata": {
    "collapsed": false
   }
  }
 ],
 "metadata": {
  "kernelspec": {
   "display_name": "Python 3",
   "language": "python",
   "name": "python3"
  },
  "language_info": {
   "codemirror_mode": {
    "name": "ipython",
    "version": 2
   },
   "file_extension": ".py",
   "mimetype": "text/x-python",
   "name": "python",
   "nbconvert_exporter": "python",
   "pygments_lexer": "ipython2",
   "version": "2.7.6"
  }
 },
 "nbformat": 4,
 "nbformat_minor": 0
}
