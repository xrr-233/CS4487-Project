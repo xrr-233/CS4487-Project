{
 "cells": [
  {
   "cell_type": "code",
   "execution_count": 1,
   "metadata": {
    "collapsed": true
   },
   "outputs": [],
   "source": [
    "import torch\n",
    "import torch.nn as nn"
   ]
  },
  {
   "cell_type": "code",
   "execution_count": 2,
   "outputs": [],
   "source": [
    "class Residual(nn.Module):\n",
    "    def __init__(self, fn: nn.Module):\n",
    "        super().__init__()\n",
    "        self.fn = fn\n",
    "\n",
    "    def forward(self, x):\n",
    "        return x + self.fn(x)"
   ],
   "metadata": {
    "collapsed": false,
    "pycharm": {
     "name": "#%%\n"
    }
   }
  },
  {
   "cell_type": "code",
   "execution_count": 3,
   "outputs": [],
   "source": [
    "class ResidualModule(nn.Module):\n",
    "    def __init__(self, input_dim, hidden_dim, norm=nn.BatchNorm1d, drop_prob=0.1):\n",
    "        super().__init__()\n",
    "        self.modules = nn.Sequential(\n",
    "            nn.Linear(input_dim, hidden_dim),\n",
    "            norm(hidden_dim),\n",
    "            nn.ReLU(),\n",
    "            nn.Dropout(drop_prob),\n",
    "            nn.Linear(hidden_dim, input_dim),\n",
    "            norm(input_dim),\n",
    "        )\n",
    "\n",
    "    def forward(self):\n",
    "        return nn.Sequential(\n",
    "            Residual(self.modules),\n",
    "            nn.ReLU()\n",
    "        )"
   ],
   "metadata": {
    "collapsed": false,
    "pycharm": {
     "name": "#%%\n"
    }
   }
  },
  {
   "cell_type": "code",
   "execution_count": 3,
   "outputs": [],
   "source": [
    "def ResNet(input_dim, hidden_dim=100, num_blocks=3, output_dim=2, norm=nn.BatchNorm1d, drop_prob=0.1):\n",
    "    modules = [\n",
    "        nn.Linear(input_dim, hidden_dim),\n",
    "        nn.ReLU()\n",
    "    ]\n",
    "    for i in range(num_blocks):\n",
    "        modules.append(ResidualModule(hidden_dim, hidden_dim // 2, norm, drop_prob))\n",
    "    modules.append(nn.Linear(hidden_dim, output_dim))\n",
    "    return nn.Sequential(*modules)"
   ],
   "metadata": {
    "collapsed": false,
    "pycharm": {
     "name": "#%%\n"
    }
   }
  },
  {
   "cell_type": "code",
   "execution_count": 17,
   "outputs": [
    {
     "name": "stdout",
     "output_type": "stream",
     "text": [
      "processing fake datasets\n"
     ]
    },
    {
     "name": "stderr",
     "output_type": "stream",
     "text": [
      "100%|██████████| 8000/8000 [00:26<00:00, 305.71it/s]\n"
     ]
    },
    {
     "name": "stdout",
     "output_type": "stream",
     "text": [
      "processing true datasets\n"
     ]
    },
    {
     "name": "stderr",
     "output_type": "stream",
     "text": [
      "100%|██████████| 4000/4000 [00:16<00:00, 244.05it/s]\n"
     ]
    },
    {
     "name": "stdout",
     "output_type": "stream",
     "text": [
      "(12000, 299, 299, 3)\n",
      "(12000, 1)\n"
     ]
    }
   ],
   "source": [
    "import os\n",
    "import numpy as np\n",
    "from PIL import Image\n",
    "from tqdm import tqdm\n",
    "\n",
    "X = []\n",
    "y = []\n",
    "manipulated_path = './data/manipulated'\n",
    "original_path = './data/original'\n",
    "print(\"processing fake datasets\")\n",
    "for img_name in tqdm(os.listdir(manipulated_path)):\n",
    "    X.append(np.array(Image.open(f'{manipulated_path}/{img_name}')))\n",
    "    y.append(0)\n",
    "print(\"processing true datasets\")\n",
    "for img_name in tqdm(os.listdir(original_path)):\n",
    "    X.append(np.array(Image.open(f'{original_path}/{img_name}')))\n",
    "    y.append(1)\n",
    "X = np.array(X)\n",
    "y = np.array(y).reshape((-1, 1))\n",
    "print(X.shape)\n",
    "print(y.shape)"
   ],
   "metadata": {
    "collapsed": false,
    "pycharm": {
     "name": "#%%\n"
    }
   }
  },
  {
   "cell_type": "markdown",
   "source": [],
   "metadata": {
    "collapsed": false
   }
  }
 ],
 "metadata": {
  "kernelspec": {
   "display_name": "Python 3",
   "language": "python",
   "name": "python3"
  },
  "language_info": {
   "codemirror_mode": {
    "name": "ipython",
    "version": 2
   },
   "file_extension": ".py",
   "mimetype": "text/x-python",
   "name": "python",
   "nbconvert_exporter": "python",
   "pygments_lexer": "ipython2",
   "version": "2.7.6"
  }
 },
 "nbformat": 4,
 "nbformat_minor": 0
}