{
 "cells": [
  {
   "cell_type": "code",
   "execution_count": 67,
   "metadata": {
    "collapsed": true
   },
   "outputs": [],
   "source": [
    "import torch\n",
    "import torch.nn as nn"
   ]
  },
  {
   "cell_type": "code",
   "execution_count": 68,
   "outputs": [],
   "source": [
    "class Residual(nn.Module):\n",
    "    def __init__(self, fns):\n",
    "        super().__init__()\n",
    "        self.fns = nn.ModuleList(fns)\n",
    "\n",
    "    def forward(self, x):\n",
    "        y = x\n",
    "        for fn in self.fns:\n",
    "            x = fn(x)\n",
    "        return x + y"
   ],
   "metadata": {
    "collapsed": false,
    "pycharm": {
     "name": "#%%\n"
    }
   }
  },
  {
   "cell_type": "code",
   "execution_count": 69,
   "outputs": [],
   "source": [
    "class ResidualModule(nn.Module):\n",
    "    def __init__(self, input_dim, hidden_dim, norm=nn.BatchNorm1d, drop_prob=0.1):\n",
    "        super().__init__()\n",
    "        self.modules = [nn.Linear(input_dim, hidden_dim),\n",
    "            norm(hidden_dim),\n",
    "            nn.ReLU(),\n",
    "            nn.Dropout(drop_prob),\n",
    "            nn.Linear(hidden_dim, input_dim),\n",
    "            norm(input_dim),\n",
    "        ]\n",
    "        self.layers = nn.ModuleList([\n",
    "            Residual(self.modules),\n",
    "            nn.ReLU()\n",
    "        ])\n",
    "\n",
    "    def forward(self, X):\n",
    "        for module in self.layers:\n",
    "            X = module(X)\n",
    "        return X"
   ],
   "metadata": {
    "collapsed": false,
    "pycharm": {
     "name": "#%%\n"
    }
   }
  },
  {
   "cell_type": "code",
   "execution_count": 70,
   "outputs": [],
   "source": [
    "class ResNet(nn.Module):\n",
    "    def __init__(self, input_dim, hidden_dim=100, num_blocks=3, output_dim=2, norm=nn.BatchNorm1d, drop_prob=0.1):\n",
    "        super().__init__()\n",
    "        self.modules = [\n",
    "            nn.Linear(input_dim, hidden_dim),\n",
    "            nn.ReLU()\n",
    "        ]\n",
    "        for i in range(num_blocks):\n",
    "            self.modules.append(ResidualModule(hidden_dim, hidden_dim // 2, norm, drop_prob))\n",
    "        self.modules.append(nn.Linear(hidden_dim, output_dim))\n",
    "        self.layers = nn.ModuleList(self.modules)\n",
    "\n",
    "    def forward(self, X):\n",
    "        for module in self.layers:\n",
    "            X = module(X)\n",
    "        return X"
   ],
   "metadata": {
    "collapsed": false,
    "pycharm": {
     "name": "#%%\n"
    }
   }
  },
  {
   "cell_type": "code",
   "execution_count": 71,
   "outputs": [
    {
     "name": "stdout",
     "output_type": "stream",
     "text": [
      "processing fake datasets\n"
     ]
    },
    {
     "name": "stderr",
     "output_type": "stream",
     "text": [
      "100%|██████████| 8000/8000 [00:33<00:00, 241.44it/s]\n"
     ]
    },
    {
     "name": "stdout",
     "output_type": "stream",
     "text": [
      "processing true datasets\n"
     ]
    },
    {
     "name": "stderr",
     "output_type": "stream",
     "text": [
      "100%|██████████| 4000/4000 [00:16<00:00, 243.59it/s]\n"
     ]
    },
    {
     "name": "stdout",
     "output_type": "stream",
     "text": [
      "(12000, 299, 299, 3)\n",
      "(12000, 2)\n"
     ]
    }
   ],
   "source": [
    "import os\n",
    "import numpy as np\n",
    "from PIL import Image\n",
    "from tqdm import tqdm\n",
    "\n",
    "X = []\n",
    "y = []\n",
    "manipulated_path = './data/manipulated'\n",
    "original_path = './data/original'\n",
    "print(\"processing fake datasets\")\n",
    "for img_name in tqdm(os.listdir(manipulated_path)):\n",
    "    X.append(np.array(Image.open(f'{manipulated_path}/{img_name}')))\n",
    "    y.append([1, 0])\n",
    "print(\"processing true datasets\")\n",
    "for img_name in tqdm(os.listdir(original_path)):\n",
    "    X.append(np.array(Image.open(f'{original_path}/{img_name}')))\n",
    "    y.append([0, 1])\n",
    "X = np.array(X)\n",
    "y = np.array(y)\n",
    "print(X.shape)\n",
    "print(y.shape)"
   ],
   "metadata": {
    "collapsed": false,
    "pycharm": {
     "name": "#%%\n"
    }
   }
  },
  {
   "cell_type": "code",
   "execution_count": 72,
   "outputs": [
    {
     "name": "stdout",
     "output_type": "stream",
     "text": [
      "9600\n",
      "1200\n",
      "1200\n"
     ]
    }
   ],
   "source": [
    "np.random.seed(42)\n",
    "indices = np.random.permutation(X.shape[0])\n",
    "X_shuffled = []\n",
    "y_shuffled = []\n",
    "for i in range(X.shape[0]):\n",
    "    X_shuffled.append(X[indices[i]])\n",
    "    y_shuffled.append(y[indices[i]])\n",
    "X_shuffled = np.array(X_shuffled, dtype=np.float32)\n",
    "y_shuffled = np.array(y_shuffled, dtype=np.float32)\n",
    "train_X = X_shuffled[:int(X.shape[0] * 0.8)]\n",
    "train_y = y_shuffled[:int(X.shape[0] * 0.8)]\n",
    "valid_X = X_shuffled[int(X.shape[0] * 0.8):int(X.shape[0] * 0.9)]\n",
    "valid_y = y_shuffled[int(X.shape[0] * 0.8):int(X.shape[0] * 0.9)]\n",
    "test_X = X_shuffled[int(X.shape[0] * 0.9):]\n",
    "test_y = y_shuffled[int(X.shape[0] * 0.9):]\n",
    "print(train_X.shape[0])\n",
    "print(valid_X.shape[0])\n",
    "print(test_X.shape[0])"
   ],
   "metadata": {
    "collapsed": false,
    "pycharm": {
     "name": "#%%\n"
    }
   }
  },
  {
   "cell_type": "code",
   "execution_count": 73,
   "outputs": [],
   "source": [
    "import math\n",
    "\n",
    "def process_epoch(X, y, model, opt=None, batch_size=100):\n",
    "    if opt:\n",
    "        model.train()\n",
    "    else:\n",
    "        model.eval()\n",
    "\n",
    "    loss_func = nn.CrossEntropyLoss()\n",
    "    correct, loss_sum, n_step, n_samples = 0, 0, 0, 0\n",
    "\n",
    "    iter = math.ceil(X.shape[0] / batch_size)\n",
    "    for batch in tqdm(range(iter)):\n",
    "        X_batch = X[batch * batch_size:min((batch + 1) * batch_size, X.shape[0])].reshape((-1, X[0].flatten().shape[0]))\n",
    "        y_batch = y[batch * batch_size:min((batch + 1) * batch_size, X.shape[0])]\n",
    "        if opt:\n",
    "            opt.zero_grad()\n",
    "        pred_y = model(torch.tensor(X_batch))\n",
    "        loss = loss_func(pred_y, torch.tensor(y_batch))\n",
    "        '''\n",
    "        for i in range(5):\n",
    "            print(pred_y.detach().numpy()[i])\n",
    "            print(pred_y.detach().numpy()[i].argmax())\n",
    "            print(y_batch[i])\n",
    "            print(y_batch[i].argmax())\n",
    "        temp = np.array(pred_y.detach().numpy().argmax(axis=1) == y_batch.argmax(axis=1), dtype=np.int64)\n",
    "        print(temp[:5])\n",
    "        '''\n",
    "        correct += np.sum(np.array(pred_y.detach().numpy().argmax(axis=1) == y_batch.argmax(axis=1), dtype=np.int64))\n",
    "        if opt:\n",
    "            loss.backward()\n",
    "            opt.step()\n",
    "        loss_sum += loss.detach().numpy()\n",
    "        n_step += 1\n",
    "        n_samples += X_batch.shape[0]\n",
    "\n",
    "    return 1 - correct / n_samples, loss_sum / n_step"
   ],
   "metadata": {
    "collapsed": false,
    "pycharm": {
     "name": "#%%\n"
    }
   }
  },
  {
   "cell_type": "code",
   "execution_count": 74,
   "outputs": [],
   "source": [
    "def train(\n",
    "        batch_size=100,\n",
    "        epochs=10,\n",
    "        optimizer=torch.optim.Adam,\n",
    "        lr=0.001,\n",
    "        weight_decay=0.001,\n",
    "        hidden_dim=100,\n",
    "        device=None):\n",
    "    if (device != None):\n",
    "        model = ResNet(X[0].flatten().shape[0], hidden_dim=hidden_dim).to(device)\n",
    "    else:\n",
    "        model = ResNet(X[0].flatten().shape[0], hidden_dim=hidden_dim)\n",
    "    opt = optimizer(model.parameters(), lr=lr, weight_decay=weight_decay)\n",
    "\n",
    "    for epoch in range(epochs):\n",
    "        print(f\"Epoch {epoch}: \")\n",
    "        train_acc, train_loss = process_epoch(train_X, train_y, model, batch_size=batch_size, opt=opt)\n",
    "        test_acc, test_loss = process_epoch(test_X, test_y, model, batch_size=batch_size)\n",
    "        print(f\"Train Accuracy: {round(train_acc, 3)} Test Accuracy: {round(test_acc, 3)}\")"
   ],
   "metadata": {
    "collapsed": false,
    "pycharm": {
     "name": "#%%\n"
    }
   }
  },
  {
   "cell_type": "code",
   "execution_count": 75,
   "outputs": [
    {
     "name": "stdout",
     "output_type": "stream",
     "text": [
      "Epoch 0: \n"
     ]
    },
    {
     "name": "stderr",
     "output_type": "stream",
     "text": [
      "100%|██████████| 96/96 [00:33<00:00,  2.83it/s]\n",
      "100%|██████████| 12/12 [00:00<00:00, 13.76it/s]\n"
     ]
    },
    {
     "name": "stdout",
     "output_type": "stream",
     "text": [
      "Train Accuracy: 0.438 Test Accuracy: 0.675\n",
      "Epoch 1: \n"
     ]
    },
    {
     "name": "stderr",
     "output_type": "stream",
     "text": [
      "100%|██████████| 96/96 [00:27<00:00,  3.53it/s]\n",
      "100%|██████████| 12/12 [00:00<00:00, 16.81it/s]\n"
     ]
    },
    {
     "name": "stdout",
     "output_type": "stream",
     "text": [
      "Train Accuracy: 0.427 Test Accuracy: 0.431\n",
      "Epoch 2: \n"
     ]
    },
    {
     "name": "stderr",
     "output_type": "stream",
     "text": [
      "100%|██████████| 96/96 [00:25<00:00,  3.74it/s]\n",
      "100%|██████████| 12/12 [00:00<00:00, 18.13it/s]\n"
     ]
    },
    {
     "name": "stdout",
     "output_type": "stream",
     "text": [
      "Train Accuracy: 0.427 Test Accuracy: 0.678\n",
      "Epoch 3: \n"
     ]
    },
    {
     "name": "stderr",
     "output_type": "stream",
     "text": [
      "100%|██████████| 96/96 [00:24<00:00,  3.92it/s]\n",
      "100%|██████████| 12/12 [00:00<00:00, 18.88it/s]\n"
     ]
    },
    {
     "name": "stdout",
     "output_type": "stream",
     "text": [
      "Train Accuracy: 0.41 Test Accuracy: 0.355\n",
      "Epoch 4: \n"
     ]
    },
    {
     "name": "stderr",
     "output_type": "stream",
     "text": [
      "100%|██████████| 96/96 [00:24<00:00,  3.93it/s]\n",
      "100%|██████████| 12/12 [00:00<00:00, 18.39it/s]\n"
     ]
    },
    {
     "name": "stdout",
     "output_type": "stream",
     "text": [
      "Train Accuracy: 0.418 Test Accuracy: 0.377\n",
      "Epoch 5: \n"
     ]
    },
    {
     "name": "stderr",
     "output_type": "stream",
     "text": [
      "100%|██████████| 96/96 [00:24<00:00,  3.96it/s]\n",
      "100%|██████████| 12/12 [00:00<00:00, 18.65it/s]\n"
     ]
    },
    {
     "name": "stdout",
     "output_type": "stream",
     "text": [
      "Train Accuracy: 0.409 Test Accuracy: 0.511\n",
      "Epoch 6: \n"
     ]
    },
    {
     "name": "stderr",
     "output_type": "stream",
     "text": [
      "100%|██████████| 96/96 [00:24<00:00,  3.93it/s]\n",
      "100%|██████████| 12/12 [00:00<00:00, 17.53it/s]\n"
     ]
    },
    {
     "name": "stdout",
     "output_type": "stream",
     "text": [
      "Train Accuracy: 0.419 Test Accuracy: 0.559\n",
      "Epoch 7: \n"
     ]
    },
    {
     "name": "stderr",
     "output_type": "stream",
     "text": [
      "100%|██████████| 96/96 [00:24<00:00,  3.99it/s]\n",
      "100%|██████████| 12/12 [00:00<00:00, 17.81it/s]\n"
     ]
    },
    {
     "name": "stdout",
     "output_type": "stream",
     "text": [
      "Train Accuracy: 0.418 Test Accuracy: 0.36\n",
      "Epoch 8: \n"
     ]
    },
    {
     "name": "stderr",
     "output_type": "stream",
     "text": [
      "100%|██████████| 96/96 [00:24<00:00,  3.98it/s]\n",
      "100%|██████████| 12/12 [00:00<00:00, 18.78it/s]\n"
     ]
    },
    {
     "name": "stdout",
     "output_type": "stream",
     "text": [
      "Train Accuracy: 0.406 Test Accuracy: 0.572\n",
      "Epoch 9: \n"
     ]
    },
    {
     "name": "stderr",
     "output_type": "stream",
     "text": [
      "100%|██████████| 96/96 [00:24<00:00,  3.93it/s]\n",
      "100%|██████████| 12/12 [00:00<00:00, 17.42it/s]"
     ]
    },
    {
     "name": "stdout",
     "output_type": "stream",
     "text": [
      "Train Accuracy: 0.391 Test Accuracy: 0.372\n"
     ]
    },
    {
     "name": "stderr",
     "output_type": "stream",
     "text": [
      "\n"
     ]
    }
   ],
   "source": [
    "device = torch.device('cuda' if torch.cuda.is_available() else 'cpu')\n",
    "\n",
    "train(device=device)"
   ],
   "metadata": {
    "collapsed": false,
    "pycharm": {
     "name": "#%%\n"
    }
   }
  },
  {
   "cell_type": "markdown",
   "source": [],
   "metadata": {
    "collapsed": false,
    "pycharm": {
     "name": "#%% md\n"
    }
   }
  }
 ],
 "metadata": {
  "kernelspec": {
   "display_name": "Python 3",
   "language": "python",
   "name": "python3"
  },
  "language_info": {
   "codemirror_mode": {
    "name": "ipython",
    "version": 2
   },
   "file_extension": ".py",
   "mimetype": "text/x-python",
   "name": "python",
   "nbconvert_exporter": "python",
   "pygments_lexer": "ipython2",
   "version": "2.7.6"
  }
 },
 "nbformat": 4,
 "nbformat_minor": 0
}