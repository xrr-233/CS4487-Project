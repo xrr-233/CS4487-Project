{
 "cells": [
  {
   "cell_type": "code",
   "execution_count": 59,
   "metadata": {
    "collapsed": true
   },
   "outputs": [],
   "source": [
    "import torch\n",
    "import torch.nn as nn\n",
    "from torch.utils.data import Dataset, DataLoader"
   ]
  },
  {
   "cell_type": "code",
   "execution_count": 66,
   "outputs": [
    {
     "name": "stdout",
     "output_type": "stream",
     "text": [
      "9600\n",
      "2400\n",
      "torch.Size([5, 299, 299, 3]) torch.Size([5, 2])\n"
     ]
    }
   ],
   "source": [
    "from PIL import Image\n",
    "import os\n",
    "\n",
    "class DeepFakeDataset(Dataset):\n",
    "    def __init__(self, manipulated_path, original_path, is_train):\n",
    "        super().__init__()\n",
    "        if (is_train):\n",
    "            self.left_bound = 0\n",
    "            self.right_bound = 0.8\n",
    "        else:\n",
    "            self.left_bound = 0.8\n",
    "            self.right_bound = 1\n",
    "        self.manipulated_path = manipulated_path\n",
    "        self.manipulated_path_files = os.listdir(self.manipulated_path)\n",
    "        self.manipulated_path_files = self.manipulated_path_files[int(len(self.manipulated_path_files) * self.left_bound):int(len(self.manipulated_path_files) * self.right_bound)]\n",
    "        self.original_path = original_path\n",
    "        self.original_path_files = os.listdir(self.original_path)\n",
    "        self.original_path_files = self.original_path_files[int(len(self.original_path_files) * self.left_bound):int(len(self.original_path_files) * self.right_bound)]\n",
    "    def __len__(self):\n",
    "        return len(self.manipulated_path_files) + len(self.original_path_files)\n",
    "    def __getitem__(self, idx):\n",
    "        if (idx < len(self.manipulated_path_files)):\n",
    "            return np.array(Image.open(f'{self.manipulated_path}/{self.manipulated_path_files[idx]}')), np.array([1, 0])\n",
    "        else:\n",
    "            return np.array(Image.open(f'{self.original_path}/{self.original_path_files[idx - len(self.manipulated_path_files)]}')), np.array([0, 1])\n",
    "\n",
    "train_data = DeepFakeDataset('./data/manipulated', './data/original', True)\n",
    "test_data = DeepFakeDataset('./data/manipulated', './data/original', False)\n",
    "print(len(train_data))\n",
    "print(len(test_data))\n",
    "train_dataloader = DataLoader(train_data, batch_size=5, shuffle=True)\n",
    "test_dataloader = DataLoader(test_data, batch_size=5, shuffle=True)\n",
    "for batch in train_dataloader:\n",
    "    print(batch[0].shape, batch[1].shape)\n",
    "    break"
   ],
   "metadata": {
    "collapsed": false
   }
  },
  {
   "cell_type": "code",
   "execution_count": 67,
   "outputs": [],
   "source": [
    "class BenchmarkCNN(nn.Module):\n",
    "    def __init__(self, input_shape, num_classes):\n",
    "        super().__init__()\n",
    "        self.layers = nn.ModuleList([\n",
    "            nn.Conv2d(3, 32, 3, padding=1),\n",
    "            nn.ReLU(),\n",
    "            nn.Conv2d(32, 32, 3, padding=1),\n",
    "            nn.ReLU(),\n",
    "            nn.MaxPool2d(2),\n",
    "            nn.Conv2d(32, 64, 3, padding=1),\n",
    "            nn.ReLU(),\n",
    "            nn.Conv2d(64, 64, 3, padding=1),\n",
    "            nn.ReLU(),\n",
    "            nn.MaxPool2d(2),\n",
    "            nn.Conv2d(64, 128, 3),\n",
    "            nn.ReLU(),\n",
    "            nn.Conv2d(128, 128, 3),\n",
    "            nn.ReLU(),\n",
    "            nn.MaxPool2d(2),\n",
    "            nn.Flatten(),\n",
    "            nn.Linear(128 * 14 * 14, 128),\n",
    "            nn.ReLU(),\n",
    "            nn.Dropout(0.5),\n",
    "            nn.Linear(128, num_classes),\n",
    "            nn.Softmax(dim=1),\n",
    "        ])\n",
    "        '''x = Input(shape=input_shape)\n",
    "        h = Conv2D(32, padding='same', kernel_size=(3,3), activation='relu')(x)\n",
    "        h = Conv2D(32, padding='same', kernel_size=(3,3), activation='relu')(x)\n",
    "        h = MaxPooling2D(pool_size=(2,2))(h)\n",
    "        h = Conv2D(64, padding='same', kernel_size=(3,3), activation='relu')(h)\n",
    "        h = Conv2D(64, padding='same', kernel_size=(3,3), activation='relu')(h)\n",
    "        h = MaxPooling2D(pool_size=(2,2))(h)\n",
    "        h = Conv2D(128, kernel_size=(3,3), activation='relu')(h)\n",
    "        h = Conv2D(128, kernel_size=(3,3), activation='relu')(h)\n",
    "        h = MaxPooling2D(pool_size=(2,2))(h)\n",
    "        h = Flatten()(h)\n",
    "        h = Dense(128, activation='relu')(h)\n",
    "        h = Dropout(.5)(h)\n",
    "        output = Dense(target_labels.shape[0], activation='softmax')(h)\n",
    "\n",
    "        model = tf.keras.Model(inputs=x, outputs=output)\n",
    "\n",
    "        model.compile(optimizer='adam',\n",
    "                 loss='categorical_crossentropy',\n",
    "                 metrics=['accuracy'])'''\n",
    "\n",
    "    def forward(self, X):\n",
    "        for module in self.layers:\n",
    "            # print(\"------\")\n",
    "            # print(X.shape)\n",
    "            # print(module)\n",
    "            X = module(X)\n",
    "        return self.layers"
   ],
   "metadata": {
    "collapsed": false
   }
  },
  {
   "cell_type": "code",
   "execution_count": 68,
   "outputs": [],
   "source": [
    "model = BenchmarkCNN((128, 128, 3), 2)"
   ],
   "metadata": {
    "collapsed": false
   }
  },
  {
   "cell_type": "code",
   "execution_count": 69,
   "outputs": [],
   "source": [
    "import numpy as np\n",
    "\n",
    "x = np.zeros((1, 3, 128, 128), dtype=np.float32)\n",
    "pred = model(torch.tensor(x))"
   ],
   "metadata": {
    "collapsed": false
   }
  },
  {
   "cell_type": "code",
   "execution_count": null,
   "outputs": [],
   "source": [
    "# https://zhuanlan.zhihu.com/p/434477086"
   ],
   "metadata": {
    "collapsed": false
   }
  }
 ],
 "metadata": {
  "kernelspec": {
   "display_name": "Python 3",
   "language": "python",
   "name": "python3"
  },
  "language_info": {
   "codemirror_mode": {
    "name": "ipython",
    "version": 2
   },
   "file_extension": ".py",
   "mimetype": "text/x-python",
   "name": "python",
   "nbconvert_exporter": "python",
   "pygments_lexer": "ipython2",
   "version": "2.7.6"
  }
 },
 "nbformat": 4,
 "nbformat_minor": 0
}
